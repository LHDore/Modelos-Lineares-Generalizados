{
 "cells": [
  {
   "cell_type": "markdown",
   "metadata": {},
   "source": [
    "<div style=\"position:relative; height:160px;\">\n",
    "<img src=\"logoDECATUFS.png\" width=\"500\" height=\"500\" style=\"position:absolute; left:-8px;\">\n",
    "</div>"
   ]
  },
  {
   "cell_type": "markdown",
   "metadata": {},
   "source": [
    "<div style=\"text-align:center;font-size:17px; white-space:pre;margin-top:-35px\">\n",
    "        <h3>             Modelos Lineares Generalizados</h3>\n",
    "        Disciplina ofertada pelo DECAT/UFS\n",
    "        Código: ESTAT0092\n",
    "        Nível: Graduação\n",
    "        Carga horária: 60h\n",
    "        Período: 2020.2\n",
    "        Professor responsável e ministrante: Luiz Henrique Dore\n",
    "        <h3>            Aula 13: avaliação da significância individual dos coeficientes de regressão</h3>\n",
    "</div>"
   ]
  },
  {
   "cell_type": "markdown",
   "metadata": {},
   "source": [
    "# Exemplo 3"
   ]
  },
  {
   "cell_type": "markdown",
   "metadata": {},
   "source": [
    "<p style=\"text-align: justify; font-size:16px\">\n",
    "Considere o conjunto de dados <b>icu.csv</b>, descrito no exemplo 3 da aula 2. Os objetivos são os seguintes: ajustar um modelo de regressão logística, no qual a variável resposta é a variável <b>sta</b> (Sobrevivência) e a variável preditora é a variável <b>age</b> (Idade) e predizer as probabilidades de sobrevivência dos pacientes com as idades na tabela abaixo.\n",
    "    <table style=\"width:15%\" align=\"center\">\n",
    "  <tr>\n",
    "    <th style=\"text-align: center; vertical-align: middle;\">Idade</th>\n",
    "  </tr>\n",
    "  <tr>\n",
    "    <td style=\"text-align: center; vertical-align: middle;\">35</td>\n",
    "  </tr>\n",
    "  <tr>\n",
    "    <td style=\"text-align: center; vertical-align: middle;\">70</td>\n",
    "  </tr>\n",
    "  <tr>\n",
    "    <td style=\"text-align: center; vertical-align: middle;\">78</td>\n",
    "  </tr>\n",
    "</table>\n",
    "<p>"
   ]
  },
  {
   "cell_type": "markdown",
   "metadata": {},
   "source": [
    "### 3.1 Leitura e visualização dos dados"
   ]
  },
  {
   "cell_type": "code",
   "execution_count": 1,
   "metadata": {},
   "outputs": [
    {
     "data": {
      "text/html": [
       "<table>\n",
       "<caption>A data.frame: 6 × 21</caption>\n",
       "<thead>\n",
       "\t<tr><th></th><th scope=col>id</th><th scope=col>sta</th><th scope=col>age</th><th scope=col>gender</th><th scope=col>race</th><th scope=col>ser</th><th scope=col>can</th><th scope=col>crn</th><th scope=col>inf</th><th scope=col>cpr</th><th scope=col>⋯</th><th scope=col>hra</th><th scope=col>pre</th><th scope=col>type</th><th scope=col>fra</th><th scope=col>po2</th><th scope=col>ph</th><th scope=col>pco</th><th scope=col>bic</th><th scope=col>cre</th><th scope=col>loc</th></tr>\n",
       "\t<tr><th></th><th scope=col>&lt;int&gt;</th><th scope=col>&lt;fct&gt;</th><th scope=col>&lt;int&gt;</th><th scope=col>&lt;fct&gt;</th><th scope=col>&lt;fct&gt;</th><th scope=col>&lt;fct&gt;</th><th scope=col>&lt;fct&gt;</th><th scope=col>&lt;fct&gt;</th><th scope=col>&lt;fct&gt;</th><th scope=col>&lt;fct&gt;</th><th scope=col>⋯</th><th scope=col>&lt;int&gt;</th><th scope=col>&lt;fct&gt;</th><th scope=col>&lt;fct&gt;</th><th scope=col>&lt;fct&gt;</th><th scope=col>&lt;fct&gt;</th><th scope=col>&lt;fct&gt;</th><th scope=col>&lt;fct&gt;</th><th scope=col>&lt;fct&gt;</th><th scope=col>&lt;fct&gt;</th><th scope=col>&lt;fct&gt;</th></tr>\n",
       "</thead>\n",
       "<tbody>\n",
       "\t<tr><th scope=row>1</th><td> 4</td><td>Died </td><td>87</td><td>Female</td><td>White</td><td>Surgical</td><td>No</td><td>No</td><td>Yes</td><td>No</td><td>⋯</td><td> 96</td><td>No </td><td>Emergency</td><td>Yes</td><td>&lt;= 60</td><td>&lt; 7.25 </td><td>&gt; 45 </td><td>&gt;= 18</td><td>&lt;= 2.0</td><td>Nothing</td></tr>\n",
       "\t<tr><th scope=row>2</th><td> 8</td><td>Lived</td><td>27</td><td>Female</td><td>White</td><td>Medical </td><td>No</td><td>No</td><td>Yes</td><td>No</td><td>⋯</td><td> 88</td><td>No </td><td>Emergency</td><td>No </td><td>&gt; 60 </td><td>&gt;= 7.25</td><td>&lt;= 45</td><td>&gt;= 18</td><td>&lt;= 2.0</td><td>Nothing</td></tr>\n",
       "\t<tr><th scope=row>3</th><td>12</td><td>Lived</td><td>59</td><td><span style=white-space:pre-wrap>Male  </span></td><td>White</td><td>Medical </td><td>No</td><td>No</td><td>No </td><td>No</td><td>⋯</td><td> 80</td><td>Yes</td><td>Emergency</td><td>No </td><td>&gt; 60 </td><td>&gt;= 7.25</td><td>&lt;= 45</td><td>&gt;= 18</td><td>&lt;= 2.0</td><td>Nothing</td></tr>\n",
       "\t<tr><th scope=row>4</th><td>14</td><td>Lived</td><td>77</td><td><span style=white-space:pre-wrap>Male  </span></td><td>White</td><td>Surgical</td><td>No</td><td>No</td><td>No </td><td>No</td><td>⋯</td><td> 70</td><td>No </td><td>Elective </td><td>No </td><td>&gt; 60 </td><td>&gt;= 7.25</td><td>&lt;= 45</td><td>&gt;= 18</td><td>&lt;= 2.0</td><td>Nothing</td></tr>\n",
       "\t<tr><th scope=row>5</th><td>27</td><td>Died </td><td>76</td><td>Female</td><td>White</td><td>Surgical</td><td>No</td><td>No</td><td>Yes</td><td>No</td><td>⋯</td><td> 90</td><td>Yes</td><td>Emergency</td><td>No </td><td>&gt; 60 </td><td>&gt;= 7.25</td><td>&lt;= 45</td><td>&gt;= 18</td><td>&lt;= 2.0</td><td>Nothing</td></tr>\n",
       "\t<tr><th scope=row>6</th><td>28</td><td>Lived</td><td>54</td><td><span style=white-space:pre-wrap>Male  </span></td><td>White</td><td>Medical </td><td>No</td><td>No</td><td>Yes</td><td>No</td><td>⋯</td><td>103</td><td>No </td><td>Emergency</td><td>Yes</td><td>&gt; 60 </td><td>&gt;= 7.25</td><td>&lt;= 45</td><td>&gt;= 18</td><td>&lt;= 2.0</td><td>Nothing</td></tr>\n",
       "</tbody>\n",
       "</table>\n"
      ],
      "text/latex": [
       "A data.frame: 6 × 21\n",
       "\\begin{tabular}{r|lllllllllllllllllllll}\n",
       "  & id & sta & age & gender & race & ser & can & crn & inf & cpr & ⋯ & hra & pre & type & fra & po2 & ph & pco & bic & cre & loc\\\\\n",
       "  & <int> & <fct> & <int> & <fct> & <fct> & <fct> & <fct> & <fct> & <fct> & <fct> & ⋯ & <int> & <fct> & <fct> & <fct> & <fct> & <fct> & <fct> & <fct> & <fct> & <fct>\\\\\n",
       "\\hline\n",
       "\t1 &  4 & Died  & 87 & Female & White & Surgical & No & No & Yes & No & ⋯ &  96 & No  & Emergency & Yes & <= 60 & < 7.25  & > 45  & >= 18 & <= 2.0 & Nothing\\\\\n",
       "\t2 &  8 & Lived & 27 & Female & White & Medical  & No & No & Yes & No & ⋯ &  88 & No  & Emergency & No  & > 60  & >= 7.25 & <= 45 & >= 18 & <= 2.0 & Nothing\\\\\n",
       "\t3 & 12 & Lived & 59 & Male   & White & Medical  & No & No & No  & No & ⋯ &  80 & Yes & Emergency & No  & > 60  & >= 7.25 & <= 45 & >= 18 & <= 2.0 & Nothing\\\\\n",
       "\t4 & 14 & Lived & 77 & Male   & White & Surgical & No & No & No  & No & ⋯ &  70 & No  & Elective  & No  & > 60  & >= 7.25 & <= 45 & >= 18 & <= 2.0 & Nothing\\\\\n",
       "\t5 & 27 & Died  & 76 & Female & White & Surgical & No & No & Yes & No & ⋯ &  90 & Yes & Emergency & No  & > 60  & >= 7.25 & <= 45 & >= 18 & <= 2.0 & Nothing\\\\\n",
       "\t6 & 28 & Lived & 54 & Male   & White & Medical  & No & No & Yes & No & ⋯ & 103 & No  & Emergency & Yes & > 60  & >= 7.25 & <= 45 & >= 18 & <= 2.0 & Nothing\\\\\n",
       "\\end{tabular}\n"
      ],
      "text/markdown": [
       "\n",
       "A data.frame: 6 × 21\n",
       "\n",
       "| <!--/--> | id &lt;int&gt; | sta &lt;fct&gt; | age &lt;int&gt; | gender &lt;fct&gt; | race &lt;fct&gt; | ser &lt;fct&gt; | can &lt;fct&gt; | crn &lt;fct&gt; | inf &lt;fct&gt; | cpr &lt;fct&gt; | ⋯ ⋯ | hra &lt;int&gt; | pre &lt;fct&gt; | type &lt;fct&gt; | fra &lt;fct&gt; | po2 &lt;fct&gt; | ph &lt;fct&gt; | pco &lt;fct&gt; | bic &lt;fct&gt; | cre &lt;fct&gt; | loc &lt;fct&gt; |\n",
       "|---|---|---|---|---|---|---|---|---|---|---|---|---|---|---|---|---|---|---|---|---|---|\n",
       "| 1 |  4 | Died  | 87 | Female | White | Surgical | No | No | Yes | No | ⋯ |  96 | No  | Emergency | Yes | &lt;= 60 | &lt; 7.25  | &gt; 45  | &gt;= 18 | &lt;= 2.0 | Nothing |\n",
       "| 2 |  8 | Lived | 27 | Female | White | Medical  | No | No | Yes | No | ⋯ |  88 | No  | Emergency | No  | &gt; 60  | &gt;= 7.25 | &lt;= 45 | &gt;= 18 | &lt;= 2.0 | Nothing |\n",
       "| 3 | 12 | Lived | 59 | Male   | White | Medical  | No | No | No  | No | ⋯ |  80 | Yes | Emergency | No  | &gt; 60  | &gt;= 7.25 | &lt;= 45 | &gt;= 18 | &lt;= 2.0 | Nothing |\n",
       "| 4 | 14 | Lived | 77 | Male   | White | Surgical | No | No | No  | No | ⋯ |  70 | No  | Elective  | No  | &gt; 60  | &gt;= 7.25 | &lt;= 45 | &gt;= 18 | &lt;= 2.0 | Nothing |\n",
       "| 5 | 27 | Died  | 76 | Female | White | Surgical | No | No | Yes | No | ⋯ |  90 | Yes | Emergency | No  | &gt; 60  | &gt;= 7.25 | &lt;= 45 | &gt;= 18 | &lt;= 2.0 | Nothing |\n",
       "| 6 | 28 | Lived | 54 | Male   | White | Medical  | No | No | Yes | No | ⋯ | 103 | No  | Emergency | Yes | &gt; 60  | &gt;= 7.25 | &lt;= 45 | &gt;= 18 | &lt;= 2.0 | Nothing |\n",
       "\n"
      ],
      "text/plain": [
       "  id sta   age gender race  ser      can crn inf cpr ⋯ hra pre type      fra\n",
       "1  4 Died  87  Female White Surgical No  No  Yes No  ⋯  96 No  Emergency Yes\n",
       "2  8 Lived 27  Female White Medical  No  No  Yes No  ⋯  88 No  Emergency No \n",
       "3 12 Lived 59  Male   White Medical  No  No  No  No  ⋯  80 Yes Emergency No \n",
       "4 14 Lived 77  Male   White Surgical No  No  No  No  ⋯  70 No  Elective  No \n",
       "5 27 Died  76  Female White Surgical No  No  Yes No  ⋯  90 Yes Emergency No \n",
       "6 28 Lived 54  Male   White Medical  No  No  Yes No  ⋯ 103 No  Emergency Yes\n",
       "  po2   ph      pco   bic   cre    loc    \n",
       "1 <= 60 < 7.25  > 45  >= 18 <= 2.0 Nothing\n",
       "2 > 60  >= 7.25 <= 45 >= 18 <= 2.0 Nothing\n",
       "3 > 60  >= 7.25 <= 45 >= 18 <= 2.0 Nothing\n",
       "4 > 60  >= 7.25 <= 45 >= 18 <= 2.0 Nothing\n",
       "5 > 60  >= 7.25 <= 45 >= 18 <= 2.0 Nothing\n",
       "6 > 60  >= 7.25 <= 45 >= 18 <= 2.0 Nothing"
      ]
     },
     "metadata": {},
     "output_type": "display_data"
    }
   ],
   "source": [
    "dados<-read.csv(\"/Dados/Google_Drive_UFS/Aulas/2020_2/MLG/Dados/icu.csv\",header=TRUE)\n",
    "n<-dim(dados)[1] #Número de observações\n",
    "head(dados) #Visualizando as primeiras observações"
   ]
  },
  {
   "cell_type": "code",
   "execution_count": 2,
   "metadata": {},
   "outputs": [],
   "source": [
    "sta<-as.numeric(dados[,\"sta\"]==\"Lived\") #0 para Died e 1 para Lived\n",
    "age<-dados[,3]"
   ]
  },
  {
   "cell_type": "markdown",
   "metadata": {},
   "source": [
    "### 3.2 Formulação do modelo"
   ]
  },
  {
   "cell_type": "markdown",
   "metadata": {},
   "source": [
    "<p style=\"text-align: justify; font-size:15px\">\n",
    "    <ol style=\"font-size:16px\">\n",
    "        <li>$Sobrevivência\\sim Bernoulli(\\mu)$;</li>\n",
    "        <li>$\\eta=\\beta_0+\\beta_1\\cdot Idade$;</li>\n",
    "        <li>$\\ln\\left(\\frac{\\mu}{1-\\mu}\\right)=\\eta$.</li>\n",
    "    </ol>\n",
    "</p>"
   ]
  },
  {
   "cell_type": "markdown",
   "metadata": {},
   "source": [
    "### 3.3 Estimação dos parâmetros por máxima verossimilhança usando a função ``glm``"
   ]
  },
  {
   "cell_type": "markdown",
   "metadata": {},
   "source": [
    "<p style=\"text-align: justify;font-size: 16px\">Estimação dos coeficientes de regressão.</p>"
   ]
  },
  {
   "cell_type": "code",
   "execution_count": 3,
   "metadata": {},
   "outputs": [],
   "source": [
    "aj<-glm(formula=sta~age,family=binomial(link=\"logit\"),data=dados)\n",
    "beta<-aj$coefficients"
   ]
  },
  {
   "cell_type": "markdown",
   "metadata": {},
   "source": [
    "<p style=\"text-align: justify;font-size: 16px\">Visualizando as estimativas dos coeficientes de regressão.</p>"
   ]
  },
  {
   "cell_type": "code",
   "execution_count": 4,
   "metadata": {},
   "outputs": [
    {
     "name": "stdout",
     "output_type": "stream",
     "text": [
      "(Intercept)         age \n",
      " 3.05851323 -0.02754261 \n"
     ]
    }
   ],
   "source": [
    "print(beta)"
   ]
  },
  {
   "cell_type": "markdown",
   "metadata": {},
   "source": [
    "### 3.4 Realizando as predições e calculando os intervalos de predição manualmente"
   ]
  },
  {
   "cell_type": "markdown",
   "metadata": {},
   "source": [
    "<p style=\"text-align: justify; font-size:16px\">Gerando o vetor dos valores observados da resposta e a matriz design.</p>"
   ]
  },
  {
   "cell_type": "code",
   "execution_count": 5,
   "metadata": {},
   "outputs": [
    {
     "data": {
      "text/html": [
       "<table>\n",
       "<caption>A matrix: 6 × 2 of type dbl</caption>\n",
       "<thead>\n",
       "\t<tr><th scope=col></th><th scope=col>Idade</th></tr>\n",
       "</thead>\n",
       "<tbody>\n",
       "\t<tr><td>1</td><td>87</td></tr>\n",
       "\t<tr><td>1</td><td>27</td></tr>\n",
       "\t<tr><td>1</td><td>59</td></tr>\n",
       "\t<tr><td>1</td><td>77</td></tr>\n",
       "\t<tr><td>1</td><td>76</td></tr>\n",
       "\t<tr><td>1</td><td>54</td></tr>\n",
       "</tbody>\n",
       "</table>\n"
      ],
      "text/latex": [
       "A matrix: 6 × 2 of type dbl\n",
       "\\begin{tabular}{ll}\n",
       "  & Idade\\\\\n",
       "\\hline\n",
       "\t 1 & 87\\\\\n",
       "\t 1 & 27\\\\\n",
       "\t 1 & 59\\\\\n",
       "\t 1 & 77\\\\\n",
       "\t 1 & 76\\\\\n",
       "\t 1 & 54\\\\\n",
       "\\end{tabular}\n"
      ],
      "text/markdown": [
       "\n",
       "A matrix: 6 × 2 of type dbl\n",
       "\n",
       "| <!----> | Idade |\n",
       "|---|---|\n",
       "| 1 | 87 |\n",
       "| 1 | 27 |\n",
       "| 1 | 59 |\n",
       "| 1 | 77 |\n",
       "| 1 | 76 |\n",
       "| 1 | 54 |\n",
       "\n"
      ],
      "text/plain": [
       "       Idade\n",
       "[1,] 1 87   \n",
       "[2,] 1 27   \n",
       "[3,] 1 59   \n",
       "[4,] 1 77   \n",
       "[5,] 1 76   \n",
       "[6,] 1 54   "
      ]
     },
     "metadata": {},
     "output_type": "display_data"
    }
   ],
   "source": [
    "y<-sta\n",
    "X<-age\n",
    "X<-cbind(1,X)\n",
    "colnames(X)<-c(\"\",\"Idade\")\n",
    "head(X)"
   ]
  },
  {
   "cell_type": "markdown",
   "metadata": {},
   "source": [
    "<p style=\"text-align: justify; font-size:16px\">No caso da distribuição de Bernoulli, com ligação canônica, tem-se $\\mu=g^{-1}(\\eta)=\\frac{e^{\\eta}}{1+e^{\\eta}}$. Logo, o valor da probabilidade de sobrevivência predita pelo modelo é \n",
    "    $$\\hat\\mu=g^{-1}(\\hat\\eta)=\\frac{e^{\\hat\\eta}}{1+e^{\\hat\\eta}}.$$\n",
    "O intervalo de predição é\n",
    "    $$\\left(\\frac{e^{\\hat\\eta-z_{\\left(1-\\frac{\\alpha}{2}\\right)}\\sqrt{\\hat{\\sigma}^2_{\\hat\\eta}}}}{1+e^{\\hat\\eta-z_{\\left(1-\\frac{\\alpha}{2}\\right)}\\sqrt{\\hat{\\sigma}^2_{\\hat\\eta}}}};\\ \\frac{e^{\\hat\\eta+z_{\\left(1-\\frac{\\alpha}{2}\\right)}\\sqrt{\\hat{\\sigma}^2_{\\hat\\eta}}}}{1+e^{\\hat\\eta+z_{\\left(1-\\frac{\\alpha}{2}\\right)}\\sqrt{\\hat{\\sigma}^2_{\\hat\\eta}}}}\\right),$$\n",
    "onde $\\hat{\\sigma}^2_{\\hat\\eta}=\\boldsymbol{x}^T\\boldsymbol{K}^{\\ \\ \\ -1}_{\\boldsymbol{\\widehat\\beta}\\boldsymbol{\\widehat\\beta}}\\boldsymbol{x},\\ $ com $\\ \\boldsymbol{K}^{\\ \\ \\ -1}_{\\boldsymbol{\\widehat\\beta}\\boldsymbol{\\widehat\\beta}}=(X^T{\\widehat{\\boldsymbol{V}}}X)^{-1},\\ $ $\\widehat{\\boldsymbol{V}}=\\hbox{diag}\\{\\hat\\mu_1(1-\\mu_1),\\cdots\\hat\\mu_n(1-\\mu_n)\\}\\ $ e $\\ \\hat\\mu_i=\\frac{e^{\\eta_i}}{1+e^{\\eta_i}}$ (ver exemplo 3 da aula 5). \n",
    "</p>"
   ]
  },
  {
   "cell_type": "markdown",
   "metadata": {},
   "source": [
    "<p style=\"text-align: justify;font-size: 16px\">Calculando e visualizando a matriz $\\boldsymbol{K}^{\\ \\ \\ -1}_{\\boldsymbol{\\widehat\\beta}\\boldsymbol{\\widehat\\beta}}$.</p>"
   ]
  },
  {
   "cell_type": "code",
   "execution_count": 6,
   "metadata": {},
   "outputs": [
    {
     "data": {
      "text/html": [
       "<table>\n",
       "<caption>A matrix: 2 × 2 of type dbl</caption>\n",
       "<thead>\n",
       "\t<tr><th></th><th scope=col></th><th scope=col>Idade</th></tr>\n",
       "</thead>\n",
       "<tbody>\n",
       "\t<tr><th scope=row></th><td> 0.484585814</td><td>-0.0071037728</td></tr>\n",
       "\t<tr><th scope=row>Idade</th><td>-0.007103773</td><td> 0.0001116123</td></tr>\n",
       "</tbody>\n",
       "</table>\n"
      ],
      "text/latex": [
       "A matrix: 2 × 2 of type dbl\n",
       "\\begin{tabular}{r|ll}\n",
       "  &  & Idade\\\\\n",
       "\\hline\n",
       "\t &  0.484585814 & -0.0071037728\\\\\n",
       "\tIdade & -0.007103773 &  0.0001116123\\\\\n",
       "\\end{tabular}\n"
      ],
      "text/markdown": [
       "\n",
       "A matrix: 2 × 2 of type dbl\n",
       "\n",
       "| <!--/--> | <!----> | Idade |\n",
       "|---|---|---|\n",
       "| <!----> |  0.484585814 | -0.0071037728 |\n",
       "| Idade | -0.007103773 |  0.0001116123 |\n",
       "\n"
      ],
      "text/plain": [
       "                   Idade        \n",
       "       0.484585814 -0.0071037728\n",
       "Idade -0.007103773  0.0001116123"
      ]
     },
     "metadata": {},
     "output_type": "display_data"
    }
   ],
   "source": [
    "eta<-as.numeric(X%*%beta) #Estimativa de máxima verossimilhança do preditor linear\n",
    "mu<-exp(eta)/(1+exp(eta)) #Estimativa de máxima verossimilhança das médias\n",
    "V<-diag(mu*(1-mu)) #Calculando a estimativa da matriz V das funções de variância\n",
    "Kbb<-t(X)%*%V%*%X #Calcuando Kbb\n",
    "KbbInv<-solve(Kbb) #Calcuando a inversa de Kbb\n",
    "KbbInv"
   ]
  },
  {
   "cell_type": "markdown",
   "metadata": {},
   "source": [
    "<p style=\"text-align: justify;font-size: 16px\">Construindo a matriz contendo os valores das variáveis preditoras para os quais deseja-se predizer os valores de $\\mu$.</p>"
   ]
  },
  {
   "cell_type": "code",
   "execution_count": 7,
   "metadata": {},
   "outputs": [
    {
     "data": {
      "text/html": [
       "<table>\n",
       "<caption>A matrix: 3 × 2 of type dbl</caption>\n",
       "<thead>\n",
       "\t<tr><th scope=col></th><th scope=col>wIdade</th></tr>\n",
       "</thead>\n",
       "<tbody>\n",
       "\t<tr><td>1</td><td>35</td></tr>\n",
       "\t<tr><td>1</td><td>70</td></tr>\n",
       "\t<tr><td>1</td><td>78</td></tr>\n",
       "</tbody>\n",
       "</table>\n"
      ],
      "text/latex": [
       "A matrix: 3 × 2 of type dbl\n",
       "\\begin{tabular}{ll}\n",
       "  & wIdade\\\\\n",
       "\\hline\n",
       "\t 1 & 35\\\\\n",
       "\t 1 & 70\\\\\n",
       "\t 1 & 78\\\\\n",
       "\\end{tabular}\n"
      ],
      "text/markdown": [
       "\n",
       "A matrix: 3 × 2 of type dbl\n",
       "\n",
       "| <!----> | wIdade |\n",
       "|---|---|\n",
       "| 1 | 35 |\n",
       "| 1 | 70 |\n",
       "| 1 | 78 |\n",
       "\n"
      ],
      "text/plain": [
       "       wIdade\n",
       "[1,] 1 35    \n",
       "[2,] 1 70    \n",
       "[3,] 1 78    "
      ]
     },
     "metadata": {},
     "output_type": "display_data"
    }
   ],
   "source": [
    "wIdade<-c(35,70,78)\n",
    "W<-cbind(wIdade)\n",
    "W<-cbind(1,W)\n",
    "head(W)"
   ]
  },
  {
   "cell_type": "markdown",
   "metadata": {},
   "source": [
    "<p style=\"text-align: justify;font-size: 16px\">Calculando e visualizando o valores de preditos de $\\mu$.</p>"
   ]
  },
  {
   "cell_type": "code",
   "execution_count": 8,
   "metadata": {},
   "outputs": [
    {
     "data": {
      "text/html": [
       "<table>\n",
       "<caption>A data.frame: 3 × 2</caption>\n",
       "<thead>\n",
       "\t<tr><th scope=col>age</th><th scope=col>muEst</th></tr>\n",
       "\t<tr><th scope=col>&lt;dbl&gt;</th><th scope=col>&lt;dbl&gt;</th></tr>\n",
       "</thead>\n",
       "<tbody>\n",
       "\t<tr><td>35</td><td>0.8903696</td></tr>\n",
       "\t<tr><td>70</td><td>0.7559368</td></tr>\n",
       "\t<tr><td>78</td><td>0.7130390</td></tr>\n",
       "</tbody>\n",
       "</table>\n"
      ],
      "text/latex": [
       "A data.frame: 3 × 2\n",
       "\\begin{tabular}{ll}\n",
       " age & muEst\\\\\n",
       " <dbl> & <dbl>\\\\\n",
       "\\hline\n",
       "\t 35 & 0.8903696\\\\\n",
       "\t 70 & 0.7559368\\\\\n",
       "\t 78 & 0.7130390\\\\\n",
       "\\end{tabular}\n"
      ],
      "text/markdown": [
       "\n",
       "A data.frame: 3 × 2\n",
       "\n",
       "| age &lt;dbl&gt; | muEst &lt;dbl&gt; |\n",
       "|---|---|\n",
       "| 35 | 0.8903696 |\n",
       "| 70 | 0.7559368 |\n",
       "| 78 | 0.7130390 |\n",
       "\n"
      ],
      "text/plain": [
       "  age muEst    \n",
       "1 35  0.8903696\n",
       "2 70  0.7559368\n",
       "3 78  0.7130390"
      ]
     },
     "metadata": {},
     "output_type": "display_data"
    }
   ],
   "source": [
    "etaEst<-W%*%beta\n",
    "muEst<-exp(etaEst)/(1+exp(etaEst))\n",
    "yPred<-data.frame(age=wIdade,muEst)\n",
    "yPred"
   ]
  },
  {
   "cell_type": "markdown",
   "metadata": {},
   "source": [
    "<p style=\"text-align: justify;font-size: 16px\">Calculando e visualizando os intervalos de predição, com 95% de confiança.\n",
    "</p>"
   ]
  },
  {
   "cell_type": "code",
   "execution_count": 9,
   "metadata": {},
   "outputs": [
    {
     "name": "stdout",
     "output_type": "stream",
     "text": [
      "          [,1]      [,2]\n",
      "[1,] 0.8028523 0.9418503\n",
      "[2,] 0.6799930 0.8186639\n",
      "[3,] 0.6103245 0.7976552\n"
     ]
    }
   ],
   "source": [
    "alpha=0.05 #Valor de alpha correspondente ao intervalo com nível de confiança 1-alpha\n",
    "z<-qnorm(1-alpha/2) #Quantil de ordem 1-alpha/2 da distribuição N(0,1)\n",
    "covEta<-W%*%KbbInv%*%t(W) #Calculando a estimativa matriz de covariância do estimador de eta\n",
    "sigma2Eta<-diag(covEta) #Extraindo a estimativa da variância do estimador de eta\n",
    "ICEta<-cbind(etaEst-z*sqrt(sigma2Eta),etaEst+z*sqrt(sigma2Eta)) #Calculando os intervalos de confiança de eta\n",
    "ICMu<-exp(ICEta)/(1+exp(ICEta)) #Calculando os intervalos de predição\n",
    "print(ICMu)"
   ]
  },
  {
   "cell_type": "markdown",
   "metadata": {},
   "source": [
    "### 1.5 Calculando as predições utilizando a função ``predict``"
   ]
  },
  {
   "cell_type": "markdown",
   "metadata": {},
   "source": [
    "<p style=\"text-align: justify;font-size: 16px\">A função <font face=\"'Courier New'\">predict</font> calcula as predições de $Y$. Os três principais argumentos da função são os seguintes:</p>\n",
    "    <ol style=\"text-align: justify; font-size:16px\">\n",
    "        <li><font face=\"'Courier New'\">object</font>: modelo ajustado. Saída da função <font face=\"'Courier New'\">glm</font>.</li>\n",
    "        <li><font face=\"'Courier New'\">newdata</font>: variável do tipo <font face=\"'Courier New'\">data.frame</font> contendo os valores das variáveis preditoras para os quais se deseja predizer $\\mu$.</li>\n",
    "    <li><font face=\"'Courier New'\">type</font>: indica se o valor a ser calculado é o valor do preditor linear $\\eta$ (<font face=\"'Courier New'\">type=\"link\"</font>) ou o valor da média $\\mu$ (<font face=\"'Courier New'\">type=\"response\"</font>).</li>\n",
    "    </ol>\n",
    "</p>\n",
    "<p style=\"text-align: justify;font-size: 16px\">Os nomes das colunas de <font face=\"'Courier New'\">newdata</font> devem ser iguais aos nomes das variáveis preditoras. </p>"
   ]
  },
  {
   "cell_type": "markdown",
   "metadata": {},
   "source": [
    "<p style=\"text-align: justify;font-size: 16px\">Construindo o <font face=\"'Courier New'\">data.frame</font> contendo os valores das variáveis preditoras para os quais se deseja predizer $\\mu$.\n",
    "</p>"
   ]
  },
  {
   "cell_type": "code",
   "execution_count": 10,
   "metadata": {},
   "outputs": [
    {
     "data": {
      "text/html": [
       "<table>\n",
       "<caption>A data.frame: 3 × 1</caption>\n",
       "<thead>\n",
       "\t<tr><th scope=col>age</th></tr>\n",
       "\t<tr><th scope=col>&lt;dbl&gt;</th></tr>\n",
       "</thead>\n",
       "<tbody>\n",
       "\t<tr><td>35</td></tr>\n",
       "\t<tr><td>70</td></tr>\n",
       "\t<tr><td>78</td></tr>\n",
       "</tbody>\n",
       "</table>\n"
      ],
      "text/latex": [
       "A data.frame: 3 × 1\n",
       "\\begin{tabular}{l}\n",
       " age\\\\\n",
       " <dbl>\\\\\n",
       "\\hline\n",
       "\t 35\\\\\n",
       "\t 70\\\\\n",
       "\t 78\\\\\n",
       "\\end{tabular}\n"
      ],
      "text/markdown": [
       "\n",
       "A data.frame: 3 × 1\n",
       "\n",
       "| age &lt;dbl&gt; |\n",
       "|---|\n",
       "| 35 |\n",
       "| 70 |\n",
       "| 78 |\n",
       "\n"
      ],
      "text/plain": [
       "  age\n",
       "1 35 \n",
       "2 70 \n",
       "3 78 "
      ]
     },
     "metadata": {},
     "output_type": "display_data"
    }
   ],
   "source": [
    "W<-data.frame(age=wIdade)\n",
    "W"
   ]
  },
  {
   "cell_type": "markdown",
   "metadata": {},
   "source": [
    "<p style=\"text-align: justify;font-size: 16px\">Realizando a predição por meio da função <font face=\"'Courier New'\">predict</font>.\n",
    "</p>"
   ]
  },
  {
   "cell_type": "code",
   "execution_count": 11,
   "metadata": {},
   "outputs": [
    {
     "data": {
      "text/html": [
       "<table>\n",
       "<caption>A data.frame: 3 × 2</caption>\n",
       "<thead>\n",
       "\t<tr><th></th><th scope=col>age</th><th scope=col>mu</th></tr>\n",
       "\t<tr><th></th><th scope=col>&lt;dbl&gt;</th><th scope=col>&lt;dbl&gt;</th></tr>\n",
       "</thead>\n",
       "<tbody>\n",
       "\t<tr><th scope=row>1</th><td>35</td><td>0.8903696</td></tr>\n",
       "\t<tr><th scope=row>2</th><td>70</td><td>0.7559368</td></tr>\n",
       "\t<tr><th scope=row>3</th><td>78</td><td>0.7130390</td></tr>\n",
       "</tbody>\n",
       "</table>\n"
      ],
      "text/latex": [
       "A data.frame: 3 × 2\n",
       "\\begin{tabular}{r|ll}\n",
       "  & age & mu\\\\\n",
       "  & <dbl> & <dbl>\\\\\n",
       "\\hline\n",
       "\t1 & 35 & 0.8903696\\\\\n",
       "\t2 & 70 & 0.7559368\\\\\n",
       "\t3 & 78 & 0.7130390\\\\\n",
       "\\end{tabular}\n"
      ],
      "text/markdown": [
       "\n",
       "A data.frame: 3 × 2\n",
       "\n",
       "| <!--/--> | age &lt;dbl&gt; | mu &lt;dbl&gt; |\n",
       "|---|---|---|\n",
       "| 1 | 35 | 0.8903696 |\n",
       "| 2 | 70 | 0.7559368 |\n",
       "| 3 | 78 | 0.7130390 |\n",
       "\n"
      ],
      "text/plain": [
       "  age mu       \n",
       "1 35  0.8903696\n",
       "2 70  0.7559368\n",
       "3 78  0.7130390"
      ]
     },
     "metadata": {},
     "output_type": "display_data"
    }
   ],
   "source": [
    "muEst<-predict(object=aj,newdata=W,type=\"response\")\n",
    "yPred<-data.frame(age=wIdade,mu=muEst)\n",
    "yPred"
   ]
  },
  {
   "cell_type": "markdown",
   "metadata": {},
   "source": [
    "### 1.6 Calculando os intervalos de predição, com 95% de confiança, utilizando a função ``add_ci``"
   ]
  },
  {
   "cell_type": "markdown",
   "metadata": {},
   "source": [
    "<p style=\"text-align: justify;font-size: 16px\">Carregando os pacotes necessários.</p>"
   ]
  },
  {
   "cell_type": "code",
   "execution_count": 12,
   "metadata": {},
   "outputs": [
    {
     "name": "stderr",
     "output_type": "stream",
     "text": [
      "ciTools version 0.5.1 (C) Institute for Defense Analyses\n",
      "\n"
     ]
    }
   ],
   "source": [
    "library(tibble)\n",
    "library(ciTools)"
   ]
  },
  {
   "cell_type": "markdown",
   "metadata": {},
   "source": [
    "<p style=\"text-align: justify;font-size: 16px\">A função <font face=\"'Courier New'\">add_ci</font> calcula os intervalos de predição. Os três principais argumentos dessa função são:</p>\n",
    "   <ol style=\"text-align: justify; font-size:16px\">\n",
    "        <li><font face=\"'Courier New'\">tb</font>: variável do tipo <font face=\"'Courier New'\">tibble</font> contendo os valores das variáveis preditoras para os quais se deseja predizer $\\mu$.</li>\n",
    "        <li><font face=\"'Courier New'\">fit</font>: modelo ajustado. Saída da função <font face=\"'Courier New'\">glm</font>.</li>\n",
    "    <li><font face=\"'Courier New'\">alpha</font>: nível de confiança. O nível de confiança do intervalo de predição é <font face=\"'Courier New'\">1-alpha</font>.</li>\n",
    "    </ol>\n",
    "</p>\n",
    "<p style=\"text-align: justify;font-size: 16px\">O tipo <font face=\"'Courier New'\">tibble</font>  é semelhante ao ao tipo <font face=\"'Courier New'\">data.frame</font>, porém com algumas diferenças. Para mais informações, consulte a ajuda da função, por meio do comando <font face=\"'Courier New'\">?tibble</font>.</p>"
   ]
  },
  {
   "cell_type": "markdown",
   "metadata": {},
   "source": [
    "<p style=\"text-align: justify;font-size: 16px\">Construindo o <font face=\"'Courier New'\">tibble</font> contendo os valores das variáveis preditoras para os quais se deseja predizer $\\mu$. Os nomes das colunas devem ser iguais aos das variáveis.\n",
    "</p>"
   ]
  },
  {
   "cell_type": "code",
   "execution_count": 13,
   "metadata": {},
   "outputs": [
    {
     "data": {
      "text/html": [
       "<table>\n",
       "<caption>A tibble: 3 × 1</caption>\n",
       "<thead>\n",
       "\t<tr><th scope=col>age</th></tr>\n",
       "\t<tr><th scope=col>&lt;dbl&gt;</th></tr>\n",
       "</thead>\n",
       "<tbody>\n",
       "\t<tr><td>35</td></tr>\n",
       "\t<tr><td>70</td></tr>\n",
       "\t<tr><td>78</td></tr>\n",
       "</tbody>\n",
       "</table>\n"
      ],
      "text/latex": [
       "A tibble: 3 × 1\n",
       "\\begin{tabular}{l}\n",
       " age\\\\\n",
       " <dbl>\\\\\n",
       "\\hline\n",
       "\t 35\\\\\n",
       "\t 70\\\\\n",
       "\t 78\\\\\n",
       "\\end{tabular}\n"
      ],
      "text/markdown": [
       "\n",
       "A tibble: 3 × 1\n",
       "\n",
       "| age &lt;dbl&gt; |\n",
       "|---|\n",
       "| 35 |\n",
       "| 70 |\n",
       "| 78 |\n",
       "\n"
      ],
      "text/plain": [
       "  age\n",
       "1 35 \n",
       "2 70 \n",
       "3 78 "
      ]
     },
     "metadata": {},
     "output_type": "display_data"
    }
   ],
   "source": [
    "W<-tibble(age=wIdade)\n",
    "W"
   ]
  },
  {
   "cell_type": "markdown",
   "metadata": {},
   "source": [
    "<p style=\"text-align: justify;font-size: 16px\">Calculando os intervalos de predição utilizando a função <font face=\"'Courier New'\">add_ci</font>.</p>"
   ]
  },
  {
   "cell_type": "code",
   "execution_count": 14,
   "metadata": {},
   "outputs": [
    {
     "name": "stderr",
     "output_type": "stream",
     "text": [
      "Warning message:\n",
      "“`as_data_frame()` is deprecated as of tibble 2.0.0.\n",
      "Please use `as_tibble()` instead.\n",
      "The signature and semantics have changed, see `?as_tibble`.\n",
      "\u001b[90mThis warning is displayed once every 8 hours.\u001b[39m\n",
      "\u001b[90mCall `lifecycle::last_warnings()` to see where this warning was generated.\u001b[39m”\n"
     ]
    },
    {
     "data": {
      "text/html": [
       "<table>\n",
       "<caption>A tibble: 3 × 4</caption>\n",
       "<thead>\n",
       "\t<tr><th scope=col>age</th><th scope=col>pred</th><th scope=col>LCB0.025</th><th scope=col>UCB0.975</th></tr>\n",
       "\t<tr><th scope=col>&lt;dbl&gt;</th><th scope=col>&lt;dbl&gt;</th><th scope=col>&lt;dbl&gt;</th><th scope=col>&lt;dbl&gt;</th></tr>\n",
       "</thead>\n",
       "<tbody>\n",
       "\t<tr><td>35</td><td>0.8903696</td><td>0.8028590</td><td>0.9418480</td></tr>\n",
       "\t<tr><td>70</td><td>0.7559368</td><td>0.6799933</td><td>0.8186637</td></tr>\n",
       "\t<tr><td>78</td><td>0.7130390</td><td>0.6103250</td><td>0.7976548</td></tr>\n",
       "</tbody>\n",
       "</table>\n"
      ],
      "text/latex": [
       "A tibble: 3 × 4\n",
       "\\begin{tabular}{llll}\n",
       " age & pred & LCB0.025 & UCB0.975\\\\\n",
       " <dbl> & <dbl> & <dbl> & <dbl>\\\\\n",
       "\\hline\n",
       "\t 35 & 0.8903696 & 0.8028590 & 0.9418480\\\\\n",
       "\t 70 & 0.7559368 & 0.6799933 & 0.8186637\\\\\n",
       "\t 78 & 0.7130390 & 0.6103250 & 0.7976548\\\\\n",
       "\\end{tabular}\n"
      ],
      "text/markdown": [
       "\n",
       "A tibble: 3 × 4\n",
       "\n",
       "| age &lt;dbl&gt; | pred &lt;dbl&gt; | LCB0.025 &lt;dbl&gt; | UCB0.975 &lt;dbl&gt; |\n",
       "|---|---|---|---|\n",
       "| 35 | 0.8903696 | 0.8028590 | 0.9418480 |\n",
       "| 70 | 0.7559368 | 0.6799933 | 0.8186637 |\n",
       "| 78 | 0.7130390 | 0.6103250 | 0.7976548 |\n",
       "\n"
      ],
      "text/plain": [
       "  age pred      LCB0.025  UCB0.975 \n",
       "1 35  0.8903696 0.8028590 0.9418480\n",
       "2 70  0.7559368 0.6799933 0.8186637\n",
       "3 78  0.7130390 0.6103250 0.7976548"
      ]
     },
     "metadata": {},
     "output_type": "display_data"
    }
   ],
   "source": [
    "add_ci(tb=W,fit=aj)"
   ]
  },
  {
   "cell_type": "code",
   "execution_count": null,
   "metadata": {},
   "outputs": [],
   "source": []
  }
 ],
 "metadata": {
  "kernelspec": {
   "display_name": "R",
   "language": "R",
   "name": "ir"
  },
  "language_info": {
   "codemirror_mode": "r",
   "file_extension": ".r",
   "mimetype": "text/x-r-source",
   "name": "R",
   "pygments_lexer": "r",
   "version": "3.6.3"
  }
 },
 "nbformat": 4,
 "nbformat_minor": 2
}

{
 "cells": [
  {
   "cell_type": "markdown",
   "metadata": {},
   "source": [
    "<div style=\"position:relative; height:160px;\">\n",
    "<img src=\"logoDECATUFS.png\" width=\"500\" height=\"500\" style=\"position:absolute; left:-8px;\">\n",
    "</div>"
   ]
  },
  {
   "cell_type": "markdown",
   "metadata": {},
   "source": [
    "<div style=\"text-align:center;font-size:17px; white-space:pre;margin-top:-35px\">\n",
    "        <h3>             Modelos Lineares Generalizados</h3>\n",
    "        Disciplina ofertada pelo DECAT/UFS\n",
    "        Código: ESTAT0092\n",
    "        Nível: Graduação\n",
    "        Carga horária: 60h\n",
    "        Período: 2020.2\n",
    "        Professor responsável e ministrante: Luiz Henrique Dore\n",
    "        <h3>            Aula 13: avaliação da significância individual dos coeficientes de regressão</h3>\n",
    "</div>"
   ]
  },
  {
   "cell_type": "markdown",
   "metadata": {},
   "source": [
    "# Exemplo 3"
   ]
  },
  {
   "cell_type": "markdown",
   "metadata": {},
   "source": [
    "<p style=\"text-align: justify; font-size:16px\">\n",
    "Considere o conjunto de dados <b>icu.csv</b>, descrito no exemplo 3 da aula 2. Os objetivos são os seguintes: ajustar um modelo de regressão logística, no qual a variável resposta é a variável <b>sta</b> (Sobrevivência) e a variável preditora é a variável <b>age</b> (Idade); calcular o intervalo de confiança, com 99% de confiança, para cada um dos coeficientes de regressão.\n",
    "<p>"
   ]
  },
  {
   "cell_type": "markdown",
   "metadata": {},
   "source": [
    "### 3.1 Leitura e visualização dos dados"
   ]
  },
  {
   "cell_type": "code",
   "execution_count": 1,
   "metadata": {},
   "outputs": [
    {
     "data": {
      "text/html": [
       "<table>\n",
       "<caption>A data.frame: 6 × 21</caption>\n",
       "<thead>\n",
       "\t<tr><th></th><th scope=col>id</th><th scope=col>sta</th><th scope=col>age</th><th scope=col>gender</th><th scope=col>race</th><th scope=col>ser</th><th scope=col>can</th><th scope=col>crn</th><th scope=col>inf</th><th scope=col>cpr</th><th scope=col>⋯</th><th scope=col>hra</th><th scope=col>pre</th><th scope=col>type</th><th scope=col>fra</th><th scope=col>po2</th><th scope=col>ph</th><th scope=col>pco</th><th scope=col>bic</th><th scope=col>cre</th><th scope=col>loc</th></tr>\n",
       "\t<tr><th></th><th scope=col>&lt;int&gt;</th><th scope=col>&lt;fct&gt;</th><th scope=col>&lt;int&gt;</th><th scope=col>&lt;fct&gt;</th><th scope=col>&lt;fct&gt;</th><th scope=col>&lt;fct&gt;</th><th scope=col>&lt;fct&gt;</th><th scope=col>&lt;fct&gt;</th><th scope=col>&lt;fct&gt;</th><th scope=col>&lt;fct&gt;</th><th scope=col>⋯</th><th scope=col>&lt;int&gt;</th><th scope=col>&lt;fct&gt;</th><th scope=col>&lt;fct&gt;</th><th scope=col>&lt;fct&gt;</th><th scope=col>&lt;fct&gt;</th><th scope=col>&lt;fct&gt;</th><th scope=col>&lt;fct&gt;</th><th scope=col>&lt;fct&gt;</th><th scope=col>&lt;fct&gt;</th><th scope=col>&lt;fct&gt;</th></tr>\n",
       "</thead>\n",
       "<tbody>\n",
       "\t<tr><th scope=row>1</th><td> 4</td><td>Died </td><td>87</td><td>Female</td><td>White</td><td>Surgical</td><td>No</td><td>No</td><td>Yes</td><td>No</td><td>⋯</td><td> 96</td><td>No </td><td>Emergency</td><td>Yes</td><td>&lt;= 60</td><td>&lt; 7.25 </td><td>&gt; 45 </td><td>&gt;= 18</td><td>&lt;= 2.0</td><td>Nothing</td></tr>\n",
       "\t<tr><th scope=row>2</th><td> 8</td><td>Lived</td><td>27</td><td>Female</td><td>White</td><td>Medical </td><td>No</td><td>No</td><td>Yes</td><td>No</td><td>⋯</td><td> 88</td><td>No </td><td>Emergency</td><td>No </td><td>&gt; 60 </td><td>&gt;= 7.25</td><td>&lt;= 45</td><td>&gt;= 18</td><td>&lt;= 2.0</td><td>Nothing</td></tr>\n",
       "\t<tr><th scope=row>3</th><td>12</td><td>Lived</td><td>59</td><td><span style=white-space:pre-wrap>Male  </span></td><td>White</td><td>Medical </td><td>No</td><td>No</td><td>No </td><td>No</td><td>⋯</td><td> 80</td><td>Yes</td><td>Emergency</td><td>No </td><td>&gt; 60 </td><td>&gt;= 7.25</td><td>&lt;= 45</td><td>&gt;= 18</td><td>&lt;= 2.0</td><td>Nothing</td></tr>\n",
       "\t<tr><th scope=row>4</th><td>14</td><td>Lived</td><td>77</td><td><span style=white-space:pre-wrap>Male  </span></td><td>White</td><td>Surgical</td><td>No</td><td>No</td><td>No </td><td>No</td><td>⋯</td><td> 70</td><td>No </td><td>Elective </td><td>No </td><td>&gt; 60 </td><td>&gt;= 7.25</td><td>&lt;= 45</td><td>&gt;= 18</td><td>&lt;= 2.0</td><td>Nothing</td></tr>\n",
       "\t<tr><th scope=row>5</th><td>27</td><td>Died </td><td>76</td><td>Female</td><td>White</td><td>Surgical</td><td>No</td><td>No</td><td>Yes</td><td>No</td><td>⋯</td><td> 90</td><td>Yes</td><td>Emergency</td><td>No </td><td>&gt; 60 </td><td>&gt;= 7.25</td><td>&lt;= 45</td><td>&gt;= 18</td><td>&lt;= 2.0</td><td>Nothing</td></tr>\n",
       "\t<tr><th scope=row>6</th><td>28</td><td>Lived</td><td>54</td><td><span style=white-space:pre-wrap>Male  </span></td><td>White</td><td>Medical </td><td>No</td><td>No</td><td>Yes</td><td>No</td><td>⋯</td><td>103</td><td>No </td><td>Emergency</td><td>Yes</td><td>&gt; 60 </td><td>&gt;= 7.25</td><td>&lt;= 45</td><td>&gt;= 18</td><td>&lt;= 2.0</td><td>Nothing</td></tr>\n",
       "</tbody>\n",
       "</table>\n"
      ],
      "text/latex": [
       "A data.frame: 6 × 21\n",
       "\\begin{tabular}{r|lllllllllllllllllllll}\n",
       "  & id & sta & age & gender & race & ser & can & crn & inf & cpr & ⋯ & hra & pre & type & fra & po2 & ph & pco & bic & cre & loc\\\\\n",
       "  & <int> & <fct> & <int> & <fct> & <fct> & <fct> & <fct> & <fct> & <fct> & <fct> & ⋯ & <int> & <fct> & <fct> & <fct> & <fct> & <fct> & <fct> & <fct> & <fct> & <fct>\\\\\n",
       "\\hline\n",
       "\t1 &  4 & Died  & 87 & Female & White & Surgical & No & No & Yes & No & ⋯ &  96 & No  & Emergency & Yes & <= 60 & < 7.25  & > 45  & >= 18 & <= 2.0 & Nothing\\\\\n",
       "\t2 &  8 & Lived & 27 & Female & White & Medical  & No & No & Yes & No & ⋯ &  88 & No  & Emergency & No  & > 60  & >= 7.25 & <= 45 & >= 18 & <= 2.0 & Nothing\\\\\n",
       "\t3 & 12 & Lived & 59 & Male   & White & Medical  & No & No & No  & No & ⋯ &  80 & Yes & Emergency & No  & > 60  & >= 7.25 & <= 45 & >= 18 & <= 2.0 & Nothing\\\\\n",
       "\t4 & 14 & Lived & 77 & Male   & White & Surgical & No & No & No  & No & ⋯ &  70 & No  & Elective  & No  & > 60  & >= 7.25 & <= 45 & >= 18 & <= 2.0 & Nothing\\\\\n",
       "\t5 & 27 & Died  & 76 & Female & White & Surgical & No & No & Yes & No & ⋯ &  90 & Yes & Emergency & No  & > 60  & >= 7.25 & <= 45 & >= 18 & <= 2.0 & Nothing\\\\\n",
       "\t6 & 28 & Lived & 54 & Male   & White & Medical  & No & No & Yes & No & ⋯ & 103 & No  & Emergency & Yes & > 60  & >= 7.25 & <= 45 & >= 18 & <= 2.0 & Nothing\\\\\n",
       "\\end{tabular}\n"
      ],
      "text/markdown": [
       "\n",
       "A data.frame: 6 × 21\n",
       "\n",
       "| <!--/--> | id &lt;int&gt; | sta &lt;fct&gt; | age &lt;int&gt; | gender &lt;fct&gt; | race &lt;fct&gt; | ser &lt;fct&gt; | can &lt;fct&gt; | crn &lt;fct&gt; | inf &lt;fct&gt; | cpr &lt;fct&gt; | ⋯ ⋯ | hra &lt;int&gt; | pre &lt;fct&gt; | type &lt;fct&gt; | fra &lt;fct&gt; | po2 &lt;fct&gt; | ph &lt;fct&gt; | pco &lt;fct&gt; | bic &lt;fct&gt; | cre &lt;fct&gt; | loc &lt;fct&gt; |\n",
       "|---|---|---|---|---|---|---|---|---|---|---|---|---|---|---|---|---|---|---|---|---|---|\n",
       "| 1 |  4 | Died  | 87 | Female | White | Surgical | No | No | Yes | No | ⋯ |  96 | No  | Emergency | Yes | &lt;= 60 | &lt; 7.25  | &gt; 45  | &gt;= 18 | &lt;= 2.0 | Nothing |\n",
       "| 2 |  8 | Lived | 27 | Female | White | Medical  | No | No | Yes | No | ⋯ |  88 | No  | Emergency | No  | &gt; 60  | &gt;= 7.25 | &lt;= 45 | &gt;= 18 | &lt;= 2.0 | Nothing |\n",
       "| 3 | 12 | Lived | 59 | Male   | White | Medical  | No | No | No  | No | ⋯ |  80 | Yes | Emergency | No  | &gt; 60  | &gt;= 7.25 | &lt;= 45 | &gt;= 18 | &lt;= 2.0 | Nothing |\n",
       "| 4 | 14 | Lived | 77 | Male   | White | Surgical | No | No | No  | No | ⋯ |  70 | No  | Elective  | No  | &gt; 60  | &gt;= 7.25 | &lt;= 45 | &gt;= 18 | &lt;= 2.0 | Nothing |\n",
       "| 5 | 27 | Died  | 76 | Female | White | Surgical | No | No | Yes | No | ⋯ |  90 | Yes | Emergency | No  | &gt; 60  | &gt;= 7.25 | &lt;= 45 | &gt;= 18 | &lt;= 2.0 | Nothing |\n",
       "| 6 | 28 | Lived | 54 | Male   | White | Medical  | No | No | Yes | No | ⋯ | 103 | No  | Emergency | Yes | &gt; 60  | &gt;= 7.25 | &lt;= 45 | &gt;= 18 | &lt;= 2.0 | Nothing |\n",
       "\n"
      ],
      "text/plain": [
       "  id sta   age gender race  ser      can crn inf cpr ⋯ hra pre type      fra\n",
       "1  4 Died  87  Female White Surgical No  No  Yes No  ⋯  96 No  Emergency Yes\n",
       "2  8 Lived 27  Female White Medical  No  No  Yes No  ⋯  88 No  Emergency No \n",
       "3 12 Lived 59  Male   White Medical  No  No  No  No  ⋯  80 Yes Emergency No \n",
       "4 14 Lived 77  Male   White Surgical No  No  No  No  ⋯  70 No  Elective  No \n",
       "5 27 Died  76  Female White Surgical No  No  Yes No  ⋯  90 Yes Emergency No \n",
       "6 28 Lived 54  Male   White Medical  No  No  Yes No  ⋯ 103 No  Emergency Yes\n",
       "  po2   ph      pco   bic   cre    loc    \n",
       "1 <= 60 < 7.25  > 45  >= 18 <= 2.0 Nothing\n",
       "2 > 60  >= 7.25 <= 45 >= 18 <= 2.0 Nothing\n",
       "3 > 60  >= 7.25 <= 45 >= 18 <= 2.0 Nothing\n",
       "4 > 60  >= 7.25 <= 45 >= 18 <= 2.0 Nothing\n",
       "5 > 60  >= 7.25 <= 45 >= 18 <= 2.0 Nothing\n",
       "6 > 60  >= 7.25 <= 45 >= 18 <= 2.0 Nothing"
      ]
     },
     "metadata": {},
     "output_type": "display_data"
    }
   ],
   "source": [
    "dados<-read.csv(\"/Dados/Google_Drive_UFS/Aulas/2020_2/MLG/Dados/icu.csv\",header=TRUE)\n",
    "n<-dim(dados)[1] #Número de observações\n",
    "head(dados) #Visualizando as primeiras observações"
   ]
  },
  {
   "cell_type": "code",
   "execution_count": 2,
   "metadata": {},
   "outputs": [],
   "source": [
    "sta<-as.numeric(dados[,\"sta\"]==\"Lived\") #0 para Died e 1 para Lived\n",
    "age<-dados[,3]"
   ]
  },
  {
   "cell_type": "markdown",
   "metadata": {},
   "source": [
    "### 3.2 Formulação do modelo"
   ]
  },
  {
   "cell_type": "markdown",
   "metadata": {},
   "source": [
    "<p style=\"text-align: justify; font-size:15px\">\n",
    "    <ol style=\"font-size:16px\">\n",
    "        <li>$Sobrevivência\\sim Bernoulli(\\mu)$;</li>\n",
    "        <li>$\\eta=\\beta_0+\\beta_1\\cdot Idade$;</li>\n",
    "        <li>$\\ln\\left(\\frac{\\mu}{1-\\mu}\\right)=\\eta$.</li>\n",
    "    </ol>\n",
    "</p>"
   ]
  },
  {
   "cell_type": "markdown",
   "metadata": {},
   "source": [
    "### 3.3 Estimação dos parâmetros por máxima verossimilhança usando a função ``glm``."
   ]
  },
  {
   "cell_type": "markdown",
   "metadata": {},
   "source": [
    "<p style=\"text-align: justify;font-size: 16px\">Estimação dos coeficientes de regressão.</p>"
   ]
  },
  {
   "cell_type": "code",
   "execution_count": 3,
   "metadata": {},
   "outputs": [],
   "source": [
    "aj<-glm(formula=sta~age,family=binomial(link=\"logit\"),data=dados)\n",
    "beta<-aj$coefficients"
   ]
  },
  {
   "cell_type": "markdown",
   "metadata": {},
   "source": [
    "<p style=\"text-align: justify;font-size: 16px\">Visualizando as estimativas dos parâmetros.</p>"
   ]
  },
  {
   "cell_type": "code",
   "execution_count": 4,
   "metadata": {},
   "outputs": [
    {
     "name": "stdout",
     "output_type": "stream",
     "text": [
      "(Intercept)         age \n",
      " 3.05851323 -0.02754261 \n"
     ]
    }
   ],
   "source": [
    "print(beta)"
   ]
  },
  {
   "cell_type": "markdown",
   "metadata": {},
   "source": [
    "### 1.4 Executando o teste de Wald e calculando os intervalos de confiança manualmente"
   ]
  },
  {
   "cell_type": "markdown",
   "metadata": {},
   "source": [
    "<p style=\"text-align: justify; font-size:16px\">Gerando o vetor dos valores observados da resposta e a matriz design.</p>"
   ]
  },
  {
   "cell_type": "code",
   "execution_count": 5,
   "metadata": {},
   "outputs": [
    {
     "data": {
      "text/html": [
       "<table>\n",
       "<caption>A matrix: 6 × 2 of type dbl</caption>\n",
       "<thead>\n",
       "\t<tr><th scope=col></th><th scope=col>Idade</th></tr>\n",
       "</thead>\n",
       "<tbody>\n",
       "\t<tr><td>1</td><td>87</td></tr>\n",
       "\t<tr><td>1</td><td>27</td></tr>\n",
       "\t<tr><td>1</td><td>59</td></tr>\n",
       "\t<tr><td>1</td><td>77</td></tr>\n",
       "\t<tr><td>1</td><td>76</td></tr>\n",
       "\t<tr><td>1</td><td>54</td></tr>\n",
       "</tbody>\n",
       "</table>\n"
      ],
      "text/latex": [
       "A matrix: 6 × 2 of type dbl\n",
       "\\begin{tabular}{ll}\n",
       "  & Idade\\\\\n",
       "\\hline\n",
       "\t 1 & 87\\\\\n",
       "\t 1 & 27\\\\\n",
       "\t 1 & 59\\\\\n",
       "\t 1 & 77\\\\\n",
       "\t 1 & 76\\\\\n",
       "\t 1 & 54\\\\\n",
       "\\end{tabular}\n"
      ],
      "text/markdown": [
       "\n",
       "A matrix: 6 × 2 of type dbl\n",
       "\n",
       "| <!----> | Idade |\n",
       "|---|---|\n",
       "| 1 | 87 |\n",
       "| 1 | 27 |\n",
       "| 1 | 59 |\n",
       "| 1 | 77 |\n",
       "| 1 | 76 |\n",
       "| 1 | 54 |\n",
       "\n"
      ],
      "text/plain": [
       "       Idade\n",
       "[1,] 1 87   \n",
       "[2,] 1 27   \n",
       "[3,] 1 59   \n",
       "[4,] 1 77   \n",
       "[5,] 1 76   \n",
       "[6,] 1 54   "
      ]
     },
     "metadata": {},
     "output_type": "display_data"
    }
   ],
   "source": [
    "y<-sta\n",
    "X<-age\n",
    "X<-cbind(1,X)\n",
    "colnames(X)<-c(\"\",\"Idade\")\n",
    "head(X)"
   ]
  },
  {
   "cell_type": "markdown",
   "metadata": {},
   "source": [
    "<p style=\"text-align: justify; font-size:16px\">A estatística de Wald é $T_{W_j}=\\frac{\\hat\\beta_j}{\\sqrt{\\widehat{Var(\\beta_j)}}}$, onde $\\widehat{Var(\\hat\\beta_j)}$ é o elemento $j+1$ da diagonal de $\\boldsymbol{K}^{\\ \\ \\ -1}_{\\boldsymbol{\\widehat\\beta}\\boldsymbol{\\widehat\\beta}}$. No caso da distribuição de Bernoulli, com ligação canônica, tem-se (ver exemplo 3 da aula 5)\n",
    "    $$\\boldsymbol{K}_{\\boldsymbol{\\beta}\\boldsymbol{\\beta}}=X^TVX,\\ \\ \\ \\hbox{onde}\\ \\ \\ V=\\hbox{diag}\\{\\mu_1(1-\\mu_1),\\cdots,\\mu_n(1-\\mu_n)\\}\\ \\ \\ \\hbox{e}\\ \\ \\ \\mu_i=\\frac{e^{\\eta_i}}{1+e^{\\eta_i}},\\quad\\forall\\ i\\in\\{1,\\cdots,n\\}.$$\n",
    "Logo, $\\boldsymbol{K}^{\\ \\ \\ -1}_{\\boldsymbol{\\widehat\\beta}\\boldsymbol{\\widehat\\beta}}=(X^T\\widehat{V}X)^{-1}$, com $\\boldsymbol{\\widehat\\beta}=\\hbox{diag}\\{\\hat\\mu_1,\\cdots\\hat\\mu_n\\}$ e $\\hat\\mu_i=\\frac{e^{\\hat\\eta_i}}{1+e^{\\hat\\eta_i}}$, $\\forall\\ i\\in\\{1,\\cdots,n\\}$.\n",
    "</p>"
   ]
  },
  {
   "cell_type": "markdown",
   "metadata": {},
   "source": [
    "<p style=\"text-align: justify;font-size: 16px\">Calculando $Var(\\beta_j)$, para cada $j\\in\\{0,1,\\cdots,p\\}$. O vetor <font face=\"'Courier New'\">betaVar</font> contém as variâncias calculadas.</p>"
   ]
  },
  {
   "cell_type": "code",
   "execution_count": 6,
   "metadata": {},
   "outputs": [],
   "source": [
    "eta<-as.numeric(X%*%beta) #Estimativa de máxima verossimilhança do preditor linear\n",
    "mu<-exp(eta)/(1+exp(eta)) #Estimativa de máxima verossimilhança das médias\n",
    "V<-diag(mu*(1-mu)) #Calculando a estimativa da matriz V das funções de variância\n",
    "Kbb<-t(X)%*%V%*%X #Calcuando Kbb\n",
    "KbbInv<-solve(Kbb) #Calcuando a inversa de Kbb\n",
    "betaVar<-diag(KbbInv) #Recolhendo a diagonal da inversa de Kbb, cujos valores correspondem às variâncias"
   ]
  },
  {
   "cell_type": "markdown",
   "metadata": {},
   "source": [
    "<p style=\"text-align: justify;font-size: 16px\">Visualizando os valores de $Var(\\beta_j)$, para cada $j\\in\\{0,1,\\cdots,p\\}$.</p>"
   ]
  },
  {
   "cell_type": "code",
   "execution_count": 7,
   "metadata": {},
   "outputs": [
    {
     "name": "stdout",
     "output_type": "stream",
     "text": [
      "                    Idade \n",
      "0.4845858141 0.0001116123 \n"
     ]
    }
   ],
   "source": [
    "print(betaVar)"
   ]
  },
  {
   "cell_type": "markdown",
   "metadata": {},
   "source": [
    "<p style=\"text-align: justify;font-size: 16px\">Calculando e visualizando os valores de $T_{W_j}$, para cada $j\\in\\{0,1,\\cdots,p\\}$.</p>"
   ]
  },
  {
   "cell_type": "code",
   "execution_count": 8,
   "metadata": {},
   "outputs": [
    {
     "name": "stdout",
     "output_type": "stream",
     "text": [
      "(Intercept)         age \n",
      "   4.393646   -2.607049 \n"
     ]
    }
   ],
   "source": [
    "tw<-beta/sqrt(betaVar)\n",
    "print(tw)"
   ]
  },
  {
   "cell_type": "markdown",
   "metadata": {},
   "source": [
    "<p style=\"text-align: justify;font-size: 16px\">Calculando e visualizando os p-valores do teste de Wald para avaliação da significância individual de $\\beta_j$, $j\\in\\{0,1,\\cdots,p\\}$.</p>"
   ]
  },
  {
   "cell_type": "code",
   "execution_count": 9,
   "metadata": {},
   "outputs": [
    {
     "name": "stdout",
     "output_type": "stream",
     "text": [
      " (Intercept)          age \n",
      "1.114655e-05 9.132640e-03 \n"
     ]
    }
   ],
   "source": [
    "pvalor<-2*(1-pnorm(abs(tw)))\n",
    "print(pvalor)"
   ]
  },
  {
   "cell_type": "markdown",
   "metadata": {},
   "source": [
    "<p style=\"text-align: justify;font-size: 16px\">O p-valor correspondente ao coeficiente da variável <b>age</b> é menor do que 1%. Portanto, ao nível de 1% significância, o teste de Wald indica esse coeficiente é significativamente diferente de zero.</p>"
   ]
  },
  {
   "cell_type": "markdown",
   "metadata": {},
   "source": [
    "<p style=\"text-align: justify;font-size: 16px\">Calculando e visualizando os intervalos de confiança, de acordo com a fórmula\n",
    "$$IC(\\beta_j;1-\\alpha)=\\left(\\hat\\beta_j-z_{\\left(1-\\frac{\\alpha}{2}\\right)}\\sqrt{\\widehat{Var(\\hat\\beta_j)}};\\ \\hat\\beta_j+z_{\\left(1-\\frac{\\alpha}{2}\\right)}\\sqrt{\\widehat{Var(\\hat\\beta_j)}}\\right).$$\n",
    "</p>"
   ]
  },
  {
   "cell_type": "code",
   "execution_count": 10,
   "metadata": {},
   "outputs": [
    {
     "name": "stdout",
     "output_type": "stream",
     "text": [
      "                  [,1]          [,2]\n",
      "(Intercept)  1.2654218  4.8516046345\n",
      "age         -0.0547554 -0.0003298215\n"
     ]
    }
   ],
   "source": [
    "alpha=0.01 #Valor de alpha correspondente ao intervalo com nível de confiança 1-alpha\n",
    "z<-qnorm(1-alpha/2) #Quantil de ordem 1-alpha/2 da distribuição N(0,1)\n",
    "IC<-cbind(beta-z*sqrt(betaVar),beta+z*sqrt(betaVar)) #Calculando os intervlos de confiança.\n",
    "print(IC)"
   ]
  },
  {
   "cell_type": "markdown",
   "metadata": {},
   "source": [
    "<p style=\"text-align: justify;font-size: 16px\">O intervalo de confiança, com 99% de confiança, do coeficientes da variável <b>age</b> não contém o valor 0. Pode-se concluir que, ao nível de 1% significância, o teste de Wald indica que esse coeficiente é significativamente diferente de zero.</p>"
   ]
  },
  {
   "cell_type": "markdown",
   "metadata": {},
   "source": [
    "### 1.5 Executando o teste de Wald utilizando a função ``summary``."
   ]
  },
  {
   "cell_type": "markdown",
   "metadata": {},
   "source": [
    "<p style=\"text-align: justify;font-size: 16px\">A função <font face=\"'Courier New'\">summary</font> realiza o teste de Wald para avaliação da significância individual dos coeficientes de regressão. Os dois principais argumentos da função são os seguintes:</p>\n",
    "    <ol style=\"text-align: justify; font-size:16px\">\n",
    "        <li><font face=\"'Courier New'\">object</font>: modelo ajustado. Saída da função <font face=\"'Courier New'\">glm</font>.</li>\n",
    "        <li><font face=\"'Courier New'\">phi</font>: estimativa de máxima veroossimilhança de $\\phi$.</li>\n",
    "    </ol>\n",
    "</p>"
   ]
  },
  {
   "cell_type": "markdown",
   "metadata": {},
   "source": [
    "<p style=\"text-align: justify;font-size: 16px\">Não é preciso informar o parâmetro de dispersão, pois, como se sabe, no caso da distribuição de Bernoulli, o parâmetro de dispersão é constante e igual a 1.</p>"
   ]
  },
  {
   "cell_type": "code",
   "execution_count": 11,
   "metadata": {},
   "outputs": [
    {
     "data": {
      "text/plain": [
       "\n",
       "Call:\n",
       "glm(formula = sta ~ age, family = binomial(link = \"logit\"), data = dados)\n",
       "\n",
       "Deviance Residuals: \n",
       "    Min       1Q   Median       3Q      Max  \n",
       "-2.2854   0.3905   0.6145   0.7391   0.9536  \n",
       "\n",
       "Coefficients:\n",
       "            Estimate Std. Error z value Pr(>|z|)    \n",
       "(Intercept)  3.05851    0.69608   4.394 1.11e-05 ***\n",
       "age         -0.02754    0.01056  -2.607  0.00913 ** \n",
       "---\n",
       "Signif. codes:  0 ‘***’ 0.001 ‘**’ 0.01 ‘*’ 0.05 ‘.’ 0.1 ‘ ’ 1\n",
       "\n",
       "(Dispersion parameter for binomial family taken to be 1)\n",
       "\n",
       "    Null deviance: 200.16  on 199  degrees of freedom\n",
       "Residual deviance: 192.31  on 198  degrees of freedom\n",
       "AIC: 196.31\n",
       "\n",
       "Number of Fisher Scoring iterations: 4\n"
      ]
     },
     "metadata": {},
     "output_type": "display_data"
    }
   ],
   "source": [
    "summary(object=aj)"
   ]
  },
  {
   "cell_type": "markdown",
   "metadata": {},
   "source": [
    "<p style=\"text-align: justify;font-size: 16px\">Para cada $j\\in\\{0,1,\\cdots,p\\}$, tem-se que\n",
    "        <ol style=\"text-align: justify; font-size:16px\">\n",
    "        <li>a coluna <font face=\"'Courier New'\">Estimate</font> contém o valor de $\\hat\\beta_j$;</li>\n",
    "        <li>a coluna <font face=\"'Courier New'\">Std. Error</font> contém o valor de $\\widehat{Var(\\hat\\beta_j)}$;</li>\n",
    "            <li>a coluna <font face=\"'Courier New'\">z value</font> contém o valor de $t_{W_j}$;</li>\n",
    "            <li>a coluna <font face=\"'Courier New'\">Pr(>|z|)</font> contém o p-valor do teste de Wald para $\\beta_j$.</li>\n",
    "    </ol>\n",
    "</p>"
   ]
  },
  {
   "cell_type": "markdown",
   "metadata": {},
   "source": [
    "<p style=\"text-align: justify;font-size: 16px\">Tanto o p-valor correspondente ao coeficiente da variável <b>distConc</b>, quanto o p-valor correspondente ao coeficiente da variável <b>distLoja</b> são menores do que 5%. Portanto, ao nível de 5% significância, o teste de Wald indica que ambos os coeficientes são significativamente diferentes de zero.</p>"
   ]
  },
  {
   "cell_type": "markdown",
   "metadata": {},
   "source": [
    "### 2.6 Calculando os intervalos de confiança utilizando a função ``confint.default``."
   ]
  },
  {
   "cell_type": "markdown",
   "metadata": {},
   "source": [
    "<p style=\"text-align: justify;font-size: 16px\">A função <font face=\"'Courier New'\">confint.default</font> calcula os intervalos de confiança para os coeficientes de regressão, aproximando a distribuição da quantidade $\\frac{\\hat\\beta_j-\\beta}{\\widehat{Var(\\hat\\beta_j)}}$ pela distribuição $N(0,1)$. Os dois principais argumentos dessa função são:</p>\n",
    "    <ol style=\"text-align: justify; font-size:16px\">\n",
    "        <li><font face=\"'Courier New'\">object</font>: modelo ajustado. Saída da função <font face=\"'Courier New'\">glm</font>.</li>\n",
    "        <li><font face=\"'Courier New'\">level</font>: confiança do intervalo. Valor de $1-\\alpha$.</li>\n",
    "    </ol>\n",
    "</p>"
   ]
  },
  {
   "cell_type": "code",
   "execution_count": 12,
   "metadata": {},
   "outputs": [
    {
     "data": {
      "text/html": [
       "<table>\n",
       "<caption>A matrix: 2 × 2 of type dbl</caption>\n",
       "<thead>\n",
       "\t<tr><th></th><th scope=col>0.5 %</th><th scope=col>99.5 %</th></tr>\n",
       "</thead>\n",
       "<tbody>\n",
       "\t<tr><th scope=row>(Intercept)</th><td> 1.26552679</td><td> 4.8514996798</td></tr>\n",
       "\t<tr><th scope=row>age</th><td>-0.05475409</td><td>-0.0003311277</td></tr>\n",
       "</tbody>\n",
       "</table>\n"
      ],
      "text/latex": [
       "A matrix: 2 × 2 of type dbl\n",
       "\\begin{tabular}{r|ll}\n",
       "  & 0.5 \\% & 99.5 \\%\\\\\n",
       "\\hline\n",
       "\t(Intercept) &  1.26552679 &  4.8514996798\\\\\n",
       "\tage & -0.05475409 & -0.0003311277\\\\\n",
       "\\end{tabular}\n"
      ],
      "text/markdown": [
       "\n",
       "A matrix: 2 × 2 of type dbl\n",
       "\n",
       "| <!--/--> | 0.5 % | 99.5 % |\n",
       "|---|---|---|\n",
       "| (Intercept) |  1.26552679 |  4.8514996798 |\n",
       "| age | -0.05475409 | -0.0003311277 |\n",
       "\n"
      ],
      "text/plain": [
       "            0.5 %       99.5 %       \n",
       "(Intercept)  1.26552679  4.8514996798\n",
       "age         -0.05475409 -0.0003311277"
      ]
     },
     "metadata": {},
     "output_type": "display_data"
    }
   ],
   "source": [
    "confint.default(object=aj,level=0.99)"
   ]
  },
  {
   "cell_type": "markdown",
   "metadata": {},
   "source": [
    "<p style=\"text-align: justify;font-size: 16px\">O intervalo de confiança, com 99% de confiança, do coeficientes da variável <b>age</b> não contém o valor 0. Pode-se concluir que, ao nível de 1% significância, o teste de Wald indica que esse coeficiente é significativamente diferente de zero.</p>"
   ]
  },
  {
   "cell_type": "code",
   "execution_count": null,
   "metadata": {},
   "outputs": [],
   "source": []
  }
 ],
 "metadata": {
  "kernelspec": {
   "display_name": "R",
   "language": "R",
   "name": "ir"
  },
  "language_info": {
   "codemirror_mode": "r",
   "file_extension": ".r",
   "mimetype": "text/x-r-source",
   "name": "R",
   "pygments_lexer": "r",
   "version": "3.6.3"
  }
 },
 "nbformat": 4,
 "nbformat_minor": 2
}

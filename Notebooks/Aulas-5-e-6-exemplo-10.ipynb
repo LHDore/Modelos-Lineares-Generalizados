{
 "cells": [
  {
   "cell_type": "markdown",
   "metadata": {},
   "source": [
    "<div style=\"position:relative; height:160px;\">\n",
    "<img src=\"logoDECATUFS.png\" width=\"500\" height=\"500\" style=\"position:absolute; left:-8px;\">\n",
    "</div>"
   ]
  },
  {
   "cell_type": "markdown",
   "metadata": {},
   "source": [
    "<div style=\"text-align:center;font-size:17px; white-space:pre;margin-top:-35px\">\n",
    "        <h3>             Modelos Lineares Generalizados</h3>\n",
    "        Disciplina ofertada pelo DECAT/UFS\n",
    "        Código: ESTAT0092\n",
    "        Nível: Graduação\n",
    "        Carga horária: 60h\n",
    "        Período: 2020.2\n",
    "        Professor responsável e ministrante: Luiz Henrique Dore\n",
    "        <h3>            Aulas 5 e 6: estimação pelo método da máxima verossimilhança</h3>\n",
    "</div>"
   ]
  },
  {
   "cell_type": "markdown",
   "metadata": {},
   "source": [
    "# Exemplo 8"
   ]
  },
  {
   "cell_type": "markdown",
   "metadata": {},
   "source": [
    "<p style=\"text-align: justify; font-size:16px\">\n",
    "Considere o conjunto de dados <b>icu.csv</b>, descrito no exemplo 3 da aula 2. O objetivo é ajustar um modelo de regressão logística, no qual a variável resposta é a variável <b>sta</b> (Sobrevivência) e a variável preditora é a variável <b>age</b> (Idade).\n",
    "<p>"
   ]
  },
  {
   "cell_type": "markdown",
   "metadata": {},
   "source": [
    "### 8.1 Leitura e visualização dos dados"
   ]
  },
  {
   "cell_type": "code",
   "execution_count": 1,
   "metadata": {},
   "outputs": [
    {
     "data": {
      "text/html": [
       "<table>\n",
       "<caption>A data.frame: 6 × 21</caption>\n",
       "<thead>\n",
       "\t<tr><th></th><th scope=col>id</th><th scope=col>sta</th><th scope=col>age</th><th scope=col>gender</th><th scope=col>race</th><th scope=col>ser</th><th scope=col>can</th><th scope=col>crn</th><th scope=col>inf</th><th scope=col>cpr</th><th scope=col>⋯</th><th scope=col>hra</th><th scope=col>pre</th><th scope=col>type</th><th scope=col>fra</th><th scope=col>po2</th><th scope=col>ph</th><th scope=col>pco</th><th scope=col>bic</th><th scope=col>cre</th><th scope=col>loc</th></tr>\n",
       "\t<tr><th></th><th scope=col>&lt;int&gt;</th><th scope=col>&lt;fct&gt;</th><th scope=col>&lt;int&gt;</th><th scope=col>&lt;fct&gt;</th><th scope=col>&lt;fct&gt;</th><th scope=col>&lt;fct&gt;</th><th scope=col>&lt;fct&gt;</th><th scope=col>&lt;fct&gt;</th><th scope=col>&lt;fct&gt;</th><th scope=col>&lt;fct&gt;</th><th scope=col>⋯</th><th scope=col>&lt;int&gt;</th><th scope=col>&lt;fct&gt;</th><th scope=col>&lt;fct&gt;</th><th scope=col>&lt;fct&gt;</th><th scope=col>&lt;fct&gt;</th><th scope=col>&lt;fct&gt;</th><th scope=col>&lt;fct&gt;</th><th scope=col>&lt;fct&gt;</th><th scope=col>&lt;fct&gt;</th><th scope=col>&lt;fct&gt;</th></tr>\n",
       "</thead>\n",
       "<tbody>\n",
       "\t<tr><th scope=row>1</th><td> 4</td><td>Died </td><td>87</td><td>Female</td><td>White</td><td>Surgical</td><td>No</td><td>No</td><td>Yes</td><td>No</td><td>⋯</td><td> 96</td><td>No </td><td>Emergency</td><td>Yes</td><td>&lt;= 60</td><td>&lt; 7.25 </td><td>&gt; 45 </td><td>&gt;= 18</td><td>&lt;= 2.0</td><td>Nothing</td></tr>\n",
       "\t<tr><th scope=row>2</th><td> 8</td><td>Lived</td><td>27</td><td>Female</td><td>White</td><td>Medical </td><td>No</td><td>No</td><td>Yes</td><td>No</td><td>⋯</td><td> 88</td><td>No </td><td>Emergency</td><td>No </td><td>&gt; 60 </td><td>&gt;= 7.25</td><td>&lt;= 45</td><td>&gt;= 18</td><td>&lt;= 2.0</td><td>Nothing</td></tr>\n",
       "\t<tr><th scope=row>3</th><td>12</td><td>Lived</td><td>59</td><td><span style=white-space:pre-wrap>Male  </span></td><td>White</td><td>Medical </td><td>No</td><td>No</td><td>No </td><td>No</td><td>⋯</td><td> 80</td><td>Yes</td><td>Emergency</td><td>No </td><td>&gt; 60 </td><td>&gt;= 7.25</td><td>&lt;= 45</td><td>&gt;= 18</td><td>&lt;= 2.0</td><td>Nothing</td></tr>\n",
       "\t<tr><th scope=row>4</th><td>14</td><td>Lived</td><td>77</td><td><span style=white-space:pre-wrap>Male  </span></td><td>White</td><td>Surgical</td><td>No</td><td>No</td><td>No </td><td>No</td><td>⋯</td><td> 70</td><td>No </td><td>Elective </td><td>No </td><td>&gt; 60 </td><td>&gt;= 7.25</td><td>&lt;= 45</td><td>&gt;= 18</td><td>&lt;= 2.0</td><td>Nothing</td></tr>\n",
       "\t<tr><th scope=row>5</th><td>27</td><td>Died </td><td>76</td><td>Female</td><td>White</td><td>Surgical</td><td>No</td><td>No</td><td>Yes</td><td>No</td><td>⋯</td><td> 90</td><td>Yes</td><td>Emergency</td><td>No </td><td>&gt; 60 </td><td>&gt;= 7.25</td><td>&lt;= 45</td><td>&gt;= 18</td><td>&lt;= 2.0</td><td>Nothing</td></tr>\n",
       "\t<tr><th scope=row>6</th><td>28</td><td>Lived</td><td>54</td><td><span style=white-space:pre-wrap>Male  </span></td><td>White</td><td>Medical </td><td>No</td><td>No</td><td>Yes</td><td>No</td><td>⋯</td><td>103</td><td>No </td><td>Emergency</td><td>Yes</td><td>&gt; 60 </td><td>&gt;= 7.25</td><td>&lt;= 45</td><td>&gt;= 18</td><td>&lt;= 2.0</td><td>Nothing</td></tr>\n",
       "</tbody>\n",
       "</table>\n"
      ],
      "text/latex": [
       "A data.frame: 6 × 21\n",
       "\\begin{tabular}{r|lllllllllllllllllllll}\n",
       "  & id & sta & age & gender & race & ser & can & crn & inf & cpr & ⋯ & hra & pre & type & fra & po2 & ph & pco & bic & cre & loc\\\\\n",
       "  & <int> & <fct> & <int> & <fct> & <fct> & <fct> & <fct> & <fct> & <fct> & <fct> & ⋯ & <int> & <fct> & <fct> & <fct> & <fct> & <fct> & <fct> & <fct> & <fct> & <fct>\\\\\n",
       "\\hline\n",
       "\t1 &  4 & Died  & 87 & Female & White & Surgical & No & No & Yes & No & ⋯ &  96 & No  & Emergency & Yes & <= 60 & < 7.25  & > 45  & >= 18 & <= 2.0 & Nothing\\\\\n",
       "\t2 &  8 & Lived & 27 & Female & White & Medical  & No & No & Yes & No & ⋯ &  88 & No  & Emergency & No  & > 60  & >= 7.25 & <= 45 & >= 18 & <= 2.0 & Nothing\\\\\n",
       "\t3 & 12 & Lived & 59 & Male   & White & Medical  & No & No & No  & No & ⋯ &  80 & Yes & Emergency & No  & > 60  & >= 7.25 & <= 45 & >= 18 & <= 2.0 & Nothing\\\\\n",
       "\t4 & 14 & Lived & 77 & Male   & White & Surgical & No & No & No  & No & ⋯ &  70 & No  & Elective  & No  & > 60  & >= 7.25 & <= 45 & >= 18 & <= 2.0 & Nothing\\\\\n",
       "\t5 & 27 & Died  & 76 & Female & White & Surgical & No & No & Yes & No & ⋯ &  90 & Yes & Emergency & No  & > 60  & >= 7.25 & <= 45 & >= 18 & <= 2.0 & Nothing\\\\\n",
       "\t6 & 28 & Lived & 54 & Male   & White & Medical  & No & No & Yes & No & ⋯ & 103 & No  & Emergency & Yes & > 60  & >= 7.25 & <= 45 & >= 18 & <= 2.0 & Nothing\\\\\n",
       "\\end{tabular}\n"
      ],
      "text/markdown": [
       "\n",
       "A data.frame: 6 × 21\n",
       "\n",
       "| <!--/--> | id &lt;int&gt; | sta &lt;fct&gt; | age &lt;int&gt; | gender &lt;fct&gt; | race &lt;fct&gt; | ser &lt;fct&gt; | can &lt;fct&gt; | crn &lt;fct&gt; | inf &lt;fct&gt; | cpr &lt;fct&gt; | ⋯ ⋯ | hra &lt;int&gt; | pre &lt;fct&gt; | type &lt;fct&gt; | fra &lt;fct&gt; | po2 &lt;fct&gt; | ph &lt;fct&gt; | pco &lt;fct&gt; | bic &lt;fct&gt; | cre &lt;fct&gt; | loc &lt;fct&gt; |\n",
       "|---|---|---|---|---|---|---|---|---|---|---|---|---|---|---|---|---|---|---|---|---|---|\n",
       "| 1 |  4 | Died  | 87 | Female | White | Surgical | No | No | Yes | No | ⋯ |  96 | No  | Emergency | Yes | &lt;= 60 | &lt; 7.25  | &gt; 45  | &gt;= 18 | &lt;= 2.0 | Nothing |\n",
       "| 2 |  8 | Lived | 27 | Female | White | Medical  | No | No | Yes | No | ⋯ |  88 | No  | Emergency | No  | &gt; 60  | &gt;= 7.25 | &lt;= 45 | &gt;= 18 | &lt;= 2.0 | Nothing |\n",
       "| 3 | 12 | Lived | 59 | Male   | White | Medical  | No | No | No  | No | ⋯ |  80 | Yes | Emergency | No  | &gt; 60  | &gt;= 7.25 | &lt;= 45 | &gt;= 18 | &lt;= 2.0 | Nothing |\n",
       "| 4 | 14 | Lived | 77 | Male   | White | Surgical | No | No | No  | No | ⋯ |  70 | No  | Elective  | No  | &gt; 60  | &gt;= 7.25 | &lt;= 45 | &gt;= 18 | &lt;= 2.0 | Nothing |\n",
       "| 5 | 27 | Died  | 76 | Female | White | Surgical | No | No | Yes | No | ⋯ |  90 | Yes | Emergency | No  | &gt; 60  | &gt;= 7.25 | &lt;= 45 | &gt;= 18 | &lt;= 2.0 | Nothing |\n",
       "| 6 | 28 | Lived | 54 | Male   | White | Medical  | No | No | Yes | No | ⋯ | 103 | No  | Emergency | Yes | &gt; 60  | &gt;= 7.25 | &lt;= 45 | &gt;= 18 | &lt;= 2.0 | Nothing |\n",
       "\n"
      ],
      "text/plain": [
       "  id sta   age gender race  ser      can crn inf cpr ⋯ hra pre type      fra\n",
       "1  4 Died  87  Female White Surgical No  No  Yes No  ⋯  96 No  Emergency Yes\n",
       "2  8 Lived 27  Female White Medical  No  No  Yes No  ⋯  88 No  Emergency No \n",
       "3 12 Lived 59  Male   White Medical  No  No  No  No  ⋯  80 Yes Emergency No \n",
       "4 14 Lived 77  Male   White Surgical No  No  No  No  ⋯  70 No  Elective  No \n",
       "5 27 Died  76  Female White Surgical No  No  Yes No  ⋯  90 Yes Emergency No \n",
       "6 28 Lived 54  Male   White Medical  No  No  Yes No  ⋯ 103 No  Emergency Yes\n",
       "  po2   ph      pco   bic   cre    loc    \n",
       "1 <= 60 < 7.25  > 45  >= 18 <= 2.0 Nothing\n",
       "2 > 60  >= 7.25 <= 45 >= 18 <= 2.0 Nothing\n",
       "3 > 60  >= 7.25 <= 45 >= 18 <= 2.0 Nothing\n",
       "4 > 60  >= 7.25 <= 45 >= 18 <= 2.0 Nothing\n",
       "5 > 60  >= 7.25 <= 45 >= 18 <= 2.0 Nothing\n",
       "6 > 60  >= 7.25 <= 45 >= 18 <= 2.0 Nothing"
      ]
     },
     "metadata": {},
     "output_type": "display_data"
    }
   ],
   "source": [
    "dados<-read.csv(\"/Dados/Google_Drive_UFS/Aulas/2020_2/MLG/Dados/icu.csv\",header=TRUE)\n",
    "n<-dim(dados)[1] #Número de observações\n",
    "p<-dim(dados)[2]+1 #Número de coeficientes (incluindo o intercepto)\n",
    "head(dados) #Visualizando as primeiras observações"
   ]
  },
  {
   "cell_type": "code",
   "execution_count": 2,
   "metadata": {},
   "outputs": [],
   "source": [
    "sta<-dados[,\"sta\"]==\"Lived\"\n",
    "age<-dados[,3]"
   ]
  },
  {
   "cell_type": "code",
   "execution_count": 3,
   "metadata": {},
   "outputs": [
    {
     "data": {
      "image/png": "[encoded data removed]",
      "text/plain": [
       "Plot with title “Sobrevivência vs Idade”"
      ]
     },
     "metadata": {
      "image/png": {
       "height": 420,
       "width": 420
      },
      "text/plain": {
       "height": 420,
       "width": 420
      }
     },
     "output_type": "display_data"
    }
   ],
   "source": [
    "plot(age,sta,pch=20,cex=1.5,xlab=\"Idade\",ylab=\"Sobrevivência\",cex.lab=1.4,cex.main=1.6,main=\"Sobrevivência vs Idade\",cex.axis=1.2)"
   ]
  },
  {
   "cell_type": "markdown",
   "metadata": {},
   "source": [
    "<p style=\"text-align: justify;font-size: 16px\">Agrupando por faixa etária, conforme explicado no exemplo 3 da aula 2.</p>"
   ]
  },
  {
   "cell_type": "code",
   "execution_count": 4,
   "metadata": {},
   "outputs": [
    {
     "data": {
      "image/png": "[encoded data removed]",
      "text/plain": [
       "Plot with title “Proporção de sobreviventes vs Faixa etária”"
      ]
     },
     "metadata": {
      "image/png": {
       "height": 420,
       "width": 420
      },
      "text/plain": {
       "height": 420,
       "width": 420
      }
     },
     "output_type": "display_data"
    }
   ],
   "source": [
    "b<-c(0,30,40,50,60,70,80,100) #Extremos dos intervalos: 0-30, 30-40, 40-50, 50-60, 60-70, 70-80, 80-100.\n",
    "w<-findInterval(age,b) #Identifica a qual intervalo cada paciente pertence.\n",
    "aux<-aggregate(dados[,\"sta\"]==\"Lived\",list(w),mean) #Calcula a proporção de sobreviventes, por intervalo.\n",
    "propGroup<-as.numeric(aux[,2]) #Proporções calculadas.\n",
    "ageGroup<-c(15,35,45,55,65,75,95) #Pontos médios dos intervalos.\n",
    "plot(ageGroup,propGroup,pch=20,cex=1.5,xlab=\"Ponto médio da faixa etária\",ylab=\"Proporção de sobreviventes\",cex.lab=1.4,cex.main=1.6,main=\"Proporção de sobreviventes vs Faixa etária\",cex.axis=1.2)"
   ]
  },
  {
   "cell_type": "markdown",
   "metadata": {},
   "source": [
    "### 8.2 Formulação do modelo"
   ]
  },
  {
   "cell_type": "markdown",
   "metadata": {},
   "source": [
    "<p style=\"text-align: justify; font-size:15px\">\n",
    "    <ol style=\"font-size:16px\">\n",
    "        <li>$Sobrevivência\\sim Bernoulli(\\mu)$;</li>\n",
    "        <li>$\\eta=\\beta_0+\\beta_1\\cdot Idade$;</li>\n",
    "        <li>$\\ln\\left(\\frac{\\mu}{1-\\mu}\\right)=\\eta$.</li>\n",
    "    </ol>\n",
    "</p>"
   ]
  },
  {
   "cell_type": "markdown",
   "metadata": {},
   "source": [
    "### 8.3 Estimação do vetor de coeficientes de regressão $\\boldsymbol{\\beta}$ utilizando o algoritmo escore de Fisher"
   ]
  },
  {
   "cell_type": "markdown",
   "metadata": {},
   "source": [
    "<p style=\"text-align: justify; font-size:16px\">Gerando o vetor dos valores observados da resposta e a matriz design.</p>"
   ]
  },
  {
   "cell_type": "code",
   "execution_count": 5,
   "metadata": {},
   "outputs": [
    {
     "data": {
      "text/html": [
       "<table>\n",
       "<caption>A matrix: 6 × 2 of type dbl</caption>\n",
       "<thead>\n",
       "\t<tr><th scope=col>NA</th><th scope=col>Idade</th></tr>\n",
       "</thead>\n",
       "<tbody>\n",
       "\t<tr><td>1</td><td>87</td></tr>\n",
       "\t<tr><td>1</td><td>27</td></tr>\n",
       "\t<tr><td>1</td><td>59</td></tr>\n",
       "\t<tr><td>1</td><td>77</td></tr>\n",
       "\t<tr><td>1</td><td>76</td></tr>\n",
       "\t<tr><td>1</td><td>54</td></tr>\n",
       "</tbody>\n",
       "</table>\n"
      ],
      "text/latex": [
       "A matrix: 6 × 2 of type dbl\n",
       "\\begin{tabular}{ll}\n",
       " NA & Idade\\\\\n",
       "\\hline\n",
       "\t 1 & 87\\\\\n",
       "\t 1 & 27\\\\\n",
       "\t 1 & 59\\\\\n",
       "\t 1 & 77\\\\\n",
       "\t 1 & 76\\\\\n",
       "\t 1 & 54\\\\\n",
       "\\end{tabular}\n"
      ],
      "text/markdown": [
       "\n",
       "A matrix: 6 × 2 of type dbl\n",
       "\n",
       "| NA | Idade |\n",
       "|---|---|\n",
       "| 1 | 87 |\n",
       "| 1 | 27 |\n",
       "| 1 | 59 |\n",
       "| 1 | 77 |\n",
       "| 1 | 76 |\n",
       "| 1 | 54 |\n",
       "\n"
      ],
      "text/plain": [
       "     <NA> Idade\n",
       "[1,] 1    87   \n",
       "[2,] 1    27   \n",
       "[3,] 1    59   \n",
       "[4,] 1    77   \n",
       "[5,] 1    76   \n",
       "[6,] 1    54   "
      ]
     },
     "metadata": {},
     "output_type": "display_data"
    }
   ],
   "source": [
    "#y=1 se o paciente sobrevive (Lived) e y=0, caso contrário (Died)\n",
    "y<-as.numeric(dados[,\"sta\"]==\"Lived\")\n",
    "X<-as.matrix(dados[,\"age\"])\n",
    "X<-cbind(1,X)\n",
    "colnames(X)[2]<-\"Idade\"\n",
    "head(X)"
   ]
  },
  {
   "cell_type": "markdown",
   "metadata": {},
   "source": [
    "<p style=\"text-align: justify; font-size:16px\">Calculando a estimativa de máxima verossimilhança de $\\boldsymbol{\\beta}$ suando o algoritmo escore de Fisher.</p>"
   ]
  },
  {
   "cell_type": "markdown",
   "metadata": {},
   "source": [
    "<p style=\"text-align: justify; font-size:16px\">No caso da distribuição de Bernoulli, tem-se que $\\boldsymbol{V}=\\hbox{diag}\\left\\{\\mu_1(1-\\mu_1),\\cdots,\\mu_n(1-\\mu_n)\\right\\}$. Como a ligação é canônica, então $\\mu_i=\\frac{e^{\\eta_i}}{e^{\\eta_i}+1}$ e $\\boldsymbol{W}=\\boldsymbol{V}$. A estimativa inicial para cada $\\mu_1,\\cdots,\\mu_n$ é a proporção amostral de sobreviventes. Isto é, $\\mu^{(0)}=(\\bar{y},\\bar{y}\\cdots,\\bar{y})^T$, onde $\\bar{y}$ é a proporção amostral.</p>"
   ]
  },
  {
   "cell_type": "code",
   "execution_count": 6,
   "metadata": {},
   "outputs": [
    {
     "name": "stdout",
     "output_type": "stream",
     "text": [
      "[1] \"O algoritmo escore de Fisher convergiu em 4 passos.\"\n"
     ]
    }
   ],
   "source": [
    "mu0<-rep(mean(y),n) #Estimativa inicial para mu (vetor de médias).\n",
    "eta0<-log(mu0/(1-mu0)) #Cálculo do valor inicial do vetor eta (vetor de preditores lineares)\n",
    "V0<-diag(mu0*(1-mu0)) #Cálculo do valor inicial da matriz diagonal V (matriz das funções de variância)\n",
    "W0<-V0 #Cálculo do valor inicial da matriz diagonal W (matriz de pesos)\n",
    "V0Inv<-diag(1/(mu0*(1-mu0))) #Valor inicial da inversa de V\n",
    "W0Inv<-V0Inv #Valor inicial da inversa de W\n",
    "z0<-eta0+((W0Inv^(1/2))%*%(V0Inv^(1/2)))%*%(y-mu0) #Cálculo do valor inicial de z\n",
    "beta0<-as.numeric(solve(t(X)%*%W0%*%X)%*%(t(X)%*%W0%*%z0)) #Cálculo do valor inicial de beta\n",
    "\n",
    "#Bloco de iteração\n",
    "iterMax<-100 #Número máximo de iterações\n",
    "iter<-0\n",
    "conv<-FALSE\n",
    "while(1){\n",
    "    iter<-iter+1\n",
    "    eta0<-as.numeric(X%*%beta0)  #Atualização do valor do preditor linear\n",
    "    mu0<-exp(eta0)/(exp(eta0)+1) #Atualização do valor de mu\n",
    "    V0<-diag(mu0*(1-mu0)) #Atualização do valor da matriz diagonal V (matriz das funções de variância)\n",
    "    W0<-V0 #Atualização do valor da matriz diagonal W (matriz das funções de pesos)\n",
    "    V0Inv<-diag(1/(mu0*(1-mu0))) #Inversa da matriz diagonal V atualizada\n",
    "    W0Inv<-V0Inv #Inversa da matriz diagonal W atualizada\n",
    "    z0<-eta0+((W0Inv^(1/2))%*%(V0Inv^(1/2)))%*%(y-mu0) #Atualização do valor de z\n",
    "    beta1<-as.numeric(solve(t(X)%*%W0%*%X)%*%(t(X)%*%W0%*%z0)) #Atualização de beta (vetor de coeficientes de regressão)\n",
    "    #Critério de convergência: diferença máxima entre os compenentes de beta(m+1) e beta(m) menor do que 10e-5\n",
    "    if(all(abs(beta0-beta1)<1e-5)){\n",
    "        conv<-TRUE\n",
    "        break\n",
    "    }\n",
    "    beta0<-beta1\n",
    "    if(iter==iterMax){\n",
    "        break\n",
    "    }\n",
    "}\n",
    "\n",
    "if(conv){\n",
    "    print(paste(\"O algoritmo escore de Fisher convergiu em\",iter,\"passos.\"))\n",
    "    beta<-beta1 #Estimativa de máxima verossimilhança de beta\n",
    "    names(beta)<-colnames(X)\n",
    "    names(beta)[1]<-\"Intercepto\"\n",
    "    eta<-X%*%beta #Estimativa de máxima verossimilhança de eta\n",
    "    mu<-exp(eta)/(exp(eta)+1)\n",
    "}\n",
    "if(!conv){\n",
    "    print(paste(\"O algoritmo escore de Fisher não convergiu em\",iter,\"passos.\"))\n",
    "}"
   ]
  },
  {
   "cell_type": "markdown",
   "metadata": {},
   "source": [
    "<p style=\"text-align: justify;font-size: 16px\">Visualizando as estimativas dos coeficientes de regressão.</p>"
   ]
  },
  {
   "cell_type": "code",
   "execution_count": 7,
   "metadata": {},
   "outputs": [
    {
     "name": "stdout",
     "output_type": "stream",
     "text": [
      " Intercepto       Idade \n",
      " 3.05851325 -0.02754261 \n"
     ]
    }
   ],
   "source": [
    "print(beta)"
   ]
  },
  {
   "cell_type": "markdown",
   "metadata": {},
   "source": [
    "### 8.4 Estimação dos parâmetros pelo método escore de Fisher usando a função ``glm``"
   ]
  },
  {
   "cell_type": "markdown",
   "metadata": {},
   "source": [
    "<p style=\"text-align: justify;font-size: 16px\">Carregando os pacotes necessários.</p>"
   ]
  },
  {
   "cell_type": "markdown",
   "metadata": {},
   "source": [
    "<p style=\"text-align: justify;font-size: 16px\">A função <font face=\"'Courier New'\">glm</font> realiza o ajuste de\n",
    "    um MLG. Os coeficientes de regressão são estimados pelo método da máxima verossimilhança, com o algoritmo \n",
    "    escore de Fisher. O estimador do parâmetro de dispersão depende do modelo. Os argumentos mais básicos são</p>\n",
    "    <ol style=\"text-align: justify; font-size:16px\">\n",
    "        <li><font face=\"'Courier New'\">formula</font>: especificação do preditor linear;</li>\n",
    "        <li><font face=\"'Courier New'\">family</font>: especificação da distribuição de probabilidade da resposta e da função de ligação.</li>\n",
    "    </ol>\n",
    "<p style=\"text-align: justify;font-size: 16px\"> Para mais informações sobre a função <font face=\"'Courier \n",
    "    New'\">glm</font> e seus argumentos, acesse a ajuda da função executando o comando <font face=\"'Courier New'\">?glm</font>. Para informações sobre as distribuições de probabilidade e as funções de ligação disponíveis, \n",
    "    execute o comando <font face=\"'Courier New'\">?family</font>.\n",
    "</p>"
   ]
  },
  {
   "cell_type": "code",
   "execution_count": 8,
   "metadata": {},
   "outputs": [],
   "source": [
    "aj<-glm(formula=sta~age,family=binomial(link=\"logit\"),data=dados)\n",
    "beta<-aj$coefficients"
   ]
  },
  {
   "cell_type": "markdown",
   "metadata": {},
   "source": [
    "<p style=\"text-align: justify;font-size: 16px\">Visualizando as estimativas dos coeficientes de regressão.</p>"
   ]
  },
  {
   "cell_type": "code",
   "execution_count": 9,
   "metadata": {},
   "outputs": [
    {
     "name": "stdout",
     "output_type": "stream",
     "text": [
      "(Intercept)         age \n",
      " 3.05851323 -0.02754261 \n"
     ]
    }
   ],
   "source": [
    "print(beta)"
   ]
  },
  {
   "cell_type": "markdown",
   "metadata": {},
   "source": [
    "<p style=\"text-align: justify;font-size: 16px\">Visualizando as respostas médias e os respectivos valores ajustados.</p>"
   ]
  },
  {
   "cell_type": "code",
   "execution_count": 10,
   "metadata": {},
   "outputs": [
    {
     "data": {
      "text/html": [
       "<table>\n",
       "<caption>A matrix: 6 × 2 of type dbl</caption>\n",
       "<thead>\n",
       "\t<tr><th></th><th scope=col>sta</th><th scope=col>muAj</th></tr>\n",
       "</thead>\n",
       "<tbody>\n",
       "\t<tr><th scope=row>1</th><td>0</td><td>0.6597783</td></tr>\n",
       "\t<tr><th scope=row>2</th><td>1</td><td>0.9101005</td></tr>\n",
       "\t<tr><th scope=row>3</th><td>1</td><td>0.8074460</td></tr>\n",
       "\t<tr><th scope=row>4</th><td>1</td><td>0.7186414</td></tr>\n",
       "\t<tr><th scope=row>5</th><td>0</td><td>0.7241767</td></tr>\n",
       "\t<tr><th scope=row>6</th><td>1</td><td>0.8279564</td></tr>\n",
       "</tbody>\n",
       "</table>\n"
      ],
      "text/latex": [
       "A matrix: 6 × 2 of type dbl\n",
       "\\begin{tabular}{r|ll}\n",
       "  & sta & muAj\\\\\n",
       "\\hline\n",
       "\t1 & 0 & 0.6597783\\\\\n",
       "\t2 & 1 & 0.9101005\\\\\n",
       "\t3 & 1 & 0.8074460\\\\\n",
       "\t4 & 1 & 0.7186414\\\\\n",
       "\t5 & 0 & 0.7241767\\\\\n",
       "\t6 & 1 & 0.8279564\\\\\n",
       "\\end{tabular}\n"
      ],
      "text/markdown": [
       "\n",
       "A matrix: 6 × 2 of type dbl\n",
       "\n",
       "| <!--/--> | sta | muAj |\n",
       "|---|---|---|\n",
       "| 1 | 0 | 0.6597783 |\n",
       "| 2 | 1 | 0.9101005 |\n",
       "| 3 | 1 | 0.8074460 |\n",
       "| 4 | 1 | 0.7186414 |\n",
       "| 5 | 0 | 0.7241767 |\n",
       "| 6 | 1 | 0.8279564 |\n",
       "\n"
      ],
      "text/plain": [
       "  sta muAj     \n",
       "1 0   0.6597783\n",
       "2 1   0.9101005\n",
       "3 1   0.8074460\n",
       "4 1   0.7186414\n",
       "5 0   0.7241767\n",
       "6 1   0.8279564"
      ]
     },
     "metadata": {},
     "output_type": "display_data"
    }
   ],
   "source": [
    "muAj<-predict(aj,type=\"response\") #Respostas médias ajustadas\n",
    "head(cbind(sta,muAj))"
   ]
  },
  {
   "cell_type": "markdown",
   "metadata": {},
   "source": [
    "<p style=\"text-align: justify;font-size: 16px\">Visualizando a curva ajustada. Os pacientes são agrupados por faixa etária, conforme explicado no exemplo 3 da aula 2.</p>"
   ]
  },
  {
   "cell_type": "code",
   "execution_count": 11,
   "metadata": {},
   "outputs": [
    {
     "data": {
      "image/png": "[encoded data removed]",
      "text/plain": [
       "Plot with title “Proporção de sobreviventes vs Faixa etária”"
      ]
     },
     "metadata": {
      "image/png": {
       "height": 420,
       "width": 420
      },
      "text/plain": {
       "height": 420,
       "width": 420
      }
     },
     "output_type": "display_data"
    }
   ],
   "source": [
    "b<-c(30,40,50,60,70,80)\n",
    "w<-findInterval(age,b)\n",
    "aux<-aggregate(y,list(w),mean)\n",
    "propGroup<-as.numeric(aux[,2])\n",
    "ageGroup<-c(15,35,45,55,65,75,95)\n",
    "\n",
    "yLim<-c(min(c(propGroup,muAj)),max(c(propGroup,muAj)))\n",
    "\n",
    "I<-order(age)\n",
    "plot(ageGroup,propGroup,pch=20,ylim=yLim,cex=1.5,xlab=\"Ponto médio da faixa etária\",ylab=\"Proporção de sobreviventes\",cex.lab=1.4,cex.main=1.6,main=\"Proporção de sobreviventes vs Faixa etária\",cex.axis=1.2)\n",
    "points(age[I],muAj[I],type=\"l\",col=\"red\")"
   ]
  },
  {
   "cell_type": "markdown",
   "metadata": {},
   "source": [
    "### 8.5 Interpretação do modelo"
   ]
  },
  {
   "cell_type": "markdown",
   "metadata": {},
   "source": [
    "<p style=\"text-align: justify;font-size: 16px\">Visualizando as estimativas dos coeficientes de regressão e do parâmetro de dispersão.</p>"
   ]
  },
  {
   "cell_type": "code",
   "execution_count": 12,
   "metadata": {},
   "outputs": [
    {
     "name": "stdout",
     "output_type": "stream",
     "text": [
      "(Intercept)         age \n",
      " 3.05851323 -0.02754261 \n"
     ]
    }
   ],
   "source": [
    "aux<-summary(aj)\n",
    "beta<-aj$coefficients\n",
    "print(beta)"
   ]
  },
  {
   "cell_type": "markdown",
   "metadata": {},
   "source": [
    "<p style=\"text-align: justify;font-size: 16px\">Equação de regressão ajustada.</p>"
   ]
  },
  {
   "cell_type": "markdown",
   "metadata": {},
   "source": [
    "<p style=\"text-align: justify;font-size: 22px\">$\\hat\\mu=\\frac{e^{3,0585-0,0275\\cdot Idade}}{e^{3,0585-0,0275\\cdot Idade}+1}\\qquad\\hbox{ou}\\qquad\\frac{\\hat\\mu}{1-\\hat\\mu}=odds(\\hat\\mu)=e^{3,0585-0,0275\\cdot Idade}$.</p>"
   ]
  },
  {
   "cell_type": "markdown",
   "metadata": {},
   "source": [
    "<p style=\"text-align: justify;font-size: 16px\">Probabilidade de sobrevivência com 0 anos.</p>"
   ]
  },
  {
   "cell_type": "code",
   "execution_count": 13,
   "metadata": {},
   "outputs": [
    {
     "data": {
      "text/html": [
       "0.955148080466997"
      ],
      "text/latex": [
       "0.955148080466997"
      ],
      "text/markdown": [
       "0.955148080466997"
      ],
      "text/plain": [
       "[1] 0.9551481"
      ]
     },
     "metadata": {},
     "output_type": "display_data"
    }
   ],
   "source": [
    "exp(3.0585)/(exp(3.0585)+1)"
   ]
  },
  {
   "cell_type": "markdown",
   "metadata": {},
   "source": [
    "<p style=\"text-align: justify;font-size: 16px\">Calculando a exponencial dos coeficientes de regressão.</p>"
   ]
  },
  {
   "cell_type": "code",
   "execution_count": 14,
   "metadata": {},
   "outputs": [
    {
     "name": "stdout",
     "output_type": "stream",
     "text": [
      "(Intercept)         age \n",
      " 21.2958716   0.9728332 \n"
     ]
    }
   ],
   "source": [
    "print(exp(beta))"
   ]
  },
  {
   "cell_type": "markdown",
   "metadata": {},
   "source": [
    "<p style=\"text-align: justify; font-size:16px\">Interpretando os coeficientes de regressão. </p>\n",
    "    <ol style=\"text-align: justify; font-size:16px\">\n",
    "        <li>Estima-se que pacientes com zero anos de idade sobrevivem com cerca de 96% de probabilidade.</li>\n",
    "        <li>Como $\\beta_1$ é negativo, quanto maior a idade, menor a probabilidade de sobrevivência.</li>\n",
    "        <li>Quando a idade aumenta um ano, a chance fica 0,97 vezes menor. Ou seja, cada ano a \n",
    "            mais na idade do paciente reduz sua chance em 3%. A proabilidade de sobreviver fica 3% menor em relação a probabilidade de não sobreviver.</li>\n",
    "    </ol>"
   ]
  },
  {
   "cell_type": "code",
   "execution_count": null,
   "metadata": {},
   "outputs": [],
   "source": []
  }
 ],
 "metadata": {
  "kernelspec": {
   "display_name": "R",
   "language": "R",
   "name": "ir"
  },
  "language_info": {
   "codemirror_mode": "r",
   "file_extension": ".r",
   "mimetype": "text/x-r-source",
   "name": "R",
   "pygments_lexer": "r",
   "version": "3.6.3"
  }
 },
 "nbformat": 4,
 "nbformat_minor": 2
}

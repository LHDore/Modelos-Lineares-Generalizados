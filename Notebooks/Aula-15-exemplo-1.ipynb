{
 "cells": [
  {
   "cell_type": "markdown",
   "metadata": {},
   "source": [
    "<div style=\"position:relative; height:160px;\">\n",
    "<img src=\"logoDECATUFS.png\" width=\"500\" height=\"500\" style=\"position:absolute; left:-8px;\">\n",
    "</div>"
   ]
  },
  {
   "cell_type": "markdown",
   "metadata": {},
   "source": [
    "<div style=\"text-align:center;font-size:17px; white-space:pre;margin-top:-35px\">\n",
    "        <h3>             Modelos Lineares Generalizados</h3>\n",
    "        Disciplina ofertada pelo DECAT/UFS\n",
    "        Código: ESTAT0092\n",
    "        Nível: Graduação\n",
    "        Carga horária: 60h\n",
    "        Período: 2020.2\n",
    "        Professor responsável e ministrante: Luiz Henrique Dore\n",
    "        <h3>            Aula 15: seleção das variáveis</h3>\n",
    "</div>"
   ]
  },
  {
   "cell_type": "markdown",
   "metadata": {},
   "source": [
    "# Exemplo 1"
   ]
  },
  {
   "cell_type": "markdown",
   "metadata": {},
   "source": [
    "<p style=\"text-align: justify; font-size:16px\">\n",
    "Considere o conjunto de dados <b>store.dat</b>, cuja descrição foi feita no exemplo 2 da aula 2. O objetivo é ajustar um modelo de regressão Poisson, no qual a variável resposta é o número de clientes e as <b>possíveis</b> variáveis preditoras são o número de domicílios, a renda média anual, a idade média dos domicílios, a distância ao concorrente mais próximo e a distância à loja. A busca exaustiva e o algoritmo stepwise são aplicados para determinar quais dessas variáveis preditoras devem fazer parte do modelo.\n",
    "<p>"
   ]
  },
  {
   "cell_type": "markdown",
   "metadata": {},
   "source": [
    "### 1.1 Leitura e visualização dos dados"
   ]
  },
  {
   "cell_type": "code",
   "execution_count": 1,
   "metadata": {},
   "outputs": [
    {
     "data": {
      "text/html": [
       "<table>\n",
       "<caption>A data.frame: 6 × 6</caption>\n",
       "<thead>\n",
       "\t<tr><th></th><th scope=col>numClientes</th><th scope=col>numDom</th><th scope=col>rendaMedia</th><th scope=col>idadeDom</th><th scope=col>distConc</th><th scope=col>distLoja</th></tr>\n",
       "\t<tr><th></th><th scope=col>&lt;int&gt;</th><th scope=col>&lt;int&gt;</th><th scope=col>&lt;int&gt;</th><th scope=col>&lt;int&gt;</th><th scope=col>&lt;dbl&gt;</th><th scope=col>&lt;dbl&gt;</th></tr>\n",
       "</thead>\n",
       "<tbody>\n",
       "\t<tr><th scope=row>1</th><td> 9</td><td>606</td><td>41393</td><td> 3</td><td>3.04</td><td>6.32</td></tr>\n",
       "\t<tr><th scope=row>2</th><td> 6</td><td>641</td><td>23635</td><td>18</td><td>1.95</td><td>8.89</td></tr>\n",
       "\t<tr><th scope=row>3</th><td>28</td><td>505</td><td>55475</td><td>27</td><td>6.54</td><td>2.05</td></tr>\n",
       "\t<tr><th scope=row>4</th><td>11</td><td>866</td><td>64646</td><td>31</td><td>1.67</td><td>5.81</td></tr>\n",
       "\t<tr><th scope=row>5</th><td> 4</td><td>599</td><td>31972</td><td> 7</td><td>0.72</td><td>8.11</td></tr>\n",
       "\t<tr><th scope=row>6</th><td> 4</td><td>520</td><td>41755</td><td>23</td><td>2.24</td><td>6.81</td></tr>\n",
       "</tbody>\n",
       "</table>\n"
      ],
      "text/latex": [
       "A data.frame: 6 × 6\n",
       "\\begin{tabular}{r|llllll}\n",
       "  & numClientes & numDom & rendaMedia & idadeDom & distConc & distLoja\\\\\n",
       "  & <int> & <int> & <int> & <int> & <dbl> & <dbl>\\\\\n",
       "\\hline\n",
       "\t1 &  9 & 606 & 41393 &  3 & 3.04 & 6.32\\\\\n",
       "\t2 &  6 & 641 & 23635 & 18 & 1.95 & 8.89\\\\\n",
       "\t3 & 28 & 505 & 55475 & 27 & 6.54 & 2.05\\\\\n",
       "\t4 & 11 & 866 & 64646 & 31 & 1.67 & 5.81\\\\\n",
       "\t5 &  4 & 599 & 31972 &  7 & 0.72 & 8.11\\\\\n",
       "\t6 &  4 & 520 & 41755 & 23 & 2.24 & 6.81\\\\\n",
       "\\end{tabular}\n"
      ],
      "text/markdown": [
       "\n",
       "A data.frame: 6 × 6\n",
       "\n",
       "| <!--/--> | numClientes &lt;int&gt; | numDom &lt;int&gt; | rendaMedia &lt;int&gt; | idadeDom &lt;int&gt; | distConc &lt;dbl&gt; | distLoja &lt;dbl&gt; |\n",
       "|---|---|---|---|---|---|---|\n",
       "| 1 |  9 | 606 | 41393 |  3 | 3.04 | 6.32 |\n",
       "| 2 |  6 | 641 | 23635 | 18 | 1.95 | 8.89 |\n",
       "| 3 | 28 | 505 | 55475 | 27 | 6.54 | 2.05 |\n",
       "| 4 | 11 | 866 | 64646 | 31 | 1.67 | 5.81 |\n",
       "| 5 |  4 | 599 | 31972 |  7 | 0.72 | 8.11 |\n",
       "| 6 |  4 | 520 | 41755 | 23 | 2.24 | 6.81 |\n",
       "\n"
      ],
      "text/plain": [
       "  numClientes numDom rendaMedia idadeDom distConc distLoja\n",
       "1  9          606    41393       3       3.04     6.32    \n",
       "2  6          641    23635      18       1.95     8.89    \n",
       "3 28          505    55475      27       6.54     2.05    \n",
       "4 11          866    64646      31       1.67     5.81    \n",
       "5  4          599    31972       7       0.72     8.11    \n",
       "6  4          520    41755      23       2.24     6.81    "
      ]
     },
     "metadata": {},
     "output_type": "display_data"
    }
   ],
   "source": [
    "dados<-read.table(\"/Dados/Google_Drive_UFS/Aulas/2020_2/MLG/Dados/store.dat\",header=TRUE)\n",
    "n<-dim(dados)[1] #Número de observações\n",
    "head(dados) #Visualizando as primeiras observações"
   ]
  },
  {
   "cell_type": "markdown",
   "metadata": {},
   "source": [
    "### 1.2 Seleção das variáveis pelo método da busca exaustiva, utilizando a função ``glmulti``"
   ]
  },
  {
   "cell_type": "markdown",
   "metadata": {},
   "source": [
    "<p style=\"text-align: justify;font-size: 16px\">Carregando os pacotes necessários.</p>"
   ]
  },
  {
   "cell_type": "code",
   "execution_count": 2,
   "metadata": {},
   "outputs": [
    {
     "name": "stderr",
     "output_type": "stream",
     "text": [
      "Loading required package: rJava\n",
      "\n",
      "Loading required package: leaps\n",
      "\n"
     ]
    }
   ],
   "source": [
    "library(\"glmulti\")"
   ]
  },
  {
   "cell_type": "markdown",
   "metadata": {},
   "source": [
    "<p style=\"text-align: justify;font-size: 16px\">A função <font face=\"'Courier New'\">glmulti</font> seleciona o submodelo pelo método da busca exaustiva. Os principais argumentos da função são os seguintes:</p>\n",
    "    <ol style=\"text-align: justify; font-size:16px\">\n",
    "        <li><font face=\"'Courier New'\">y</font>: string contendo o nome da variável resposta;</li>\n",
    "        <li><font face=\"'Courier New'\">xr</font>: vetor de strings contendo os nomes das variáveis preditoras disponíveis;</li>\n",
    "        <li><font face=\"'Courier New'\">level</font>: indica se apenas os efeitos principais devem ser considerados (<font face=\"'Courier New'\">level=1</font>) ou se devem ser consideradas também as interações (<font face=\"'Courier New'\">level=2</font>);</li>\n",
    "        <li><font face=\"'Courier New'\">data</font>: data frame contendo as variáveis resposta e preditoras;</li>\n",
    "        <li><font face=\"'Courier New'\">method</font>: método de busca do submodelo ótimo; para realizar a busca exaustiva, deve-se informar <font face=\"'Courier New'\">method=\"h\"</font>;</li>\n",
    "        <li><font face=\"'Courier New'\">crit</font>: critério de informação a ser utilizado; para utilizar o critério de Akaike, deve-se informar <font face=\"'Courier New'\">crit=\"aic\"</font>;</li>\n",
    "        <li><font face=\"'Courier New'\">fitfunction</font>: função que realiza o ajuste de regressão; para ajustar um mlg, deve-se informar <font face=\"'Courier New'\">fitfunction=\"glm\"</font>;</li>\n",
    "        <li><font face=\"'Courier New'\">family</font>: especificação da distribuição de probabilidade da resposta e da função de ligação;</li>\n",
    "        <li><font face=\"'Courier New'\">confsetsize</font>: tamanho da lista com os melhores modelos.</li>\n",
    "    </ol>\n",
    "    <p style=\"text-align: justify;font-size: 16px\">Para mais informações sobre a função <font face=\"'Courier New'\">glmulti</font> e seus argumentos, acesse a ajuda da função executando o comando <font face=\"'Courier New'\">?glmulti</font>.<p>\n",
    "</p>"
   ]
  },
  {
   "cell_type": "code",
   "execution_count": 3,
   "metadata": {},
   "outputs": [
    {
     "name": "stdout",
     "output_type": "stream",
     "text": [
      "Initialization...\n",
      "TASK: Exhaustive screening of candidate set.\n",
      "Fitting...\n",
      "\n",
      "After 50 models:\n",
      "Best model: numClientes~1+numDom+rendaMedia+idadeDom+distConc+distLoja\n",
      "Crit= 571.024271442436\n",
      "Mean crit= 583.607658154653\n",
      "Completed.\n"
     ]
    },
    {
     "data": {
      "image/png": "[encoded data removed]",
      "text/plain": [
       "Plot with title “IC profile”"
      ]
     },
     "metadata": {
      "image/png": {
       "height": 420,
       "width": 420
      },
      "text/plain": {
       "height": 420,
       "width": 420
      }
     },
     "output_type": "display_data"
    }
   ],
   "source": [
    "respName<-names(dados)[1] #Nomes das variável resposta\n",
    "predNames<-names(dados)[-1] #Nomes das variáveis prediotras\n",
    "ajExaust<-glmulti(y=respName,xr=predNames,level=1,data=dados,method=\"h\",crit=\"aic\",fitfunction=\"glm\",family=poisson(link=\"log\"),confsetsize=5)"
   ]
  },
  {
   "cell_type": "markdown",
   "metadata": {},
   "source": [
    "<p style=\"text-align: justify;font-size: 16px\">Visualizando a lista com os cinco melhores modelos. O primeiro modelo na lista é o que produz o menor valor de AIC.<p>"
   ]
  },
  {
   "cell_type": "code",
   "execution_count": 4,
   "metadata": {},
   "outputs": [
    {
     "data": {
      "text/plain": [
       "[[1]]\n",
       "\n",
       "Call:  fitfunc(formula = as.formula(x), family = ..1, data = data)\n",
       "\n",
       "Coefficients:\n",
       "(Intercept)       numDom   rendaMedia     idadeDom     distConc     distLoja  \n",
       "  2.942e+00    6.058e-04   -1.169e-05   -3.726e-03    1.684e-01   -1.288e-01  \n",
       "\n",
       "Degrees of Freedom: 109 Total (i.e. Null);  104 Residual\n",
       "Null Deviance:\t    422.2 \n",
       "Residual Deviance: 115 \tAIC: 571\n",
       "\n",
       "[[2]]\n",
       "\n",
       "Call:  fitfunc(formula = as.formula(x), family = ..1, data = data)\n",
       "\n",
       "Coefficients:\n",
       "(Intercept)       numDom   rendaMedia     distConc     distLoja  \n",
       "  2.833e+00    5.504e-04   -1.106e-05    1.677e-01   -1.263e-01  \n",
       "\n",
       "Degrees of Freedom: 109 Total (i.e. Null);  105 Residual\n",
       "Null Deviance:\t    422.2 \n",
       "Residual Deviance: 119.4 \tAIC: 573.4\n",
       "\n",
       "[[3]]\n",
       "\n",
       "Call:  fitfunc(formula = as.formula(x), family = ..1, data = data)\n",
       "\n",
       "Coefficients:\n",
       "(Intercept)   rendaMedia     distConc     distLoja  \n",
       "  2.964e+00   -6.327e-06    1.693e-01   -1.270e-01  \n",
       "\n",
       "Degrees of Freedom: 109 Total (i.e. Null);  106 Residual\n",
       "Null Deviance:\t    422.2 \n",
       "Residual Deviance: 135 \tAIC: 587\n",
       "\n",
       "[[4]]\n",
       "\n",
       "Call:  fitfunc(formula = as.formula(x), family = ..1, data = data)\n",
       "\n",
       "Coefficients:\n",
       "(Intercept)   rendaMedia     idadeDom     distConc     distLoja  \n",
       "  3.042e+00   -6.412e-06   -2.342e-03    1.697e-01   -1.286e-01  \n",
       "\n",
       "Degrees of Freedom: 109 Total (i.e. Null);  105 Residual\n",
       "Null Deviance:\t    422.2 \n",
       "Residual Deviance: 133.2 \tAIC: 587.2\n",
       "\n",
       "[[5]]\n",
       "\n",
       "Call:  fitfunc(formula = as.formula(x), family = ..1, data = data)\n",
       "\n",
       "Coefficients:\n",
       "(Intercept)     distConc     distLoja  \n",
       "     2.5951       0.1516      -0.1091  \n",
       "\n",
       "Degrees of Freedom: 109 Total (i.e. Null);  107 Residual\n",
       "Null Deviance:\t    422.2 \n",
       "Residual Deviance: 149.3 \tAIC: 599.4\n"
      ]
     },
     "metadata": {},
     "output_type": "display_data"
    }
   ],
   "source": [
    "bestModels<-slot(ajExaust,\"objects\")\n",
    "bestModels"
   ]
  },
  {
   "cell_type": "markdown",
   "metadata": {},
   "source": [
    "<p style=\"text-align: justify;font-size: 16px\">O modelo com menor AIC é o modelo contendo todas as variáveis preditoras disponíveis.<p>"
   ]
  },
  {
   "cell_type": "markdown",
   "metadata": {},
   "source": [
    "<p style=\"text-align: justify;font-size: 16px\">Visualizando o ajuste do modelo com menor AIC.<p>"
   ]
  },
  {
   "cell_type": "code",
   "execution_count": 5,
   "metadata": {},
   "outputs": [
    {
     "data": {
      "text/plain": [
       "\n",
       "Call:\n",
       "fitfunc(formula = as.formula(x), family = ..1, data = data)\n",
       "\n",
       "Deviance Residuals: \n",
       "     Min        1Q    Median        3Q       Max  \n",
       "-2.93195  -0.58868  -0.00009   0.59269   2.23441  \n",
       "\n",
       "Coefficients:\n",
       "              Estimate Std. Error z value Pr(>|z|)    \n",
       "(Intercept)  2.942e+00  2.072e-01  14.198  < 2e-16 ***\n",
       "numDom       6.058e-04  1.421e-04   4.262 2.02e-05 ***\n",
       "rendaMedia  -1.169e-05  2.112e-06  -5.534 3.13e-08 ***\n",
       "idadeDom    -3.726e-03  1.782e-03  -2.091   0.0365 *  \n",
       "distConc     1.684e-01  2.577e-02   6.534 6.39e-11 ***\n",
       "distLoja    -1.288e-01  1.620e-02  -7.948 1.89e-15 ***\n",
       "---\n",
       "Signif. codes:  0 ‘***’ 0.001 ‘**’ 0.01 ‘*’ 0.05 ‘.’ 0.1 ‘ ’ 1\n",
       "\n",
       "(Dispersion parameter for poisson family taken to be 1)\n",
       "\n",
       "    Null deviance: 422.22  on 109  degrees of freedom\n",
       "Residual deviance: 114.99  on 104  degrees of freedom\n",
       "AIC: 571.02\n",
       "\n",
       "Number of Fisher Scoring iterations: 4\n"
      ]
     },
     "metadata": {},
     "output_type": "display_data"
    }
   ],
   "source": [
    "ajBest<-bestModels[[1]]\n",
    "summary(ajBest)"
   ]
  },
  {
   "cell_type": "markdown",
   "metadata": {},
   "source": [
    "<p style=\"text-align: justify;font-size: 16px\">Como há 5 variáveis preditoras, o total de submodelos possíveis é $2^5=32$. Para produzir uma lista com todos esses submodelos, informe um número maior ou igual a 32 no argumento <font face=\"'Courier New'\">confsetsize</font>.<p>"
   ]
  },
  {
   "cell_type": "code",
   "execution_count": 6,
   "metadata": {},
   "outputs": [
    {
     "name": "stdout",
     "output_type": "stream",
     "text": [
      "Initialization...\n",
      "TASK: Exhaustive screening of candidate set.\n",
      "Fitting...\n",
      "\n",
      "After 50 models:\n",
      "Best model: numClientes~1+numDom+rendaMedia+idadeDom+distConc+distLoja\n",
      "Crit= 571.024271442436\n",
      "Mean crit= 676.509444037793\n",
      "Completed.\n"
     ]
    },
    {
     "data": {
      "image/png": "[encoded data removed]",
      "text/plain": [
       "Plot with title “IC profile”"
      ]
     },
     "metadata": {
      "image/png": {
       "height": 420,
       "width": 420
      },
      "text/plain": {
       "height": 420,
       "width": 420
      }
     },
     "output_type": "display_data"
    }
   ],
   "source": [
    "ajExaustTodos<-glmulti(y=respName,xr=predNames,level=1,data=dados,method=\"h\",crit=\"aic\",fitfunction=\"glm\",family=poisson(link=\"log\"),confsetsize=100)"
   ]
  },
  {
   "cell_type": "markdown",
   "metadata": {},
   "source": [
    "<p style=\"text-align: justify;font-size: 16px\">Visualizando a lista com todos os 32 submodelos. O primeiro modelo na lista é o que produz o menor valor de AIC.<p>"
   ]
  },
  {
   "cell_type": "code",
   "execution_count": 7,
   "metadata": {},
   "outputs": [
    {
     "data": {
      "text/plain": [
       "[[1]]\n",
       "\n",
       "Call:  fitfunc(formula = as.formula(x), family = ..1, data = data)\n",
       "\n",
       "Coefficients:\n",
       "(Intercept)       numDom   rendaMedia     idadeDom     distConc     distLoja  \n",
       "  2.942e+00    6.058e-04   -1.169e-05   -3.726e-03    1.684e-01   -1.288e-01  \n",
       "\n",
       "Degrees of Freedom: 109 Total (i.e. Null);  104 Residual\n",
       "Null Deviance:\t    422.2 \n",
       "Residual Deviance: 115 \tAIC: 571\n",
       "\n",
       "[[2]]\n",
       "\n",
       "Call:  fitfunc(formula = as.formula(x), family = ..1, data = data)\n",
       "\n",
       "Coefficients:\n",
       "(Intercept)       numDom   rendaMedia     distConc     distLoja  \n",
       "  2.833e+00    5.504e-04   -1.106e-05    1.677e-01   -1.263e-01  \n",
       "\n",
       "Degrees of Freedom: 109 Total (i.e. Null);  105 Residual\n",
       "Null Deviance:\t    422.2 \n",
       "Residual Deviance: 119.4 \tAIC: 573.4\n",
       "\n",
       "[[3]]\n",
       "\n",
       "Call:  fitfunc(formula = as.formula(x), family = ..1, data = data)\n",
       "\n",
       "Coefficients:\n",
       "(Intercept)   rendaMedia     distConc     distLoja  \n",
       "  2.964e+00   -6.327e-06    1.693e-01   -1.270e-01  \n",
       "\n",
       "Degrees of Freedom: 109 Total (i.e. Null);  106 Residual\n",
       "Null Deviance:\t    422.2 \n",
       "Residual Deviance: 135 \tAIC: 587\n",
       "\n",
       "[[4]]\n",
       "\n",
       "Call:  fitfunc(formula = as.formula(x), family = ..1, data = data)\n",
       "\n",
       "Coefficients:\n",
       "(Intercept)   rendaMedia     idadeDom     distConc     distLoja  \n",
       "  3.042e+00   -6.412e-06   -2.342e-03    1.697e-01   -1.286e-01  \n",
       "\n",
       "Degrees of Freedom: 109 Total (i.e. Null);  105 Residual\n",
       "Null Deviance:\t    422.2 \n",
       "Residual Deviance: 133.2 \tAIC: 587.2\n",
       "\n",
       "[[5]]\n",
       "\n",
       "Call:  fitfunc(formula = as.formula(x), family = ..1, data = data)\n",
       "\n",
       "Coefficients:\n",
       "(Intercept)     distConc     distLoja  \n",
       "     2.5951       0.1516      -0.1091  \n",
       "\n",
       "Degrees of Freedom: 109 Total (i.e. Null);  107 Residual\n",
       "Null Deviance:\t    422.2 \n",
       "Residual Deviance: 149.3 \tAIC: 599.4\n",
       "\n",
       "[[6]]\n",
       "\n",
       "Call:  fitfunc(formula = as.formula(x), family = ..1, data = data)\n",
       "\n",
       "Coefficients:\n",
       "(Intercept)     idadeDom     distConc     distLoja  \n",
       "   2.655939    -0.002006     0.151862    -0.110128  \n",
       "\n",
       "Degrees of Freedom: 109 Total (i.e. Null);  106 Residual\n",
       "Null Deviance:\t    422.2 \n",
       "Residual Deviance: 148 \tAIC: 600\n",
       "\n",
       "[[7]]\n",
       "\n",
       "Call:  fitfunc(formula = as.formula(x), family = ..1, data = data)\n",
       "\n",
       "Coefficients:\n",
       "(Intercept)       numDom     distConc     distLoja  \n",
       "  2.5143486    0.0001113    0.1483339   -0.1063447  \n",
       "\n",
       "Degrees of Freedom: 109 Total (i.e. Null);  106 Residual\n",
       "Null Deviance:\t    422.2 \n",
       "Residual Deviance: 148.4 \tAIC: 600.4\n",
       "\n",
       "[[8]]\n",
       "\n",
       "Call:  fitfunc(formula = as.formula(x), family = ..1, data = data)\n",
       "\n",
       "Coefficients:\n",
       "(Intercept)       numDom     idadeDom     distConc     distLoja  \n",
       "  2.5701025    0.0001262   -0.0022050    0.1482251   -0.1071144  \n",
       "\n",
       "Degrees of Freedom: 109 Total (i.e. Null);  105 Residual\n",
       "Null Deviance:\t    422.2 \n",
       "Residual Deviance: 146.8 \tAIC: 600.8\n",
       "\n",
       "[[9]]\n",
       "\n",
       "Call:  fitfunc(formula = as.formula(x), family = ..1, data = data)\n",
       "\n",
       "Coefficients:\n",
       "(Intercept)       numDom   rendaMedia     idadeDom     distLoja  \n",
       "  3.831e+00    6.215e-04   -9.730e-06   -3.570e-03   -1.972e-01  \n",
       "\n",
       "Degrees of Freedom: 109 Total (i.e. Null);  105 Residual\n",
       "Null Deviance:\t    422.2 \n",
       "Residual Deviance: 156.6 \tAIC: 610.7\n",
       "\n",
       "[[10]]\n",
       "\n",
       "Call:  fitfunc(formula = as.formula(x), family = ..1, data = data)\n",
       "\n",
       "Coefficients:\n",
       "(Intercept)       numDom   rendaMedia     distLoja  \n",
       "  3.719e+00    5.693e-04   -9.111e-06   -1.943e-01  \n",
       "\n",
       "Degrees of Freedom: 109 Total (i.e. Null);  106 Residual\n",
       "Null Deviance:\t    422.2 \n",
       "Residual Deviance: 160.7 \tAIC: 612.8\n",
       "\n",
       "[[11]]\n",
       "\n",
       "Call:  fitfunc(formula = as.formula(x), family = ..1, data = data)\n",
       "\n",
       "Coefficients:\n",
       "(Intercept)   rendaMedia     distLoja  \n",
       "  3.875e+00   -4.316e-06   -1.966e-01  \n",
       "\n",
       "Degrees of Freedom: 109 Total (i.e. Null);  107 Residual\n",
       "Null Deviance:\t    422.2 \n",
       "Residual Deviance: 177.5 \tAIC: 627.5\n",
       "\n",
       "[[12]]\n",
       "\n",
       "Call:  fitfunc(formula = as.formula(x), family = ..1, data = data)\n",
       "\n",
       "Coefficients:\n",
       "(Intercept)   rendaMedia     idadeDom     distLoja  \n",
       "  3.952e+00   -4.423e-06   -2.192e-03   -1.984e-01  \n",
       "\n",
       "Degrees of Freedom: 109 Total (i.e. Null);  106 Residual\n",
       "Null Deviance:\t    422.2 \n",
       "Residual Deviance: 175.9 \tAIC: 627.9\n",
       "\n",
       "[[13]]\n",
       "\n",
       "Call:  fitfunc(formula = as.formula(x), family = ..1, data = data)\n",
       "\n",
       "Coefficients:\n",
       "(Intercept)       numDom     distLoja  \n",
       "  3.3670822    0.0002001   -0.1715195  \n",
       "\n",
       "Degrees of Freedom: 109 Total (i.e. Null);  107 Residual\n",
       "Null Deviance:\t    422.2 \n",
       "Residual Deviance: 181.3 \tAIC: 631.3\n",
       "\n",
       "[[14]]\n",
       "\n",
       "Call:  fitfunc(formula = as.formula(x), family = ..1, data = data)\n",
       "\n",
       "Coefficients:\n",
       "(Intercept)       numDom     idadeDom     distLoja  \n",
       "  3.4239924    0.0002142   -0.0022299   -0.1723513  \n",
       "\n",
       "Degrees of Freedom: 109 Total (i.e. Null);  106 Residual\n",
       "Null Deviance:\t    422.2 \n",
       "Residual Deviance: 179.6 \tAIC: 631.7\n",
       "\n",
       "[[15]]\n",
       "\n",
       "Call:  fitfunc(formula = as.formula(x), family = ..1, data = data)\n",
       "\n",
       "Coefficients:\n",
       "(Intercept)     distLoja  \n",
       "     3.5493      -0.1792  \n",
       "\n",
       "Degrees of Freedom: 109 Total (i.e. Null);  108 Residual\n",
       "Null Deviance:\t    422.2 \n",
       "Residual Deviance: 184.4 \tAIC: 632.4\n",
       "\n",
       "[[16]]\n",
       "\n",
       "Call:  fitfunc(formula = as.formula(x), family = ..1, data = data)\n",
       "\n",
       "Coefficients:\n",
       "(Intercept)     idadeDom     distLoja  \n",
       "   3.609249    -0.001912    -0.180339  \n",
       "\n",
       "Degrees of Freedom: 109 Total (i.e. Null);  107 Residual\n",
       "Null Deviance:\t    422.2 \n",
       "Residual Deviance: 183.2 \tAIC: 633.2\n",
       "\n",
       "[[17]]\n",
       "\n",
       "Call:  fitfunc(formula = as.formula(x), family = ..1, data = data)\n",
       "\n",
       "Coefficients:\n",
       "(Intercept)       numDom   rendaMedia     idadeDom     distConc  \n",
       "  1.478e+00    5.957e-04   -7.101e-06   -2.684e-03    2.853e-01  \n",
       "\n",
       "Degrees of Freedom: 109 Total (i.e. Null);  105 Residual\n",
       "Null Deviance:\t    422.2 \n",
       "Residual Deviance: 182.5 \tAIC: 636.5\n",
       "\n",
       "[[18]]\n",
       "\n",
       "Call:  fitfunc(formula = as.formula(x), family = ..1, data = data)\n",
       "\n",
       "Coefficients:\n",
       "(Intercept)       numDom   rendaMedia     distConc  \n",
       "  1.419e+00    5.550e-04   -6.705e-06    2.832e-01  \n",
       "\n",
       "Degrees of Freedom: 109 Total (i.e. Null);  106 Residual\n",
       "Null Deviance:\t    422.2 \n",
       "Residual Deviance: 184.8 \tAIC: 636.8\n",
       "\n",
       "[[19]]\n",
       "\n",
       "Call:  fitfunc(formula = as.formula(x), family = ..1, data = data)\n",
       "\n",
       "Coefficients:\n",
       "(Intercept)       numDom     distConc  \n",
       "  1.3595294    0.0002608    0.2603084  \n",
       "\n",
       "Degrees of Freedom: 109 Total (i.e. Null);  107 Residual\n",
       "Null Deviance:\t    422.2 \n",
       "Residual Deviance: 196.4 \tAIC: 646.4\n",
       "\n",
       "[[20]]\n",
       "\n",
       "Call:  fitfunc(formula = as.formula(x), family = ..1, data = data)\n",
       "\n",
       "Coefficients:\n",
       "(Intercept)       numDom     idadeDom     distConc  \n",
       "  1.3977190    0.0002746   -0.0018012    0.2608844  \n",
       "\n",
       "Degrees of Freedom: 109 Total (i.e. Null);  106 Residual\n",
       "Null Deviance:\t    422.2 \n",
       "Residual Deviance: 195.3 \tAIC: 647.4\n",
       "\n",
       "[[21]]\n",
       "\n",
       "Call:  fitfunc(formula = as.formula(x), family = ..1, data = data)\n",
       "\n",
       "Coefficients:\n",
       "(Intercept)     distConc  \n",
       "     1.4876       0.2741  \n",
       "\n",
       "Degrees of Freedom: 109 Total (i.e. Null);  108 Residual\n",
       "Null Deviance:\t    422.2 \n",
       "Residual Deviance: 201.9 \tAIC: 649.9\n",
       "\n",
       "[[22]]\n",
       "\n",
       "Call:  fitfunc(formula = as.formula(x), family = ..1, data = data)\n",
       "\n",
       "Coefficients:\n",
       "(Intercept)   rendaMedia     distConc  \n",
       "  1.546e+00   -1.906e-06    2.849e-01  \n",
       "\n",
       "Degrees of Freedom: 109 Total (i.e. Null);  107 Residual\n",
       "Null Deviance:\t    422.2 \n",
       "Residual Deviance: 200.4 \tAIC: 650.4\n",
       "\n",
       "[[23]]\n",
       "\n",
       "Call:  fitfunc(formula = as.formula(x), family = ..1, data = data)\n",
       "\n",
       "Coefficients:\n",
       "(Intercept)     idadeDom     distConc  \n",
       "   1.519428    -0.001271     0.275023  \n",
       "\n",
       "Degrees of Freedom: 109 Total (i.e. Null);  107 Residual\n",
       "Null Deviance:\t    422.2 \n",
       "Residual Deviance: 201.4 \tAIC: 651.4\n",
       "\n",
       "[[24]]\n",
       "\n",
       "Call:  fitfunc(formula = as.formula(x), family = ..1, data = data)\n",
       "\n",
       "Coefficients:\n",
       "(Intercept)   rendaMedia     idadeDom     distConc  \n",
       "  1.580e+00   -1.924e-06   -1.315e-03    2.859e-01  \n",
       "\n",
       "Degrees of Freedom: 109 Total (i.e. Null);  106 Residual\n",
       "Null Deviance:\t    422.2 \n",
       "Residual Deviance: 199.8 \tAIC: 651.9\n",
       "\n",
       "[[25]]\n",
       "\n",
       "Call:  fitfunc(formula = as.formula(x), family = ..1, data = data)\n",
       "\n",
       "Coefficients:\n",
       "(Intercept)       numDom  \n",
       "  1.9366164    0.0007131  \n",
       "\n",
       "Degrees of Freedom: 109 Total (i.e. Null);  108 Residual\n",
       "Null Deviance:\t    422.2 \n",
       "Residual Deviance: 379.6 \tAIC: 827.6\n",
       "\n",
       "[[26]]\n",
       "\n",
       "Call:  fitfunc(formula = as.formula(x), family = ..1, data = data)\n",
       "\n",
       "Coefficients:\n",
       "(Intercept)       numDom   rendaMedia  \n",
       "  1.906e+00    6.339e-04    1.672e-06  \n",
       "\n",
       "Degrees of Freedom: 109 Total (i.e. Null);  107 Residual\n",
       "Null Deviance:\t    422.2 \n",
       "Residual Deviance: 378.8 \tAIC: 828.8\n",
       "\n",
       "[[27]]\n",
       "\n",
       "Call:  fitfunc(formula = as.formula(x), family = ..1, data = data)\n",
       "\n",
       "Coefficients:\n",
       "(Intercept)       numDom     idadeDom  \n",
       "  1.9632151    0.0007224   -0.0011976  \n",
       "\n",
       "Degrees of Freedom: 109 Total (i.e. Null);  107 Residual\n",
       "Null Deviance:\t    422.2 \n",
       "Residual Deviance: 379.1 \tAIC: 829.1\n",
       "\n",
       "[[28]]\n",
       "\n",
       "Call:  fitfunc(formula = as.formula(x), family = ..1, data = data)\n",
       "\n",
       "Coefficients:\n",
       "(Intercept)       numDom   rendaMedia     idadeDom  \n",
       "  1.931e+00    6.491e-04    1.509e-06   -9.824e-04  \n",
       "\n",
       "Degrees of Freedom: 109 Total (i.e. Null);  106 Residual\n",
       "Null Deviance:\t    422.2 \n",
       "Residual Deviance: 378.4 \tAIC: 830.5\n",
       "\n",
       "[[29]]\n",
       "\n",
       "Call:  fitfunc(formula = as.formula(x), family = ..1, data = data)\n",
       "\n",
       "Coefficients:\n",
       "(Intercept)   rendaMedia  \n",
       "  2.065e+00    7.002e-06  \n",
       "\n",
       "Degrees of Freedom: 109 Total (i.e. Null);  108 Residual\n",
       "Null Deviance:\t    422.2 \n",
       "Residual Deviance: 399.1 \tAIC: 847.2\n",
       "\n",
       "[[30]]\n",
       "\n",
       "Call:  fitfunc(formula = as.formula(x), family = ..1, data = data)\n",
       "\n",
       "Coefficients:\n",
       "(Intercept)   rendaMedia     idadeDom  \n",
       "  2.051e+00    7.021e-06    4.802e-04  \n",
       "\n",
       "Degrees of Freedom: 109 Total (i.e. Null);  107 Residual\n",
       "Null Deviance:\t    422.2 \n",
       "Residual Deviance: 399.1 \tAIC: 849.1\n",
       "\n",
       "[[31]]\n",
       "\n",
       "Call:  fitfunc(formula = as.formula(x), family = ..1, data = data)\n",
       "\n",
       "Coefficients:\n",
       "(Intercept)  \n",
       "      2.416  \n",
       "\n",
       "Degrees of Freedom: 109 Total (i.e. Null);  109 Residual\n",
       "Null Deviance:\t    422.2 \n",
       "Residual Deviance: 422.2 \tAIC: 868.3\n",
       "\n",
       "[[32]]\n",
       "\n",
       "Call:  fitfunc(formula = as.formula(x), family = ..1, data = data)\n",
       "\n",
       "Coefficients:\n",
       "(Intercept)     idadeDom  \n",
       "  2.4098059    0.0002224  \n",
       "\n",
       "Degrees of Freedom: 109 Total (i.e. Null);  108 Residual\n",
       "Null Deviance:\t    422.2 \n",
       "Residual Deviance: 422.2 \tAIC: 870.2\n"
      ]
     },
     "metadata": {},
     "output_type": "display_data"
    }
   ],
   "source": [
    "slot(ajExaustTodos,\"objects\")"
   ]
  },
  {
   "cell_type": "markdown",
   "metadata": {},
   "source": [
    "### 1.3 Seleção das variáveis pelo método stepwise utilizando a função ``step``"
   ]
  },
  {
   "cell_type": "markdown",
   "metadata": {},
   "source": [
    "<p style=\"text-align: justify;font-size: 16px\">A função <font face=\"'Courier New'\">step</font> seleciona o submodelo pelo método stepwise. Os principais argumentos da função são os seguintes:</p>\n",
    "    <ol style=\"text-align: justify; font-size:16px\">\n",
    "        <li><font face=\"'Courier New'\">object</font>:  modelo ajustado. Saída da função <font face=\"'Courier New'\">glm</font>;</li>\n",
    "        <li><font face=\"'Courier New'\">scope</font>: lista contendo os elementos <font face=\"'Courier New'\">lower</font>, que é a fórmula do menor modelo a ser examinado, e <font face=\"'Courier New'\">upper</font>, que é a fórmula do maior modelo a ser examinado;</li>\n",
    "        <li><font face=\"'Courier New'\">direction</font>: algoritmo a ser utilizado; para o forward, informa-se <font face=\"'Courier New'\">direction=\"forward\"</font>; para o backward, informa-se <font face=\"'Courier New'\">direction=\"backward\"</font>; para o stepwise, informa-se <font face=\"'Courier New'\">direction=\"both\"</font>;</li>\n",
    "        <li><font face=\"'Courier New'\">k</font>: constante que deve ser multiplicada pelo número $p$ de variáveis no cálculo do critério de informação; para obter o AIC, informa-se <font face=\"'Courier New'\">k=2</font>; para obter o BIC, informa-se <font face=\"'Courier New'\">k=$\\ln(n)$</font>, onde $n$ é o número de observações.</li>\n",
    "    </ol>\n",
    "</p>"
   ]
  },
  {
   "cell_type": "markdown",
   "metadata": {},
   "source": [
    "<p style=\"text-align: justify;font-size: 16px\">Para que o algoritmo leve em conta todas as variáveis, ajuste o modelo sem variáveis preditoras informe esse ajuste como o argumento <font face=\"'Courier New'\">object</font>. No argumento <font face=\"'Courier New'\">scope</font>, o elemento <font face=\"'Courier New'\">lower</font> deve ser a fórmula do modelo sem variáveis preditoras e o elemento <font face=\"'Courier New'\">upper</font> a fórmula do modelo com todas as variáveis disponíveis.</p>"
   ]
  },
  {
   "cell_type": "code",
   "execution_count": 8,
   "metadata": {},
   "outputs": [
    {
     "name": "stdout",
     "output_type": "stream",
     "text": [
      "Start:  AIC=868.26\n",
      "numClientes ~ 1\n",
      "\n",
      "             Df Deviance    AIC\n",
      "+ distLoja    1   184.41 632.45\n",
      "+ distConc    1   201.90 649.93\n",
      "+ numDom      1   379.56 827.60\n",
      "+ rendaMedia  1   399.15 847.19\n",
      "<none>            422.22 868.26\n",
      "+ idadeDom    1   422.20 870.24\n",
      "\n",
      "Step:  AIC=632.45\n",
      "numClientes ~ distLoja\n",
      "\n",
      "             Df Deviance    AIC\n",
      "+ distConc    1   149.33 599.37\n",
      "+ rendaMedia  1   177.45 627.49\n",
      "+ numDom      1   181.29 631.33\n",
      "<none>            184.41 632.45\n",
      "+ idadeDom    1   183.19 633.23\n",
      "- distLoja    1   422.22 868.26\n",
      "\n",
      "Step:  AIC=599.37\n",
      "numClientes ~ distLoja + distConc\n",
      "\n",
      "             Df Deviance    AIC\n",
      "+ rendaMedia  1   134.98 587.02\n",
      "<none>            149.33 599.37\n",
      "+ idadeDom    1   148.00 600.04\n",
      "+ numDom      1   148.37 600.41\n",
      "- distConc    1   184.41 632.45\n",
      "- distLoja    1   201.90 649.93\n",
      "\n",
      "Step:  AIC=587.02\n",
      "numClientes ~ distLoja + distConc + rendaMedia\n",
      "\n",
      "             Df Deviance    AIC\n",
      "+ numDom      1   119.36 573.40\n",
      "<none>            134.98 587.02\n",
      "+ idadeDom    1   133.19 587.23\n",
      "- rendaMedia  1   149.33 599.37\n",
      "- distConc    1   177.45 627.49\n",
      "- distLoja    1   200.38 650.42\n",
      "\n",
      "Step:  AIC=573.4\n",
      "numClientes ~ distLoja + distConc + rendaMedia + numDom\n",
      "\n",
      "             Df Deviance    AIC\n",
      "+ idadeDom    1   114.98 571.02\n",
      "<none>            119.36 573.40\n",
      "- numDom      1   134.98 587.02\n",
      "- rendaMedia  1   148.37 600.41\n",
      "- distConc    1   160.72 612.76\n",
      "- distLoja    1   184.76 636.80\n",
      "\n",
      "Step:  AIC=571.02\n",
      "numClientes ~ distLoja + distConc + rendaMedia + numDom + idadeDom\n",
      "\n",
      "             Df Deviance    AIC\n",
      "<none>            114.98 571.02\n",
      "- idadeDom    1   119.36 573.40\n",
      "- numDom      1   133.19 587.23\n",
      "- rendaMedia  1   146.78 600.82\n",
      "- distConc    1   156.65 610.68\n",
      "- distLoja    1   182.49 636.52\n"
     ]
    }
   ],
   "source": [
    "aj0<-glm(numClientes~1,family=poisson(link=\"log\"),data=dados) #Ajustando o modelo sem variáveis preditoras\n",
    "ajStep<-step(aj0,scope=list(lower=numClientes~1,upper=numClientes~numDom+rendaMedia+idadeDom+distConc+distLoja),direction=\"both\",k=2) #Executando o stepwise"
   ]
  },
  {
   "cell_type": "markdown",
   "metadata": {},
   "source": [
    "<p style=\"text-align: justify;font-size: 16px\">O modelo com menor AIC, obtido pelo algoritmo stepwise, é o modelo com todas as variáveis preditoras.</p>"
   ]
  },
  {
   "cell_type": "markdown",
   "metadata": {},
   "source": [
    "<p style=\"text-align: justify;font-size: 16px\">Visualizando o ajuste do modelo com menor AIC.<p>"
   ]
  },
  {
   "cell_type": "code",
   "execution_count": 9,
   "metadata": {},
   "outputs": [
    {
     "data": {
      "text/plain": [
       "\n",
       "Call:\n",
       "glm(formula = numClientes ~ distLoja + distConc + rendaMedia + \n",
       "    numDom + idadeDom, family = poisson(link = \"log\"), data = dados)\n",
       "\n",
       "Deviance Residuals: \n",
       "     Min        1Q    Median        3Q       Max  \n",
       "-2.93195  -0.58868  -0.00009   0.59269   2.23441  \n",
       "\n",
       "Coefficients:\n",
       "              Estimate Std. Error z value Pr(>|z|)    \n",
       "(Intercept)  2.942e+00  2.072e-01  14.198  < 2e-16 ***\n",
       "distLoja    -1.288e-01  1.620e-02  -7.948 1.89e-15 ***\n",
       "distConc     1.684e-01  2.577e-02   6.534 6.39e-11 ***\n",
       "rendaMedia  -1.169e-05  2.112e-06  -5.534 3.13e-08 ***\n",
       "numDom       6.058e-04  1.421e-04   4.262 2.02e-05 ***\n",
       "idadeDom    -3.726e-03  1.782e-03  -2.091   0.0365 *  \n",
       "---\n",
       "Signif. codes:  0 ‘***’ 0.001 ‘**’ 0.01 ‘*’ 0.05 ‘.’ 0.1 ‘ ’ 1\n",
       "\n",
       "(Dispersion parameter for poisson family taken to be 1)\n",
       "\n",
       "    Null deviance: 422.22  on 109  degrees of freedom\n",
       "Residual deviance: 114.99  on 104  degrees of freedom\n",
       "AIC: 571.02\n",
       "\n",
       "Number of Fisher Scoring iterations: 4\n"
      ]
     },
     "metadata": {},
     "output_type": "display_data"
    }
   ],
   "source": [
    "summary(ajStep)"
   ]
  },
  {
   "cell_type": "markdown",
   "metadata": {},
   "source": [
    "<p style=\"text-align: justify;font-size: 16px\">O modelo obtido pelo algoritmo stepwise é igual aquele obtido pela busca exaustiva.</p>"
   ]
  },
  {
   "cell_type": "code",
   "execution_count": null,
   "metadata": {},
   "outputs": [],
   "source": []
  }
 ],
 "metadata": {
  "kernelspec": {
   "display_name": "R",
   "language": "R",
   "name": "ir"
  },
  "language_info": {
   "codemirror_mode": "r",
   "file_extension": ".r",
   "mimetype": "text/x-r-source",
   "name": "R",
   "pygments_lexer": "r",
   "version": "3.6.3"
  }
 },
 "nbformat": 4,
 "nbformat_minor": 2
}

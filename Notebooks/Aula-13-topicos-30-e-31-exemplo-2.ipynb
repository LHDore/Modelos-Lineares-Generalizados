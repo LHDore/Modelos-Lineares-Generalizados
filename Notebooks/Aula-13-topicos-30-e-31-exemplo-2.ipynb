{
 "cells": [
  {
   "cell_type": "markdown",
   "metadata": {},
   "source": [
    "<div style=\"position:relative; height:160px;\">\n",
    "<img src=\"logoDECATUFS.png\" width=\"500\" height=\"500\" style=\"position:absolute; left:-8px;\">\n",
    "</div>"
   ]
  },
  {
   "cell_type": "markdown",
   "metadata": {},
   "source": [
    "<div style=\"text-align:center;font-size:17px; white-space:pre;margin-top:-35px\">\n",
    "        <h3>             Modelos Lineares Generalizados</h3>\n",
    "        Disciplina ofertada pelo DECAT/UFS\n",
    "        Código: ESTAT0092\n",
    "        Nível: Graduação\n",
    "        Carga horária: 60h\n",
    "        Período: 2020.2\n",
    "        Professor responsável e ministrante: Luiz Henrique Dore\n",
    "        <h3>            Aula 13: avaliação da significância individual dos coeficientes de regressão</h3>\n",
    "</div>"
   ]
  },
  {
   "cell_type": "markdown",
   "metadata": {},
   "source": [
    "# Exemplo 1"
   ]
  },
  {
   "cell_type": "markdown",
   "metadata": {},
   "source": [
    "<p style=\"text-align: justify; font-size:16px\">\n",
    "Considere o conjunto de dados <b>trees.dat</b>, descrito no exemplo 4 da aula 2. Os objetivos são os seguintes: ajustar um modelo de regressão gama, com ligação logarítmica, no qual a variável resposta é o volume e as variáveis preditoras são a altura e o diâmetro e realizar as predições dos volumes médios correspondentes às alturas e aos diâmetros dados na tabela abaixo.\n",
    "    <table style=\"width:15%\" align=\"center\">\n",
    "  <tr>\n",
    "    <th style=\"text-align: center; vertical-align: middle;\">Altura</th>\n",
    "    <th style=\"text-align: center; vertical-align: middle;\">Diâmetro</th>\n",
    "  </tr>\n",
    "  <tr>\n",
    "    <td style=\"text-align: center; vertical-align: middle;\">70</td>\n",
    "    <td style=\"text-align: center; vertical-align: middle;\">11</td>\n",
    "  </tr>\n",
    "  <tr>\n",
    "    <td style=\"text-align: center; vertical-align: middle;\">75</td>\n",
    "    <td style=\"text-align: center; vertical-align: middle;\">12</td>\n",
    "  </tr>\n",
    "  <tr>\n",
    "    <td style=\"text-align: center; vertical-align: middle;\">83</td>\n",
    "    <td style=\"text-align: center; vertical-align: middle;\">18</td>\n",
    "  </tr>\n",
    "</table>\n",
    "<p>"
   ]
  },
  {
   "cell_type": "markdown",
   "metadata": {},
   "source": [
    "### 2.1 Leitura e visualização dos dados"
   ]
  },
  {
   "cell_type": "code",
   "execution_count": 1,
   "metadata": {},
   "outputs": [
    {
     "data": {
      "text/html": [
       "<table>\n",
       "<caption>A data.frame: 6 × 3</caption>\n",
       "<thead>\n",
       "\t<tr><th></th><th scope=col>Diametro</th><th scope=col>Altura</th><th scope=col>Volume</th></tr>\n",
       "\t<tr><th></th><th scope=col>&lt;dbl&gt;</th><th scope=col>&lt;int&gt;</th><th scope=col>&lt;dbl&gt;</th></tr>\n",
       "</thead>\n",
       "<tbody>\n",
       "\t<tr><th scope=row>1</th><td> 8.3</td><td>70</td><td>10.3</td></tr>\n",
       "\t<tr><th scope=row>2</th><td> 8.6</td><td>65</td><td>10.3</td></tr>\n",
       "\t<tr><th scope=row>3</th><td> 8.8</td><td>63</td><td>10.2</td></tr>\n",
       "\t<tr><th scope=row>4</th><td>10.5</td><td>72</td><td>16.4</td></tr>\n",
       "\t<tr><th scope=row>5</th><td>10.7</td><td>81</td><td>18.8</td></tr>\n",
       "\t<tr><th scope=row>6</th><td>10.8</td><td>83</td><td>19.7</td></tr>\n",
       "</tbody>\n",
       "</table>\n"
      ],
      "text/latex": [
       "A data.frame: 6 × 3\n",
       "\\begin{tabular}{r|lll}\n",
       "  & Diametro & Altura & Volume\\\\\n",
       "  & <dbl> & <int> & <dbl>\\\\\n",
       "\\hline\n",
       "\t1 &  8.3 & 70 & 10.3\\\\\n",
       "\t2 &  8.6 & 65 & 10.3\\\\\n",
       "\t3 &  8.8 & 63 & 10.2\\\\\n",
       "\t4 & 10.5 & 72 & 16.4\\\\\n",
       "\t5 & 10.7 & 81 & 18.8\\\\\n",
       "\t6 & 10.8 & 83 & 19.7\\\\\n",
       "\\end{tabular}\n"
      ],
      "text/markdown": [
       "\n",
       "A data.frame: 6 × 3\n",
       "\n",
       "| <!--/--> | Diametro &lt;dbl&gt; | Altura &lt;int&gt; | Volume &lt;dbl&gt; |\n",
       "|---|---|---|---|\n",
       "| 1 |  8.3 | 70 | 10.3 |\n",
       "| 2 |  8.6 | 65 | 10.3 |\n",
       "| 3 |  8.8 | 63 | 10.2 |\n",
       "| 4 | 10.5 | 72 | 16.4 |\n",
       "| 5 | 10.7 | 81 | 18.8 |\n",
       "| 6 | 10.8 | 83 | 19.7 |\n",
       "\n"
      ],
      "text/plain": [
       "  Diametro Altura Volume\n",
       "1  8.3     70     10.3  \n",
       "2  8.6     65     10.3  \n",
       "3  8.8     63     10.2  \n",
       "4 10.5     72     16.4  \n",
       "5 10.7     81     18.8  \n",
       "6 10.8     83     19.7  "
      ]
     },
     "metadata": {},
     "output_type": "display_data"
    }
   ],
   "source": [
    "dados<-read.table(\"/Dados/Google_Drive_UFS/Aulas/2020_2/MLG/Dados/trees.dat\",header=TRUE)\n",
    "n<-dim(dados)[1] #Número de observações\n",
    "head(dados) #Visualizando as primeiras observações"
   ]
  },
  {
   "cell_type": "code",
   "execution_count": 2,
   "metadata": {},
   "outputs": [],
   "source": [
    "diam<-dados[,1]\n",
    "alt<-dados[,2]\n",
    "vol<-dados[,3]"
   ]
  },
  {
   "cell_type": "markdown",
   "metadata": {},
   "source": [
    "### 2.2 Formulação do modelo"
   ]
  },
  {
   "cell_type": "markdown",
   "metadata": {},
   "source": [
    "<p style=\"text-align: justify; font-size:15px\">\n",
    "    <ol style=\"font-size:16px\">\n",
    "        <li>$Volume\\sim Gama(a,b)$;</li>\n",
    "        <li>$\\eta=\\beta_0+\\beta_1\\cdot Altura+\\beta_2\\cdot Diâmetro$;</li>\n",
    "        <li>$\\ln\\left(\\mu\\right)=\\eta$.</li>\n",
    "    </ol>\n",
    "</p>"
   ]
  },
  {
   "cell_type": "markdown",
   "metadata": {},
   "source": [
    "### 2.3 Estimação dos parâmetros por máxima verossimilhança usando as funções ``glm`` e ``gamma.shape``."
   ]
  },
  {
   "cell_type": "markdown",
   "metadata": {},
   "source": [
    "<p style=\"text-align: justify;font-size: 16px\">Carregando os pacotes necessários.</p>"
   ]
  },
  {
   "cell_type": "code",
   "execution_count": 3,
   "metadata": {},
   "outputs": [],
   "source": [
    "library(MASS) #Contém a função gamma.shape"
   ]
  },
  {
   "cell_type": "markdown",
   "metadata": {},
   "source": [
    "<p style=\"text-align: justify;font-size: 16px\">Estimação dos coeficientes de regressão.</p>"
   ]
  },
  {
   "cell_type": "code",
   "execution_count": 4,
   "metadata": {},
   "outputs": [],
   "source": [
    "aj<-glm(formula=Volume~Altura+Diametro,family=Gamma(link=\"log\"),data=dados)\n",
    "beta<-aj$coefficients"
   ]
  },
  {
   "cell_type": "markdown",
   "metadata": {},
   "source": [
    "<p style=\"text-align: justify;font-size: 16px\">Estimação do parâmetro de dispersão pelo método da máxima verossimilhança.</p>"
   ]
  },
  {
   "cell_type": "code",
   "execution_count": 5,
   "metadata": {},
   "outputs": [],
   "source": [
    "ajPhi<-gamma.shape(aj)\n",
    "alpha<-ajPhi$alpha\n",
    "phi<-1/alpha\n",
    "names(phi)<-\"Dispersão\""
   ]
  },
  {
   "cell_type": "markdown",
   "metadata": {},
   "source": [
    "<p style=\"text-align: justify;font-size: 16px\">Estimação do parâmetro de dispersão utilizando o estimador de Pearso (fórmula 41, tópico 16, aula 6).</p>"
   ]
  },
  {
   "cell_type": "markdown",
   "metadata": {},
   "source": [
    "<p style=\"text-align: justify;font-size: 16px\">Para obter a estimativa de Pearson de $\\phi$, utilize o comando <font face=\"'Courier New'\">summary(object)&#36;dispersion</font>, no qual o argumento <font face=\"'Courier New'\">object</font> é o modelo ajustado, ou seja, é a saída da função <font face=\"'Courier New'\">glm</font>.</p>"
   ]
  },
  {
   "cell_type": "code",
   "execution_count": 6,
   "metadata": {},
   "outputs": [],
   "source": [
    "#phi<-summary(aj)$dispersion"
   ]
  },
  {
   "cell_type": "markdown",
   "metadata": {},
   "source": [
    "<p style=\"text-align: justify;font-size: 16px\">Visualizando as estimativas dos parâmetros.</p>"
   ]
  },
  {
   "cell_type": "code",
   "execution_count": 7,
   "metadata": {},
   "outputs": [
    {
     "name": "stdout",
     "output_type": "stream",
     "text": [
      "(Intercept)      Altura    Diametro   Dispersão \n",
      "0.092304581 0.016577883 0.145281192 0.008455011 \n"
     ]
    }
   ],
   "source": [
    "print(c(beta,phi))"
   ]
  },
  {
   "cell_type": "markdown",
   "metadata": {},
   "source": [
    "### 1.4 Realizando as predições e calculando os intervalos de predição manualmente"
   ]
  },
  {
   "cell_type": "markdown",
   "metadata": {},
   "source": [
    "<p style=\"text-align: justify; font-size:16px\">Gerando o vetor dos valores observados da resposta e a matriz design.</p>"
   ]
  },
  {
   "cell_type": "code",
   "execution_count": 8,
   "metadata": {},
   "outputs": [
    {
     "data": {
      "text/html": [
       "<table>\n",
       "<caption>A matrix: 6 × 3 of type dbl</caption>\n",
       "<thead>\n",
       "\t<tr><th scope=col></th><th scope=col>altura</th><th scope=col>diametro</th></tr>\n",
       "</thead>\n",
       "<tbody>\n",
       "\t<tr><td>1</td><td>70</td><td> 8.3</td></tr>\n",
       "\t<tr><td>1</td><td>65</td><td> 8.6</td></tr>\n",
       "\t<tr><td>1</td><td>63</td><td> 8.8</td></tr>\n",
       "\t<tr><td>1</td><td>72</td><td>10.5</td></tr>\n",
       "\t<tr><td>1</td><td>81</td><td>10.7</td></tr>\n",
       "\t<tr><td>1</td><td>83</td><td>10.8</td></tr>\n",
       "</tbody>\n",
       "</table>\n"
      ],
      "text/latex": [
       "A matrix: 6 × 3 of type dbl\n",
       "\\begin{tabular}{lll}\n",
       "  & altura & diametro\\\\\n",
       "\\hline\n",
       "\t 1 & 70 &  8.3\\\\\n",
       "\t 1 & 65 &  8.6\\\\\n",
       "\t 1 & 63 &  8.8\\\\\n",
       "\t 1 & 72 & 10.5\\\\\n",
       "\t 1 & 81 & 10.7\\\\\n",
       "\t 1 & 83 & 10.8\\\\\n",
       "\\end{tabular}\n"
      ],
      "text/markdown": [
       "\n",
       "A matrix: 6 × 3 of type dbl\n",
       "\n",
       "| <!----> | altura | diametro |\n",
       "|---|---|---|\n",
       "| 1 | 70 |  8.3 |\n",
       "| 1 | 65 |  8.6 |\n",
       "| 1 | 63 |  8.8 |\n",
       "| 1 | 72 | 10.5 |\n",
       "| 1 | 81 | 10.7 |\n",
       "| 1 | 83 | 10.8 |\n",
       "\n"
      ],
      "text/plain": [
       "       altura diametro\n",
       "[1,] 1 70      8.3    \n",
       "[2,] 1 65      8.6    \n",
       "[3,] 1 63      8.8    \n",
       "[4,] 1 72     10.5    \n",
       "[5,] 1 81     10.7    \n",
       "[6,] 1 83     10.8    "
      ]
     },
     "metadata": {},
     "output_type": "display_data"
    }
   ],
   "source": [
    "y<-vol\n",
    "X<-cbind(alt,diam)\n",
    "X<-cbind(1,X)\n",
    "colnames(X)<-c(\"\",\"altura\",\"diametro\")\n",
    "head(X)"
   ]
  },
  {
   "cell_type": "markdown",
   "metadata": {},
   "source": [
    "<p style=\"text-align: justify; font-size:16px\">No caso da distribuição gama, com ligação exponencial, tem-se $\\mu=g^{-1}(\\eta)=e^{\\eta}$. Logo, o valor de $\\mu$ predito pelo modelo é \n",
    "    $$\\hat\\mu=g^{-1}(\\hat\\eta)=e^{\\hat\\eta}.$$\n",
    "O intervalo de predição é\n",
    "    $$\\left(e^{\\hat\\eta-z_{\\left(1-\\frac{\\alpha}{2}\\right)}\\sqrt{\\hat{\\sigma}^2_{\\hat\\eta}}};\\ e^{\\hat\\eta+z_{\\left(1-\\frac{\\alpha}{2}\\right)}\\sqrt{\\hat{\\sigma}^2_{\\hat\\eta}}}\\right),$$\n",
    "onde $\\hat{\\sigma}^2_{\\hat\\eta}=\\boldsymbol{x}^T\\boldsymbol{K}^{\\ \\ \\ -1}_{\\boldsymbol{\\widehat\\beta}\\boldsymbol{\\widehat\\beta}}\\boldsymbol{x},\\ $ com $\\ \\boldsymbol{K}_{\\boldsymbol{\\widehat\\beta}\\boldsymbol{\\widehat\\beta}}=\\hat\\phi^{-1}X^TX\\ $ (ver exemplo 4 da aula 5). \n",
    "</p>"
   ]
  },
  {
   "cell_type": "markdown",
   "metadata": {},
   "source": [
    "<p style=\"text-align: justify;font-size: 16px\">Calculando e visualizando a matriz $\\boldsymbol{K}^{\\ \\ \\ -1}_{\\boldsymbol{\\widehat\\beta}\\boldsymbol{\\widehat\\beta}}$.</p>"
   ]
  },
  {
   "cell_type": "code",
   "execution_count": 9,
   "metadata": {},
   "outputs": [
    {
     "data": {
      "text/html": [
       "<table>\n",
       "<caption>A matrix: 3 × 3 of type dbl</caption>\n",
       "<thead>\n",
       "\t<tr><th></th><th scope=col></th><th scope=col>altura</th><th scope=col>diametro</th></tr>\n",
       "</thead>\n",
       "<tbody>\n",
       "\t<tr><th scope=row></th><td> 0.0418687331</td><td>-5.895870e-04</td><td> 2.424916e-04</td></tr>\n",
       "\t<tr><th scope=row>altura</th><td>-0.0005895870</td><td> 9.504668e-06</td><td>-1.002143e-05</td></tr>\n",
       "\t<tr><th scope=row>diametro</th><td> 0.0002424916</td><td>-1.002143e-05</td><td> 3.918490e-05</td></tr>\n",
       "</tbody>\n",
       "</table>\n"
      ],
      "text/latex": [
       "A matrix: 3 × 3 of type dbl\n",
       "\\begin{tabular}{r|lll}\n",
       "  &  & altura & diametro\\\\\n",
       "\\hline\n",
       "\t &  0.0418687331 & -5.895870e-04 &  2.424916e-04\\\\\n",
       "\taltura & -0.0005895870 &  9.504668e-06 & -1.002143e-05\\\\\n",
       "\tdiametro &  0.0002424916 & -1.002143e-05 &  3.918490e-05\\\\\n",
       "\\end{tabular}\n"
      ],
      "text/markdown": [
       "\n",
       "A matrix: 3 × 3 of type dbl\n",
       "\n",
       "| <!--/--> | <!----> | altura | diametro |\n",
       "|---|---|---|---|\n",
       "| <!----> |  0.0418687331 | -5.895870e-04 |  2.424916e-04 |\n",
       "| altura | -0.0005895870 |  9.504668e-06 | -1.002143e-05 |\n",
       "| diametro |  0.0002424916 | -1.002143e-05 |  3.918490e-05 |\n",
       "\n"
      ],
      "text/plain": [
       "                       altura        diametro     \n",
       "          0.0418687331 -5.895870e-04  2.424916e-04\n",
       "altura   -0.0005895870  9.504668e-06 -1.002143e-05\n",
       "diametro  0.0002424916 -1.002143e-05  3.918490e-05"
      ]
     },
     "metadata": {},
     "output_type": "display_data"
    }
   ],
   "source": [
    "eta<-as.numeric(X%*%beta) #Estimativa de máxima verossimilhança do preditor linear\n",
    "mu<-exp(eta) #Estimativa de máxima verossimilhança das médias\n",
    "Kbb<-phi^(-1)*t(X)%*%X #Calcuando Kbb\n",
    "KbbInv<-solve(Kbb) #Calcuando a inversa de Kbb\n",
    "KbbInv"
   ]
  },
  {
   "cell_type": "markdown",
   "metadata": {},
   "source": [
    "<p style=\"text-align: justify;font-size: 16px\">Construindo a matriz contendo os valores das variáveis preditoras para os quais deseja-se predizer os valores de $\\mu$.</p>"
   ]
  },
  {
   "cell_type": "code",
   "execution_count": 10,
   "metadata": {},
   "outputs": [
    {
     "data": {
      "text/html": [
       "<table>\n",
       "<caption>A matrix: 3 × 3 of type dbl</caption>\n",
       "<thead>\n",
       "\t<tr><th scope=col></th><th scope=col>wAlt</th><th scope=col>wDiam</th></tr>\n",
       "</thead>\n",
       "<tbody>\n",
       "\t<tr><td>1</td><td>70</td><td>11</td></tr>\n",
       "\t<tr><td>1</td><td>75</td><td>12</td></tr>\n",
       "\t<tr><td>1</td><td>83</td><td>18</td></tr>\n",
       "</tbody>\n",
       "</table>\n"
      ],
      "text/latex": [
       "A matrix: 3 × 3 of type dbl\n",
       "\\begin{tabular}{lll}\n",
       "  & wAlt & wDiam\\\\\n",
       "\\hline\n",
       "\t 1 & 70 & 11\\\\\n",
       "\t 1 & 75 & 12\\\\\n",
       "\t 1 & 83 & 18\\\\\n",
       "\\end{tabular}\n"
      ],
      "text/markdown": [
       "\n",
       "A matrix: 3 × 3 of type dbl\n",
       "\n",
       "| <!----> | wAlt | wDiam |\n",
       "|---|---|---|\n",
       "| 1 | 70 | 11 |\n",
       "| 1 | 75 | 12 |\n",
       "| 1 | 83 | 18 |\n",
       "\n"
      ],
      "text/plain": [
       "       wAlt wDiam\n",
       "[1,] 1 70   11   \n",
       "[2,] 1 75   12   \n",
       "[3,] 1 83   18   "
      ]
     },
     "metadata": {},
     "output_type": "display_data"
    }
   ],
   "source": [
    "wAlt<-c(70,75,83)\n",
    "wDiam<-c(11,12,18)\n",
    "W<-cbind(wAlt,wDiam)\n",
    "W<-cbind(1,W)\n",
    "head(W)"
   ]
  },
  {
   "cell_type": "markdown",
   "metadata": {},
   "source": [
    "<p style=\"text-align: justify;font-size: 16px\">Calculando e visualizando o valores de preditos de $\\mu$.</p>"
   ]
  },
  {
   "cell_type": "code",
   "execution_count": 11,
   "metadata": {},
   "outputs": [
    {
     "data": {
      "text/html": [
       "<table>\n",
       "<caption>A data.frame: 3 × 3</caption>\n",
       "<thead>\n",
       "\t<tr><th scope=col>Altura</th><th scope=col>Diametro</th><th scope=col>mu</th></tr>\n",
       "\t<tr><th scope=col>&lt;dbl&gt;</th><th scope=col>&lt;dbl&gt;</th><th scope=col>&lt;dbl&gt;</th></tr>\n",
       "</thead>\n",
       "<tbody>\n",
       "\t<tr><td>70</td><td>11</td><td>17.30247</td></tr>\n",
       "\t<tr><td>75</td><td>12</td><td>21.73709</td></tr>\n",
       "\t<tr><td>83</td><td>18</td><td>59.34277</td></tr>\n",
       "</tbody>\n",
       "</table>\n"
      ],
      "text/latex": [
       "A data.frame: 3 × 3\n",
       "\\begin{tabular}{lll}\n",
       " Altura & Diametro & mu\\\\\n",
       " <dbl> & <dbl> & <dbl>\\\\\n",
       "\\hline\n",
       "\t 70 & 11 & 17.30247\\\\\n",
       "\t 75 & 12 & 21.73709\\\\\n",
       "\t 83 & 18 & 59.34277\\\\\n",
       "\\end{tabular}\n"
      ],
      "text/markdown": [
       "\n",
       "A data.frame: 3 × 3\n",
       "\n",
       "| Altura &lt;dbl&gt; | Diametro &lt;dbl&gt; | mu &lt;dbl&gt; |\n",
       "|---|---|---|\n",
       "| 70 | 11 | 17.30247 |\n",
       "| 75 | 12 | 21.73709 |\n",
       "| 83 | 18 | 59.34277 |\n",
       "\n"
      ],
      "text/plain": [
       "  Altura Diametro mu      \n",
       "1 70     11       17.30247\n",
       "2 75     12       21.73709\n",
       "3 83     18       59.34277"
      ]
     },
     "metadata": {},
     "output_type": "display_data"
    }
   ],
   "source": [
    "etaEst<-W%*%beta\n",
    "muEst<-exp(etaEst)\n",
    "yPred<-data.frame(Altura=wAlt,Diametro=wDiam,mu=muEst)\n",
    "yPred"
   ]
  },
  {
   "cell_type": "markdown",
   "metadata": {},
   "source": [
    "<p style=\"text-align: justify;font-size: 16px\">Calculando e visualizando os intervalos de predição, com 95% de confiança.\n",
    "</p>"
   ]
  },
  {
   "cell_type": "code",
   "execution_count": 12,
   "metadata": {},
   "outputs": [
    {
     "name": "stdout",
     "output_type": "stream",
     "text": [
      "         [,1]     [,2]\n",
      "[1,] 16.53028 18.11074\n",
      "[2,] 20.99014 22.51063\n",
      "[3,] 55.85243 63.05124\n"
     ]
    }
   ],
   "source": [
    "alpha=0.05 #Valor de alpha correspondente ao intervalo com nível de confiança 1-alpha\n",
    "z<-qnorm(1-alpha/2) #Quantil de ordem 1-alpha/2 da distribuição N(0,1)\n",
    "covEta<-W%*%KbbInv%*%t(W) #Calculando a estimativa matriz de covariância do estimador de eta\n",
    "sigma2Eta<-diag(covEta) #Extraindo a estimativa da variância do estimador de eta\n",
    "ICEta<-cbind(etaEst-z*sqrt(sigma2Eta),etaEst+z*sqrt(sigma2Eta)) #Calculando os intervalos de confiança de eta\n",
    "ICMu<-cbind(exp(ICEta)) #Calculando os intervalos de predição\n",
    "print(ICMu)"
   ]
  },
  {
   "cell_type": "markdown",
   "metadata": {},
   "source": [
    "### 1.5 Calculando as predições utilizando a função ``predict``"
   ]
  },
  {
   "cell_type": "markdown",
   "metadata": {},
   "source": [
    "<p style=\"text-align: justify;font-size: 16px\">A função <font face=\"'Courier New'\">predict</font> calcula as predições de $\\mu$. Os três principais argumentos da função são os seguintes:</p>\n",
    "    <ol style=\"text-align: justify; font-size:16px\">\n",
    "        <li><font face=\"'Courier New'\">object</font>: modelo ajustado. Saída da função <font face=\"'Courier New'\">glm</font>.</li>\n",
    "        <li><font face=\"'Courier New'\">newdata</font>: variável do tipo <font face=\"'Courier New'\">data.frame</font> contendo os valores das variáveis preditoras para os quais se deseja predizer $\\mu$.</li>\n",
    "    <li><font face=\"'Courier New'\">type</font>: indica se o valor a ser calculado é o valor do preditor linear $\\eta$ (<font face=\"'Courier New'\">type=\"link\"</font>) ou o valor da média $\\mu$ (<font face=\"'Courier New'\">type=\"response\"</font>).</li>\n",
    "    </ol>\n",
    "</p>\n",
    "<p style=\"text-align: justify;font-size: 16px\">Os nomes das colunas de <font face=\"'Courier New'\">newdata</font> devem ser iguais aos nomes das variáveis preditoras. </p>"
   ]
  },
  {
   "cell_type": "markdown",
   "metadata": {},
   "source": [
    "<p style=\"text-align: justify;font-size: 16px\">Construindo o <font face=\"'Courier New'\">data.frame</font> contendo os valores das variáveis preditoras para os quais se deseja predizer $\\mu$.\n",
    "</p>"
   ]
  },
  {
   "cell_type": "code",
   "execution_count": 13,
   "metadata": {},
   "outputs": [
    {
     "data": {
      "text/html": [
       "<table>\n",
       "<caption>A data.frame: 3 × 2</caption>\n",
       "<thead>\n",
       "\t<tr><th scope=col>Altura</th><th scope=col>Diametro</th></tr>\n",
       "\t<tr><th scope=col>&lt;dbl&gt;</th><th scope=col>&lt;dbl&gt;</th></tr>\n",
       "</thead>\n",
       "<tbody>\n",
       "\t<tr><td>70</td><td>11</td></tr>\n",
       "\t<tr><td>75</td><td>12</td></tr>\n",
       "\t<tr><td>83</td><td>18</td></tr>\n",
       "</tbody>\n",
       "</table>\n"
      ],
      "text/latex": [
       "A data.frame: 3 × 2\n",
       "\\begin{tabular}{ll}\n",
       " Altura & Diametro\\\\\n",
       " <dbl> & <dbl>\\\\\n",
       "\\hline\n",
       "\t 70 & 11\\\\\n",
       "\t 75 & 12\\\\\n",
       "\t 83 & 18\\\\\n",
       "\\end{tabular}\n"
      ],
      "text/markdown": [
       "\n",
       "A data.frame: 3 × 2\n",
       "\n",
       "| Altura &lt;dbl&gt; | Diametro &lt;dbl&gt; |\n",
       "|---|---|\n",
       "| 70 | 11 |\n",
       "| 75 | 12 |\n",
       "| 83 | 18 |\n",
       "\n"
      ],
      "text/plain": [
       "  Altura Diametro\n",
       "1 70     11      \n",
       "2 75     12      \n",
       "3 83     18      "
      ]
     },
     "metadata": {},
     "output_type": "display_data"
    }
   ],
   "source": [
    "W<-data.frame(Altura=wAlt,Diametro=wDiam)\n",
    "W"
   ]
  },
  {
   "cell_type": "markdown",
   "metadata": {},
   "source": [
    "<p style=\"text-align: justify;font-size: 16px\">Realizando a predição por meio da função <font face=\"'Courier New'\">predict</font>.\n",
    "</p>"
   ]
  },
  {
   "cell_type": "code",
   "execution_count": 14,
   "metadata": {},
   "outputs": [
    {
     "data": {
      "text/html": [
       "<table>\n",
       "<caption>A data.frame: 3 × 3</caption>\n",
       "<thead>\n",
       "\t<tr><th></th><th scope=col>Altura</th><th scope=col>Diametro</th><th scope=col>mu</th></tr>\n",
       "\t<tr><th></th><th scope=col>&lt;dbl&gt;</th><th scope=col>&lt;dbl&gt;</th><th scope=col>&lt;dbl&gt;</th></tr>\n",
       "</thead>\n",
       "<tbody>\n",
       "\t<tr><th scope=row>1</th><td>70</td><td>11</td><td>17.30247</td></tr>\n",
       "\t<tr><th scope=row>2</th><td>75</td><td>12</td><td>21.73709</td></tr>\n",
       "\t<tr><th scope=row>3</th><td>83</td><td>18</td><td>59.34277</td></tr>\n",
       "</tbody>\n",
       "</table>\n"
      ],
      "text/latex": [
       "A data.frame: 3 × 3\n",
       "\\begin{tabular}{r|lll}\n",
       "  & Altura & Diametro & mu\\\\\n",
       "  & <dbl> & <dbl> & <dbl>\\\\\n",
       "\\hline\n",
       "\t1 & 70 & 11 & 17.30247\\\\\n",
       "\t2 & 75 & 12 & 21.73709\\\\\n",
       "\t3 & 83 & 18 & 59.34277\\\\\n",
       "\\end{tabular}\n"
      ],
      "text/markdown": [
       "\n",
       "A data.frame: 3 × 3\n",
       "\n",
       "| <!--/--> | Altura &lt;dbl&gt; | Diametro &lt;dbl&gt; | mu &lt;dbl&gt; |\n",
       "|---|---|---|---|\n",
       "| 1 | 70 | 11 | 17.30247 |\n",
       "| 2 | 75 | 12 | 21.73709 |\n",
       "| 3 | 83 | 18 | 59.34277 |\n",
       "\n"
      ],
      "text/plain": [
       "  Altura Diametro mu      \n",
       "1 70     11       17.30247\n",
       "2 75     12       21.73709\n",
       "3 83     18       59.34277"
      ]
     },
     "metadata": {},
     "output_type": "display_data"
    }
   ],
   "source": [
    "muEst<-predict(object=aj,newdata=W,type=\"response\")\n",
    "yPred<-data.frame(Altura=wAlt,Diametro=wDiam,mu=muEst)\n",
    "yPred"
   ]
  },
  {
   "cell_type": "markdown",
   "metadata": {},
   "source": [
    "### 1.6 Calculando os intervalos de predição, com 95% de confiança, utilizando a função ``add_ci``"
   ]
  },
  {
   "cell_type": "markdown",
   "metadata": {},
   "source": [
    "<p style=\"text-align: justify;font-size: 16px\">Carregando os pacotes necessários.</p>"
   ]
  },
  {
   "cell_type": "code",
   "execution_count": 15,
   "metadata": {},
   "outputs": [
    {
     "name": "stderr",
     "output_type": "stream",
     "text": [
      "ciTools version 0.5.1 (C) Institute for Defense Analyses\n",
      "\n"
     ]
    }
   ],
   "source": [
    "library(tibble)\n",
    "library(ciTools)"
   ]
  },
  {
   "cell_type": "markdown",
   "metadata": {},
   "source": [
    "<p style=\"text-align: justify;font-size: 16px\">A função <font face=\"'Courier New'\">add_ci</font> calcula os intervalos de predição. Os três principais argumentos dessa função são:</p>\n",
    "   <ol style=\"text-align: justify; font-size:16px\">\n",
    "        <li><font face=\"'Courier New'\">tb</font>: variável do tipo <font face=\"'Courier New'\">tibble</font> contendo os valores das variáveis preditoras para os quais se deseja predizer $\\mu$.</li>\n",
    "        <li><font face=\"'Courier New'\">fit</font>: modelo ajustado. Saída da função <font face=\"'Courier New'\">glm</font>.</li>\n",
    "    <li><font face=\"'Courier New'\">alpha</font>: nível de confiança. O nível de confiança do intervalo de predição é <font face=\"'Courier New'\">1-alpha</font>.</li>\n",
    "    </ol>\n",
    "</p>\n",
    "<p style=\"text-align: justify;font-size: 16px\">O tipo <font face=\"'Courier New'\">tibble</font>  é semelhante ao ao tipo <font face=\"'Courier New'\">data.frame</font>, porém com algumas diferenças. Para mais informações, consulte a ajuda da função, por meio do comando <font face=\"'Courier New'\">?tibble</font>.</p>"
   ]
  },
  {
   "cell_type": "markdown",
   "metadata": {},
   "source": [
    "<p style=\"text-align: justify;font-size: 16px\">Construindo o <font face=\"'Courier New'\">tibble</font> contendo os valores das variáveis preditoras para os quais se deseja predizer $\\mu$.  Os nomes das colunas devem ser iguais aos das variáveis.\n",
    "</p>"
   ]
  },
  {
   "cell_type": "code",
   "execution_count": 16,
   "metadata": {},
   "outputs": [
    {
     "data": {
      "text/html": [
       "<table>\n",
       "<caption>A tibble: 3 × 2</caption>\n",
       "<thead>\n",
       "\t<tr><th scope=col>Altura</th><th scope=col>Diametro</th></tr>\n",
       "\t<tr><th scope=col>&lt;dbl&gt;</th><th scope=col>&lt;dbl&gt;</th></tr>\n",
       "</thead>\n",
       "<tbody>\n",
       "\t<tr><td>70</td><td>11</td></tr>\n",
       "\t<tr><td>75</td><td>12</td></tr>\n",
       "\t<tr><td>83</td><td>18</td></tr>\n",
       "</tbody>\n",
       "</table>\n"
      ],
      "text/latex": [
       "A tibble: 3 × 2\n",
       "\\begin{tabular}{ll}\n",
       " Altura & Diametro\\\\\n",
       " <dbl> & <dbl>\\\\\n",
       "\\hline\n",
       "\t 70 & 11\\\\\n",
       "\t 75 & 12\\\\\n",
       "\t 83 & 18\\\\\n",
       "\\end{tabular}\n"
      ],
      "text/markdown": [
       "\n",
       "A tibble: 3 × 2\n",
       "\n",
       "| Altura &lt;dbl&gt; | Diametro &lt;dbl&gt; |\n",
       "|---|---|\n",
       "| 70 | 11 |\n",
       "| 75 | 12 |\n",
       "| 83 | 18 |\n",
       "\n"
      ],
      "text/plain": [
       "  Altura Diametro\n",
       "1 70     11      \n",
       "2 75     12      \n",
       "3 83     18      "
      ]
     },
     "metadata": {},
     "output_type": "display_data"
    }
   ],
   "source": [
    "W<-tibble(Altura=wAlt,Diametro=wDiam)\n",
    "W"
   ]
  },
  {
   "cell_type": "markdown",
   "metadata": {},
   "source": [
    "<p style=\"text-align: justify;font-size: 16px\">Calculando os intervalos de predição utilizando a função <font face=\"'Courier New'\">add_ci</font>.</p>"
   ]
  },
  {
   "cell_type": "code",
   "execution_count": 17,
   "metadata": {},
   "outputs": [
    {
     "name": "stderr",
     "output_type": "stream",
     "text": [
      "Warning message:\n",
      "“`as_data_frame()` is deprecated as of tibble 2.0.0.\n",
      "Please use `as_tibble()` instead.\n",
      "The signature and semantics have changed, see `?as_tibble`.\n",
      "\u001b[90mThis warning is displayed once every 8 hours.\u001b[39m\n",
      "\u001b[90mCall `lifecycle::last_warnings()` to see where this warning was generated.\u001b[39m”\n"
     ]
    },
    {
     "data": {
      "text/html": [
       "<table>\n",
       "<caption>A tibble: 3 × 5</caption>\n",
       "<thead>\n",
       "\t<tr><th scope=col>Altura</th><th scope=col>Diametro</th><th scope=col>pred</th><th scope=col>LCB0.025</th><th scope=col>UCB0.975</th></tr>\n",
       "\t<tr><th scope=col>&lt;dbl&gt;</th><th scope=col>&lt;dbl&gt;</th><th scope=col>&lt;dbl&gt;</th><th scope=col>&lt;dbl&gt;</th><th scope=col>&lt;dbl&gt;</th></tr>\n",
       "</thead>\n",
       "<tbody>\n",
       "\t<tr><td>70</td><td>11</td><td>17.30247</td><td>16.45304</td><td>18.19576</td></tr>\n",
       "\t<tr><td>75</td><td>12</td><td>21.73709</td><td>20.91498</td><td>22.59152</td></tr>\n",
       "\t<tr><td>83</td><td>18</td><td>59.34277</td><td>55.50620</td><td>63.44453</td></tr>\n",
       "</tbody>\n",
       "</table>\n"
      ],
      "text/latex": [
       "A tibble: 3 × 5\n",
       "\\begin{tabular}{lllll}\n",
       " Altura & Diametro & pred & LCB0.025 & UCB0.975\\\\\n",
       " <dbl> & <dbl> & <dbl> & <dbl> & <dbl>\\\\\n",
       "\\hline\n",
       "\t 70 & 11 & 17.30247 & 16.45304 & 18.19576\\\\\n",
       "\t 75 & 12 & 21.73709 & 20.91498 & 22.59152\\\\\n",
       "\t 83 & 18 & 59.34277 & 55.50620 & 63.44453\\\\\n",
       "\\end{tabular}\n"
      ],
      "text/markdown": [
       "\n",
       "A tibble: 3 × 5\n",
       "\n",
       "| Altura &lt;dbl&gt; | Diametro &lt;dbl&gt; | pred &lt;dbl&gt; | LCB0.025 &lt;dbl&gt; | UCB0.975 &lt;dbl&gt; |\n",
       "|---|---|---|---|---|\n",
       "| 70 | 11 | 17.30247 | 16.45304 | 18.19576 |\n",
       "| 75 | 12 | 21.73709 | 20.91498 | 22.59152 |\n",
       "| 83 | 18 | 59.34277 | 55.50620 | 63.44453 |\n",
       "\n"
      ],
      "text/plain": [
       "  Altura Diametro pred     LCB0.025 UCB0.975\n",
       "1 70     11       17.30247 16.45304 18.19576\n",
       "2 75     12       21.73709 20.91498 22.59152\n",
       "3 83     18       59.34277 55.50620 63.44453"
      ]
     },
     "metadata": {},
     "output_type": "display_data"
    }
   ],
   "source": [
    "add_ci(tb=W,fit=aj)"
   ]
  },
  {
   "cell_type": "code",
   "execution_count": null,
   "metadata": {},
   "outputs": [],
   "source": []
  }
 ],
 "metadata": {
  "kernelspec": {
   "display_name": "R",
   "language": "R",
   "name": "ir"
  },
  "language_info": {
   "codemirror_mode": "r",
   "file_extension": ".r",
   "mimetype": "text/x-r-source",
   "name": "R",
   "pygments_lexer": "r",
   "version": "3.6.3"
  }
 },
 "nbformat": 4,
 "nbformat_minor": 2
}

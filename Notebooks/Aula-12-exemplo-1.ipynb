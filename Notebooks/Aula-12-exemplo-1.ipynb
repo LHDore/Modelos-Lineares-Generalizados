{
 "cells": [
  {
   "cell_type": "markdown",
   "metadata": {},
   "source": [
    "<div style=\"position:relative; height:160px;\">\n",
    "<img src=\"logoDECATUFS.png\" width=\"500\" height=\"500\" style=\"position:absolute; left:-8px;\">\n",
    "</div>"
   ]
  },
  {
   "cell_type": "markdown",
   "metadata": {},
   "source": [
    "<div style=\"text-align:center;font-size:17px; white-space:pre;margin-top:-35px\">\n",
    "        <h3>             Modelos Lineares Generalizados</h3>\n",
    "        Disciplina ofertada pelo DECAT/UFS\n",
    "        Código: ESTAT0092\n",
    "        Nível: Graduação\n",
    "        Carga horária: 60h\n",
    "        Período: 2020.2\n",
    "        Professor responsável e ministrante: Luiz Henrique Dore\n",
    "        <h3>            Aula 12: testando a significância global do modelo</h3>\n",
    "</div>"
   ]
  },
  {
   "cell_type": "markdown",
   "metadata": {},
   "source": [
    "# Exemplo 1"
   ]
  },
  {
   "cell_type": "markdown",
   "metadata": {},
   "source": [
    "<p style=\"text-align: justify; font-size:16px\">\n",
    "Considere o conjunto de dados <b>store.dat</b>, descrito no exemplo 2 da aula 2. O objetivo é ajustar um modelo de regressão Poisson, no qual a variável resposta é o número de clientes e as preditoras são a distância ao concorrente mais próximo e a distância à loja e executar o teste da razão de verossimilhanças para avaliar a significância global do modelo.\n",
    "<p>"
   ]
  },
  {
   "cell_type": "markdown",
   "metadata": {},
   "source": [
    "### 1.1 Leitura e visualização dos dados"
   ]
  },
  {
   "cell_type": "code",
   "execution_count": 1,
   "metadata": {},
   "outputs": [
    {
     "data": {
      "text/html": [
       "<table>\n",
       "<caption>A data.frame: 6 × 6</caption>\n",
       "<thead>\n",
       "\t<tr><th></th><th scope=col>numClientes</th><th scope=col>numDom</th><th scope=col>rendaMedia</th><th scope=col>idadeDom</th><th scope=col>distConc</th><th scope=col>distLoja</th></tr>\n",
       "\t<tr><th></th><th scope=col>&lt;int&gt;</th><th scope=col>&lt;int&gt;</th><th scope=col>&lt;int&gt;</th><th scope=col>&lt;int&gt;</th><th scope=col>&lt;dbl&gt;</th><th scope=col>&lt;dbl&gt;</th></tr>\n",
       "</thead>\n",
       "<tbody>\n",
       "\t<tr><th scope=row>1</th><td> 9</td><td>606</td><td>41393</td><td> 3</td><td>3.04</td><td>6.32</td></tr>\n",
       "\t<tr><th scope=row>2</th><td> 6</td><td>641</td><td>23635</td><td>18</td><td>1.95</td><td>8.89</td></tr>\n",
       "\t<tr><th scope=row>3</th><td>28</td><td>505</td><td>55475</td><td>27</td><td>6.54</td><td>2.05</td></tr>\n",
       "\t<tr><th scope=row>4</th><td>11</td><td>866</td><td>64646</td><td>31</td><td>1.67</td><td>5.81</td></tr>\n",
       "\t<tr><th scope=row>5</th><td> 4</td><td>599</td><td>31972</td><td> 7</td><td>0.72</td><td>8.11</td></tr>\n",
       "\t<tr><th scope=row>6</th><td> 4</td><td>520</td><td>41755</td><td>23</td><td>2.24</td><td>6.81</td></tr>\n",
       "</tbody>\n",
       "</table>\n"
      ],
      "text/latex": [
       "A data.frame: 6 × 6\n",
       "\\begin{tabular}{r|llllll}\n",
       "  & numClientes & numDom & rendaMedia & idadeDom & distConc & distLoja\\\\\n",
       "  & <int> & <int> & <int> & <int> & <dbl> & <dbl>\\\\\n",
       "\\hline\n",
       "\t1 &  9 & 606 & 41393 &  3 & 3.04 & 6.32\\\\\n",
       "\t2 &  6 & 641 & 23635 & 18 & 1.95 & 8.89\\\\\n",
       "\t3 & 28 & 505 & 55475 & 27 & 6.54 & 2.05\\\\\n",
       "\t4 & 11 & 866 & 64646 & 31 & 1.67 & 5.81\\\\\n",
       "\t5 &  4 & 599 & 31972 &  7 & 0.72 & 8.11\\\\\n",
       "\t6 &  4 & 520 & 41755 & 23 & 2.24 & 6.81\\\\\n",
       "\\end{tabular}\n"
      ],
      "text/markdown": [
       "\n",
       "A data.frame: 6 × 6\n",
       "\n",
       "| <!--/--> | numClientes &lt;int&gt; | numDom &lt;int&gt; | rendaMedia &lt;int&gt; | idadeDom &lt;int&gt; | distConc &lt;dbl&gt; | distLoja &lt;dbl&gt; |\n",
       "|---|---|---|---|---|---|---|\n",
       "| 1 |  9 | 606 | 41393 |  3 | 3.04 | 6.32 |\n",
       "| 2 |  6 | 641 | 23635 | 18 | 1.95 | 8.89 |\n",
       "| 3 | 28 | 505 | 55475 | 27 | 6.54 | 2.05 |\n",
       "| 4 | 11 | 866 | 64646 | 31 | 1.67 | 5.81 |\n",
       "| 5 |  4 | 599 | 31972 |  7 | 0.72 | 8.11 |\n",
       "| 6 |  4 | 520 | 41755 | 23 | 2.24 | 6.81 |\n",
       "\n"
      ],
      "text/plain": [
       "  numClientes numDom rendaMedia idadeDom distConc distLoja\n",
       "1  9          606    41393       3       3.04     6.32    \n",
       "2  6          641    23635      18       1.95     8.89    \n",
       "3 28          505    55475      27       6.54     2.05    \n",
       "4 11          866    64646      31       1.67     5.81    \n",
       "5  4          599    31972       7       0.72     8.11    \n",
       "6  4          520    41755      23       2.24     6.81    "
      ]
     },
     "metadata": {},
     "output_type": "display_data"
    }
   ],
   "source": [
    "dados<-read.table(\"/Dados/Google_Drive_UFS/Aulas/2020_2/MLG/Dados/store.dat\",header=TRUE)\n",
    "n<-dim(dados)[1] #Número de observações\n",
    "head(dados) #Visualizando as primeiras observações"
   ]
  },
  {
   "cell_type": "code",
   "execution_count": 2,
   "metadata": {},
   "outputs": [],
   "source": [
    "numClientes<-dados[,\"numClientes\"]\n",
    "distConc<-dados[,\"distConc\"]\n",
    "distLoja<-dados[,\"distLoja\"]"
   ]
  },
  {
   "cell_type": "markdown",
   "metadata": {},
   "source": [
    "### 1.2 Formulação do modelo"
   ]
  },
  {
   "cell_type": "markdown",
   "metadata": {},
   "source": [
    "<p style=\"text-align: justify; font-size:15px\">\n",
    "    <ol style=\"font-size:16px\">\n",
    "        <li>$numClientes\\sim Poisson(\\mu)$;</li>\n",
    "        <li>$\\eta=\\beta_0+\\beta_1\\cdot distConc+\\beta_2\\cdot distLoja$;</li>\n",
    "        <li>$\\ln(\\mu)=\\eta$.</li>\n",
    "    </ol>\n",
    "</p>"
   ]
  },
  {
   "cell_type": "markdown",
   "metadata": {},
   "source": [
    "### 1.3 Estimação dos parâmetros pelo método escore de Fisher usando a função ``glm``"
   ]
  },
  {
   "cell_type": "markdown",
   "metadata": {},
   "source": [
    "<p style=\"text-align: justify;font-size: 16px\">Estimação dos coeficientes de regressão no modelo completo.</p>"
   ]
  },
  {
   "cell_type": "code",
   "execution_count": 3,
   "metadata": {},
   "outputs": [],
   "source": [
    "aj<-glm(formula=numClientes~distConc+distLoja,family=poisson(link=\"log\"),data=dados)\n",
    "beta<-aj$coefficients"
   ]
  },
  {
   "cell_type": "markdown",
   "metadata": {},
   "source": [
    "<p style=\"text-align: justify;font-size: 16px\">Visualizando as estimativas dos coeficientes de regressão do modelo completo.</p>"
   ]
  },
  {
   "cell_type": "code",
   "execution_count": 4,
   "metadata": {},
   "outputs": [
    {
     "name": "stdout",
     "output_type": "stream",
     "text": [
      "(Intercept)    distConc    distLoja \n",
      "  2.5951177   0.1516029  -0.1090725 \n"
     ]
    }
   ],
   "source": [
    "print(beta)"
   ]
  },
  {
   "cell_type": "markdown",
   "metadata": {},
   "source": [
    "<p style=\"text-align: justify;font-size: 16px\">Estimação dos coeficientes de regressão no modelo sob $H_0$. No argumento <font face=\"'Courier New'\">formula</font>, digite apenas o número 1 na parte onde se informa as variáveis preditoras.</p>"
   ]
  },
  {
   "cell_type": "code",
   "execution_count": 5,
   "metadata": {},
   "outputs": [],
   "source": [
    "aj0<-glm(formula=numClientes~1,family=poisson(link=\"log\"),data=dados)\n",
    "beta0<-aj0$coefficients"
   ]
  },
  {
   "cell_type": "markdown",
   "metadata": {},
   "source": [
    "<p style=\"text-align: justify;font-size: 16px\">Visualizando as estimativas dos coeficientes de regressão do modelo sob $H_0$.</p>"
   ]
  },
  {
   "cell_type": "code",
   "execution_count": 6,
   "metadata": {},
   "outputs": [
    {
     "name": "stdout",
     "output_type": "stream",
     "text": [
      "(Intercept) \n",
      "   2.415914 \n"
     ]
    }
   ],
   "source": [
    "print(beta0)"
   ]
  },
  {
   "cell_type": "markdown",
   "metadata": {},
   "source": [
    "### 1.4 Executando o teste da razão de verossimilhanças usando a função ``lr.test``"
   ]
  },
  {
   "cell_type": "markdown",
   "metadata": {},
   "source": [
    "<p style=\"text-align: justify;font-size: 16px\">Carregando os pacotes necessários.</p>"
   ]
  },
  {
   "cell_type": "code",
   "execution_count": 7,
   "metadata": {},
   "outputs": [
    {
     "name": "stderr",
     "output_type": "stream",
     "text": [
      "Loading required package: MASS\n",
      "\n"
     ]
    }
   ],
   "source": [
    "library(mdscore) #Contém a função lr.test\n",
    "#install.packages(\"mdscore\") #Execute esse comando para instalar o pacote mdscore, caso já não o tenha instalado"
   ]
  },
  {
   "cell_type": "markdown",
   "metadata": {},
   "source": [
    "<p style=\"text-align: justify;font-size: 16px\">A função <font face=\"'Courier New'\">lr.test</font> realiza o teste da razão de verossimilhanças para a significância global do modelo. A função recebe dois argumentos:</p>\n",
    "    <ol style=\"text-align: justify; font-size:16px\">\n",
    "        <li><font face=\"'Courier New'\">fit1</font>: modelo ajustado sob $H_0$. Saída da função <font face=\"'Courier New'\">glm</font> referente ao modelo sob $H_0$.</li>\n",
    "        <li><font face=\"'Courier New'\">fit2</font>: modelo completo ajustado. Saída da função <font face=\"'Courier New'\">glm</font> referente ao modelo completo.</li>\n",
    "    </ol>\n",
    "</p>"
   ]
  },
  {
   "cell_type": "code",
   "execution_count": 8,
   "metadata": {},
   "outputs": [
    {
     "data": {
      "text/plain": [
       "$LR\n",
       "[1] 272.89\n",
       "\n",
       "$pvalue\n",
       "[1] 5.529429e-60\n",
       "\n",
       "attr(,\"class\")\n",
       "[1] \"lrt.test\""
      ]
     },
     "metadata": {},
     "output_type": "display_data"
    }
   ],
   "source": [
    "lr.test(fit1=aj0,fit2=aj)"
   ]
  },
  {
   "cell_type": "markdown",
   "metadata": {},
   "source": [
    "<p style=\"text-align: justify; font-size:16px\">\n",
    "O p-valor é muito pequeno, indicando a rejeição de $H_0$. Ou seja, o resultado do teste indica que há uma associação estatisticamente significativa entre o número de clientes e ao menos uma das duas variáveis preditoras.\n",
    "</p>"
   ]
  },
  {
   "cell_type": "code",
   "execution_count": null,
   "metadata": {},
   "outputs": [],
   "source": []
  }
 ],
 "metadata": {
  "kernelspec": {
   "display_name": "R",
   "language": "R",
   "name": "ir"
  },
  "language_info": {
   "codemirror_mode": "r",
   "file_extension": ".r",
   "mimetype": "text/x-r-source",
   "name": "R",
   "pygments_lexer": "r",
   "version": "3.6.3"
  }
 },
 "nbformat": 4,
 "nbformat_minor": 2
}

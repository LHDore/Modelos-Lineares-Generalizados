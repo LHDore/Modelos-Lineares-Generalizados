{
 "cells": [
  {
   "cell_type": "markdown",
   "metadata": {},
   "source": [
    "<div style=\"position:relative; height:160px;\">\n",
    "<img src=\"logoDECATUFS.png\" width=\"500\" height=\"500\" style=\"position:absolute; left:-8px;\">\n",
    "</div>"
   ]
  },
  {
   "cell_type": "markdown",
   "metadata": {},
   "source": [
    "<div style=\"text-align:center;font-size:17px; white-space:pre;margin-top:-35px\">\n",
    "        <h3>             Modelos Lineares Generalizados</h3>\n",
    "        Disciplina ofertada pelo DECAT/UFS\n",
    "        Código: ESTAT0092\n",
    "        Nível: Graduação\n",
    "        Carga horária: 60h\n",
    "        Período: 2020.2\n",
    "        Professor responsável e ministrante: Luiz Henrique Dore\n",
    "        <h3>            Aula 13: avaliação da significância individual dos coeficientes de regressão</h3>\n",
    "</div>"
   ]
  },
  {
   "cell_type": "markdown",
   "metadata": {},
   "source": [
    "# Exemplo 1"
   ]
  },
  {
   "cell_type": "markdown",
   "metadata": {},
   "source": [
    "<p style=\"text-align: justify; font-size:16px\">\n",
    "Considere o conjunto de dados <b>store.dat</b>, descrito no exemplo 2 da aula 2. Os objetivos são os seguintes: ajustar um modelo de regressão Poisson, no qual a variável resposta é o número de clientes e as preditoras são a distância ao concorrente mais próximo e a distância à loja e realizar as predições dos números médios de clientes  correspondentes às distâncias ao concorrente mais próximo e às distâncias à loja dadas na tabela abaixo.\n",
    "    <table style=\"width:15%\" align=\"center\">\n",
    "  <tr>\n",
    "    <th style=\"text-align: center; vertical-align: middle;\">distConc</th>\n",
    "    <th style=\"text-align: center; vertical-align: middle;\">distLoja</th>\n",
    "  </tr>\n",
    "  <tr>\n",
    "    <td style=\"text-align: center; vertical-align: middle;\">1</td>\n",
    "    <td style=\"text-align: center; vertical-align: middle;\">5</td>\n",
    "  </tr>\n",
    "  <tr>\n",
    "    <td style=\"text-align: center; vertical-align: middle;\">3</td>\n",
    "    <td style=\"text-align: center; vertical-align: middle;\">7</td>\n",
    "  </tr>\n",
    "  <tr>\n",
    "    <td style=\"text-align: center; vertical-align: middle;\">5</td>\n",
    "    <td style=\"text-align: center; vertical-align: middle;\">10</td>\n",
    "  </tr>\n",
    "</table>\n",
    "<p>"
   ]
  },
  {
   "cell_type": "markdown",
   "metadata": {},
   "source": [
    "### 1.1 Leitura e visualização dos dados"
   ]
  },
  {
   "cell_type": "code",
   "execution_count": 1,
   "metadata": {},
   "outputs": [
    {
     "data": {
      "text/html": [
       "<table>\n",
       "<caption>A data.frame: 6 × 6</caption>\n",
       "<thead>\n",
       "\t<tr><th></th><th scope=col>numClientes</th><th scope=col>numDom</th><th scope=col>rendaMedia</th><th scope=col>idadeDom</th><th scope=col>distConc</th><th scope=col>distLoja</th></tr>\n",
       "\t<tr><th></th><th scope=col>&lt;int&gt;</th><th scope=col>&lt;int&gt;</th><th scope=col>&lt;int&gt;</th><th scope=col>&lt;int&gt;</th><th scope=col>&lt;dbl&gt;</th><th scope=col>&lt;dbl&gt;</th></tr>\n",
       "</thead>\n",
       "<tbody>\n",
       "\t<tr><th scope=row>1</th><td> 9</td><td>606</td><td>41393</td><td> 3</td><td>3.04</td><td>6.32</td></tr>\n",
       "\t<tr><th scope=row>2</th><td> 6</td><td>641</td><td>23635</td><td>18</td><td>1.95</td><td>8.89</td></tr>\n",
       "\t<tr><th scope=row>3</th><td>28</td><td>505</td><td>55475</td><td>27</td><td>6.54</td><td>2.05</td></tr>\n",
       "\t<tr><th scope=row>4</th><td>11</td><td>866</td><td>64646</td><td>31</td><td>1.67</td><td>5.81</td></tr>\n",
       "\t<tr><th scope=row>5</th><td> 4</td><td>599</td><td>31972</td><td> 7</td><td>0.72</td><td>8.11</td></tr>\n",
       "\t<tr><th scope=row>6</th><td> 4</td><td>520</td><td>41755</td><td>23</td><td>2.24</td><td>6.81</td></tr>\n",
       "</tbody>\n",
       "</table>\n"
      ],
      "text/latex": [
       "A data.frame: 6 × 6\n",
       "\\begin{tabular}{r|llllll}\n",
       "  & numClientes & numDom & rendaMedia & idadeDom & distConc & distLoja\\\\\n",
       "  & <int> & <int> & <int> & <int> & <dbl> & <dbl>\\\\\n",
       "\\hline\n",
       "\t1 &  9 & 606 & 41393 &  3 & 3.04 & 6.32\\\\\n",
       "\t2 &  6 & 641 & 23635 & 18 & 1.95 & 8.89\\\\\n",
       "\t3 & 28 & 505 & 55475 & 27 & 6.54 & 2.05\\\\\n",
       "\t4 & 11 & 866 & 64646 & 31 & 1.67 & 5.81\\\\\n",
       "\t5 &  4 & 599 & 31972 &  7 & 0.72 & 8.11\\\\\n",
       "\t6 &  4 & 520 & 41755 & 23 & 2.24 & 6.81\\\\\n",
       "\\end{tabular}\n"
      ],
      "text/markdown": [
       "\n",
       "A data.frame: 6 × 6\n",
       "\n",
       "| <!--/--> | numClientes &lt;int&gt; | numDom &lt;int&gt; | rendaMedia &lt;int&gt; | idadeDom &lt;int&gt; | distConc &lt;dbl&gt; | distLoja &lt;dbl&gt; |\n",
       "|---|---|---|---|---|---|---|\n",
       "| 1 |  9 | 606 | 41393 |  3 | 3.04 | 6.32 |\n",
       "| 2 |  6 | 641 | 23635 | 18 | 1.95 | 8.89 |\n",
       "| 3 | 28 | 505 | 55475 | 27 | 6.54 | 2.05 |\n",
       "| 4 | 11 | 866 | 64646 | 31 | 1.67 | 5.81 |\n",
       "| 5 |  4 | 599 | 31972 |  7 | 0.72 | 8.11 |\n",
       "| 6 |  4 | 520 | 41755 | 23 | 2.24 | 6.81 |\n",
       "\n"
      ],
      "text/plain": [
       "  numClientes numDom rendaMedia idadeDom distConc distLoja\n",
       "1  9          606    41393       3       3.04     6.32    \n",
       "2  6          641    23635      18       1.95     8.89    \n",
       "3 28          505    55475      27       6.54     2.05    \n",
       "4 11          866    64646      31       1.67     5.81    \n",
       "5  4          599    31972       7       0.72     8.11    \n",
       "6  4          520    41755      23       2.24     6.81    "
      ]
     },
     "metadata": {},
     "output_type": "display_data"
    }
   ],
   "source": [
    "dados<-read.table(\"/Dados/Google_Drive_UFS/Aulas/2020_2/MLG/Dados/store.dat\",header=TRUE)\n",
    "n<-dim(dados)[1] #Número de observações\n",
    "head(dados) #Visualizando as primeiras observações"
   ]
  },
  {
   "cell_type": "code",
   "execution_count": 2,
   "metadata": {},
   "outputs": [],
   "source": [
    "numClientes<-dados[,\"numClientes\"]\n",
    "distConc<-dados[,\"distConc\"]\n",
    "distLoja<-dados[,\"distLoja\"]"
   ]
  },
  {
   "cell_type": "markdown",
   "metadata": {},
   "source": [
    "### 1.2 Formulação do modelo"
   ]
  },
  {
   "cell_type": "markdown",
   "metadata": {},
   "source": [
    "<p style=\"text-align: justify; font-size:15px\">\n",
    "    <ol style=\"font-size:16px\">\n",
    "        <li>$numClientes\\sim Poisson(\\mu)$;</li>\n",
    "        <li>$\\eta=\\beta_0+\\beta_1\\cdot distConc+\\beta_2\\cdot distLoja$;</li>\n",
    "        <li>$\\ln(\\mu)=\\eta$.</li>\n",
    "    </ol>\n",
    "</p>"
   ]
  },
  {
   "cell_type": "markdown",
   "metadata": {},
   "source": [
    "### 1.3 Estimação dos parâmetros por máxima verossimilhança usando a função ``glm``"
   ]
  },
  {
   "cell_type": "markdown",
   "metadata": {},
   "source": [
    "<p style=\"text-align: justify;font-size: 16px\">Estimação dos coeficientes de regressão.</p>"
   ]
  },
  {
   "cell_type": "code",
   "execution_count": 3,
   "metadata": {},
   "outputs": [],
   "source": [
    "aj<-glm(formula=numClientes~distConc+distLoja,family=poisson(link=\"log\"),data=dados)\n",
    "beta<-aj$coefficients"
   ]
  },
  {
   "cell_type": "markdown",
   "metadata": {},
   "source": [
    "<p style=\"text-align: justify;font-size: 16px\">Visualizando as estimativas dos coeficientes de regressão.</p>"
   ]
  },
  {
   "cell_type": "code",
   "execution_count": 4,
   "metadata": {},
   "outputs": [
    {
     "name": "stdout",
     "output_type": "stream",
     "text": [
      "(Intercept)    distConc    distLoja \n",
      "  2.5951177   0.1516029  -0.1090725 \n"
     ]
    }
   ],
   "source": [
    "print(beta)"
   ]
  },
  {
   "cell_type": "markdown",
   "metadata": {},
   "source": [
    "### 1.4 Realizando as predições e calculando os intervalos de predição manualmente"
   ]
  },
  {
   "cell_type": "markdown",
   "metadata": {},
   "source": [
    "<p style=\"text-align: justify; font-size:16px\">Gerando o vetor dos valores observados da resposta e a matriz design.</p>"
   ]
  },
  {
   "cell_type": "code",
   "execution_count": 5,
   "metadata": {},
   "outputs": [
    {
     "data": {
      "text/html": [
       "<table>\n",
       "<caption>A matrix: 6 × 3 of type dbl</caption>\n",
       "<thead>\n",
       "\t<tr><th scope=col></th><th scope=col>distConc</th><th scope=col>distLoja</th></tr>\n",
       "</thead>\n",
       "<tbody>\n",
       "\t<tr><td>1</td><td>3.04</td><td>6.32</td></tr>\n",
       "\t<tr><td>1</td><td>1.95</td><td>8.89</td></tr>\n",
       "\t<tr><td>1</td><td>6.54</td><td>2.05</td></tr>\n",
       "\t<tr><td>1</td><td>1.67</td><td>5.81</td></tr>\n",
       "\t<tr><td>1</td><td>0.72</td><td>8.11</td></tr>\n",
       "\t<tr><td>1</td><td>2.24</td><td>6.81</td></tr>\n",
       "</tbody>\n",
       "</table>\n"
      ],
      "text/latex": [
       "A matrix: 6 × 3 of type dbl\n",
       "\\begin{tabular}{lll}\n",
       "  & distConc & distLoja\\\\\n",
       "\\hline\n",
       "\t 1 & 3.04 & 6.32\\\\\n",
       "\t 1 & 1.95 & 8.89\\\\\n",
       "\t 1 & 6.54 & 2.05\\\\\n",
       "\t 1 & 1.67 & 5.81\\\\\n",
       "\t 1 & 0.72 & 8.11\\\\\n",
       "\t 1 & 2.24 & 6.81\\\\\n",
       "\\end{tabular}\n"
      ],
      "text/markdown": [
       "\n",
       "A matrix: 6 × 3 of type dbl\n",
       "\n",
       "| <!----> | distConc | distLoja |\n",
       "|---|---|---|\n",
       "| 1 | 3.04 | 6.32 |\n",
       "| 1 | 1.95 | 8.89 |\n",
       "| 1 | 6.54 | 2.05 |\n",
       "| 1 | 1.67 | 5.81 |\n",
       "| 1 | 0.72 | 8.11 |\n",
       "| 1 | 2.24 | 6.81 |\n",
       "\n"
      ],
      "text/plain": [
       "       distConc distLoja\n",
       "[1,] 1 3.04     6.32    \n",
       "[2,] 1 1.95     8.89    \n",
       "[3,] 1 6.54     2.05    \n",
       "[4,] 1 1.67     5.81    \n",
       "[5,] 1 0.72     8.11    \n",
       "[6,] 1 2.24     6.81    "
      ]
     },
     "metadata": {},
     "output_type": "display_data"
    }
   ],
   "source": [
    "y<-numClientes\n",
    "X<-cbind(distConc,distLoja)\n",
    "X<-cbind(1,X)\n",
    "colnames(X)<-c(\"\",\"distConc\",\"distLoja\")\n",
    "head(X)"
   ]
  },
  {
   "cell_type": "markdown",
   "metadata": {},
   "source": [
    "<p style=\"text-align: justify; font-size:16px\">No caso da distribuição Poisson, com ligação canônica, tem-se $\\mu=g^{-1}(\\eta)=e^{\\eta}$. Logo, o valor de $\\mu$ predito pelo modelo é \n",
    "    $$\\hat\\mu=g^{-1}(\\hat\\eta)=e^{\\hat\\eta}.$$\n",
    "O intervalo de predição é\n",
    "    $$\\left(e^{\\hat\\eta-z_{\\left(1-\\frac{\\alpha}{2}\\right)}\\sqrt{\\hat{\\sigma}^2_{\\hat\\eta}}};\\ e^{\\hat\\eta+z_{\\left(1-\\frac{\\alpha}{2}\\right)}\\sqrt{\\hat{\\sigma}^2_{\\hat\\eta}}}\\right),$$\n",
    "onde $\\hat{\\sigma}^2_{\\hat\\eta}=\\boldsymbol{x}^T\\boldsymbol{K}^{\\ \\ \\ -1}_{\\boldsymbol{\\widehat\\beta}\\boldsymbol{\\widehat\\beta}}\\boldsymbol{x},\\ $ com $\\ \\boldsymbol{K}^{\\ \\ \\ -1}_{\\boldsymbol{\\widehat\\beta}\\boldsymbol{\\widehat\\beta}}=(X^T{\\widehat{\\boldsymbol{V}}}X)^{-1},\\ $ $\\widehat{\\boldsymbol{V}}=\\hbox{diag}\\{\\hat\\mu_1,\\cdots\\hat\\mu_n\\}\\ $ e $\\ \\hat\\mu_i=e^{\\hat\\eta_i}$, $\\ \\forall\\ i\\in\\{1,\\cdots,n\\}$ (ver exemplo 2 da aula 5). \n",
    "</p>"
   ]
  },
  {
   "cell_type": "markdown",
   "metadata": {},
   "source": [
    "<p style=\"text-align: justify;font-size: 16px\">Calculando e visualizando a matriz $\\boldsymbol{K}^{\\ \\ \\ -1}_{\\boldsymbol{\\widehat\\beta}\\boldsymbol{\\widehat\\beta}}$.</p>"
   ]
  },
  {
   "cell_type": "code",
   "execution_count": 6,
   "metadata": {},
   "outputs": [],
   "source": [
    "eta<-as.numeric(X%*%beta) #Estimativa de máxima verossimilhança do preditor linear\n",
    "mu<-exp(eta) #Estimativa de máxima verossimilhança das médias\n",
    "V<-diag(mu) #Calculando a estimativa da matriz V das funções de variância\n",
    "Kbb<-t(X)%*%V%*%X #Calcuando Kbb\n",
    "KbbInv<-solve(Kbb) #Calcuando a inversa de Kbb\n",
    "betaVar<-diag(KbbInv) #Recolhendo a diagonal da inversa de Kbb, cujos valores correspondem às variâncias"
   ]
  },
  {
   "cell_type": "markdown",
   "metadata": {},
   "source": [
    "<p style=\"text-align: justify;font-size: 16px\">Construindo a matriz contendo os valores das variáveis preditoras para os quais deseja-se predizer os valores de $\\mu$.</p>"
   ]
  },
  {
   "cell_type": "code",
   "execution_count": 7,
   "metadata": {},
   "outputs": [
    {
     "data": {
      "text/html": [
       "<table>\n",
       "<caption>A matrix: 3 × 3 of type dbl</caption>\n",
       "<thead>\n",
       "\t<tr><th scope=col></th><th scope=col>wDistConc</th><th scope=col>wDistLoja</th></tr>\n",
       "</thead>\n",
       "<tbody>\n",
       "\t<tr><td>1</td><td>1</td><td> 5</td></tr>\n",
       "\t<tr><td>1</td><td>3</td><td> 7</td></tr>\n",
       "\t<tr><td>1</td><td>5</td><td>10</td></tr>\n",
       "</tbody>\n",
       "</table>\n"
      ],
      "text/latex": [
       "A matrix: 3 × 3 of type dbl\n",
       "\\begin{tabular}{lll}\n",
       "  & wDistConc & wDistLoja\\\\\n",
       "\\hline\n",
       "\t 1 & 1 &  5\\\\\n",
       "\t 1 & 3 &  7\\\\\n",
       "\t 1 & 5 & 10\\\\\n",
       "\\end{tabular}\n"
      ],
      "text/markdown": [
       "\n",
       "A matrix: 3 × 3 of type dbl\n",
       "\n",
       "| <!----> | wDistConc | wDistLoja |\n",
       "|---|---|---|\n",
       "| 1 | 1 |  5 |\n",
       "| 1 | 3 |  7 |\n",
       "| 1 | 5 | 10 |\n",
       "\n"
      ],
      "text/plain": [
       "       wDistConc wDistLoja\n",
       "[1,] 1 1          5       \n",
       "[2,] 1 3          7       \n",
       "[3,] 1 5         10       "
      ]
     },
     "metadata": {},
     "output_type": "display_data"
    }
   ],
   "source": [
    "wDistConc<-c(1,3,5)\n",
    "wDistLoja<-c(5,7,10)\n",
    "W<-cbind(wDistConc,wDistLoja)\n",
    "W<-cbind(1,W)\n",
    "head(W)"
   ]
  },
  {
   "cell_type": "markdown",
   "metadata": {},
   "source": [
    "<p style=\"text-align: justify;font-size: 16px\">Calculando e visualizando o valores de preditos de $\\mu$.</p>"
   ]
  },
  {
   "cell_type": "code",
   "execution_count": 8,
   "metadata": {},
   "outputs": [
    {
     "data": {
      "text/html": [
       "<table>\n",
       "<caption>A data.frame: 3 × 3</caption>\n",
       "<thead>\n",
       "\t<tr><th scope=col>distConc</th><th scope=col>distLoja</th><th scope=col>mu</th></tr>\n",
       "\t<tr><th scope=col>&lt;dbl&gt;</th><th scope=col>&lt;dbl&gt;</th><th scope=col>&lt;dbl&gt;</th></tr>\n",
       "</thead>\n",
       "<tbody>\n",
       "\t<tr><td>1</td><td> 5</td><td>9.037280</td></tr>\n",
       "\t<tr><td>3</td><td> 7</td><td>9.839640</td></tr>\n",
       "\t<tr><td>5</td><td>10</td><td>9.606188</td></tr>\n",
       "</tbody>\n",
       "</table>\n"
      ],
      "text/latex": [
       "A data.frame: 3 × 3\n",
       "\\begin{tabular}{lll}\n",
       " distConc & distLoja & mu\\\\\n",
       " <dbl> & <dbl> & <dbl>\\\\\n",
       "\\hline\n",
       "\t 1 &  5 & 9.037280\\\\\n",
       "\t 3 &  7 & 9.839640\\\\\n",
       "\t 5 & 10 & 9.606188\\\\\n",
       "\\end{tabular}\n"
      ],
      "text/markdown": [
       "\n",
       "A data.frame: 3 × 3\n",
       "\n",
       "| distConc &lt;dbl&gt; | distLoja &lt;dbl&gt; | mu &lt;dbl&gt; |\n",
       "|---|---|---|\n",
       "| 1 |  5 | 9.037280 |\n",
       "| 3 |  7 | 9.839640 |\n",
       "| 5 | 10 | 9.606188 |\n",
       "\n"
      ],
      "text/plain": [
       "  distConc distLoja mu      \n",
       "1 1         5       9.037280\n",
       "2 3         7       9.839640\n",
       "3 5        10       9.606188"
      ]
     },
     "metadata": {},
     "output_type": "display_data"
    }
   ],
   "source": [
    "etaEst<-W%*%beta\n",
    "muEst<-exp(etaEst)\n",
    "yPred<-data.frame(distConc=wDistConc,distLoja=wDistLoja,mu=muEst)\n",
    "yPred"
   ]
  },
  {
   "cell_type": "markdown",
   "metadata": {},
   "source": [
    "<p style=\"text-align: justify;font-size: 16px\">Calculando e visualizando os intervalos de predição de $\\mu$, com 95% de confiança.\n",
    "</p>"
   ]
  },
  {
   "cell_type": "code",
   "execution_count": 9,
   "metadata": {},
   "outputs": [
    {
     "name": "stdout",
     "output_type": "stream",
     "text": [
      "         [,1]     [,2]\n",
      "[1,] 7.680679 10.63349\n",
      "[2,] 9.246062 10.47132\n",
      "[3,] 7.954286 11.60115\n"
     ]
    }
   ],
   "source": [
    "alpha=0.05 #Valor de alpha correspondente ao intervalo com nível de confiança 1-alpha\n",
    "z<-qnorm(1-alpha/2) #Quantil de ordem 1-alpha/2 da distribuição N(0,1)\n",
    "covEta<-W%*%KbbInv%*%t(W) #Calculando a estimativa matriz de covariância do estimador de eta\n",
    "sigma2Eta<-diag(covEta) #Extraindo a estimativa da variância do estimador de eta\n",
    "ICEta<-cbind(etaEst-z*sqrt(sigma2Eta),etaEst+z*sqrt(sigma2Eta)) #Calculando os intervalos de confiança de eta\n",
    "ICMu<-cbind(exp(ICEta)) #Calculando os intervalos de predição\n",
    "print(ICMu)"
   ]
  },
  {
   "cell_type": "markdown",
   "metadata": {},
   "source": [
    "### 1.5 Calculando as predições utilizando a função ``predict``"
   ]
  },
  {
   "cell_type": "markdown",
   "metadata": {},
   "source": [
    "<p style=\"text-align: justify;font-size: 16px\">A função <font face=\"'Courier New'\">predict</font> calcula as predições de $\\mu$. Os três principais argumentos da função são os seguintes:</p>\n",
    "    <ol style=\"text-align: justify; font-size:16px\">\n",
    "        <li><font face=\"'Courier New'\">object</font>: modelo ajustado. Saída da função <font face=\"'Courier New'\">glm</font>.</li>\n",
    "        <li><font face=\"'Courier New'\">newdata</font>: variável do tipo <font face=\"'Courier New'\">data.frame</font> contendo os valores das variáveis preditoras para os quais se deseja predizer $\\mu$.</li>\n",
    "    <li><font face=\"'Courier New'\">type</font>: indica se o valor a ser calculado é o valor do preditor linear $\\eta$ (<font face=\"'Courier New'\">type=\"link\"</font>) ou o valor da média $\\mu$ (<font face=\"'Courier New'\">type=\"response\"</font>).</li>\n",
    "    </ol>\n",
    "</p>\n",
    "<p style=\"text-align: justify;font-size: 16px\">Os nomes das colunas de <font face=\"'Courier New'\">newdata</font> devem ser iguais aos nomes das variáveis preditoras. </p>"
   ]
  },
  {
   "cell_type": "markdown",
   "metadata": {},
   "source": [
    "<p style=\"text-align: justify;font-size: 16px\">Construindo o <font face=\"'Courier New'\">data.frame</font> contendo os valores das variáveis preditoras para os quais se deseja predizer $\\mu$.\n",
    "</p>"
   ]
  },
  {
   "cell_type": "code",
   "execution_count": 10,
   "metadata": {},
   "outputs": [
    {
     "data": {
      "text/html": [
       "<table>\n",
       "<caption>A data.frame: 3 × 2</caption>\n",
       "<thead>\n",
       "\t<tr><th scope=col>distConc</th><th scope=col>distLoja</th></tr>\n",
       "\t<tr><th scope=col>&lt;dbl&gt;</th><th scope=col>&lt;dbl&gt;</th></tr>\n",
       "</thead>\n",
       "<tbody>\n",
       "\t<tr><td>1</td><td> 5</td></tr>\n",
       "\t<tr><td>3</td><td> 7</td></tr>\n",
       "\t<tr><td>5</td><td>10</td></tr>\n",
       "</tbody>\n",
       "</table>\n"
      ],
      "text/latex": [
       "A data.frame: 3 × 2\n",
       "\\begin{tabular}{ll}\n",
       " distConc & distLoja\\\\\n",
       " <dbl> & <dbl>\\\\\n",
       "\\hline\n",
       "\t 1 &  5\\\\\n",
       "\t 3 &  7\\\\\n",
       "\t 5 & 10\\\\\n",
       "\\end{tabular}\n"
      ],
      "text/markdown": [
       "\n",
       "A data.frame: 3 × 2\n",
       "\n",
       "| distConc &lt;dbl&gt; | distLoja &lt;dbl&gt; |\n",
       "|---|---|\n",
       "| 1 |  5 |\n",
       "| 3 |  7 |\n",
       "| 5 | 10 |\n",
       "\n"
      ],
      "text/plain": [
       "  distConc distLoja\n",
       "1 1         5      \n",
       "2 3         7      \n",
       "3 5        10      "
      ]
     },
     "metadata": {},
     "output_type": "display_data"
    }
   ],
   "source": [
    "W<-data.frame(distConc=wDistConc,distLoja=wDistLoja)\n",
    "W"
   ]
  },
  {
   "cell_type": "markdown",
   "metadata": {},
   "source": [
    "<p style=\"text-align: justify;font-size: 16px\">Realizando a predição por meio da função <font face=\"'Courier New'\">predict</font>.\n",
    "</p>"
   ]
  },
  {
   "cell_type": "code",
   "execution_count": 11,
   "metadata": {},
   "outputs": [
    {
     "data": {
      "text/html": [
       "<table>\n",
       "<caption>A data.frame: 3 × 3</caption>\n",
       "<thead>\n",
       "\t<tr><th></th><th scope=col>distConc</th><th scope=col>distLoja</th><th scope=col>mu</th></tr>\n",
       "\t<tr><th></th><th scope=col>&lt;dbl&gt;</th><th scope=col>&lt;dbl&gt;</th><th scope=col>&lt;dbl&gt;</th></tr>\n",
       "</thead>\n",
       "<tbody>\n",
       "\t<tr><th scope=row>1</th><td>1</td><td> 5</td><td>9.037280</td></tr>\n",
       "\t<tr><th scope=row>2</th><td>3</td><td> 7</td><td>9.839640</td></tr>\n",
       "\t<tr><th scope=row>3</th><td>5</td><td>10</td><td>9.606188</td></tr>\n",
       "</tbody>\n",
       "</table>\n"
      ],
      "text/latex": [
       "A data.frame: 3 × 3\n",
       "\\begin{tabular}{r|lll}\n",
       "  & distConc & distLoja & mu\\\\\n",
       "  & <dbl> & <dbl> & <dbl>\\\\\n",
       "\\hline\n",
       "\t1 & 1 &  5 & 9.037280\\\\\n",
       "\t2 & 3 &  7 & 9.839640\\\\\n",
       "\t3 & 5 & 10 & 9.606188\\\\\n",
       "\\end{tabular}\n"
      ],
      "text/markdown": [
       "\n",
       "A data.frame: 3 × 3\n",
       "\n",
       "| <!--/--> | distConc &lt;dbl&gt; | distLoja &lt;dbl&gt; | mu &lt;dbl&gt; |\n",
       "|---|---|---|---|\n",
       "| 1 | 1 |  5 | 9.037280 |\n",
       "| 2 | 3 |  7 | 9.839640 |\n",
       "| 3 | 5 | 10 | 9.606188 |\n",
       "\n"
      ],
      "text/plain": [
       "  distConc distLoja mu      \n",
       "1 1         5       9.037280\n",
       "2 3         7       9.839640\n",
       "3 5        10       9.606188"
      ]
     },
     "metadata": {},
     "output_type": "display_data"
    }
   ],
   "source": [
    "muEst<-predict(object=aj,newdata=W,type=\"response\")\n",
    "yPred<-data.frame(distConc=wDistConc,distLoja=wDistLoja,mu=muEst)\n",
    "yPred"
   ]
  },
  {
   "cell_type": "markdown",
   "metadata": {},
   "source": [
    "### 1.6 Calculando os intervalos de predição, com 95% de confiança, utilizando a função ``add_ci``"
   ]
  },
  {
   "cell_type": "markdown",
   "metadata": {},
   "source": [
    "<p style=\"text-align: justify;font-size: 16px\">Carregando os pacotes necessários.</p>"
   ]
  },
  {
   "cell_type": "code",
   "execution_count": 12,
   "metadata": {},
   "outputs": [
    {
     "name": "stderr",
     "output_type": "stream",
     "text": [
      "ciTools version 0.5.1 (C) Institute for Defense Analyses\n",
      "\n"
     ]
    }
   ],
   "source": [
    "library(tibble)\n",
    "library(ciTools)"
   ]
  },
  {
   "cell_type": "markdown",
   "metadata": {},
   "source": [
    "<p style=\"text-align: justify;font-size: 16px\">A função <font face=\"'Courier New'\">add_ci</font> calcula os intervalos de predição. Os três principais argumentos dessa função são:</p>\n",
    "   <ol style=\"text-align: justify; font-size:16px\">\n",
    "        <li><font face=\"'Courier New'\">tb</font>: variável do tipo <font face=\"'Courier New'\">tibble</font> contendo os valores das variáveis preditoras para os quais se deseja predizer $\\mu$.</li>\n",
    "        <li><font face=\"'Courier New'\">fit</font>: modelo ajustado. Saída da função <font face=\"'Courier New'\">glm</font>.</li>\n",
    "    <li><font face=\"'Courier New'\">alpha</font>: nível de confiança. O nível de confiança do intervalo de predição é <font face=\"'Courier New'\">1-alpha</font>.</li>\n",
    "    </ol>\n",
    "</p>\n",
    "<p style=\"text-align: justify;font-size: 16px\">O tipo <font face=\"'Courier New'\">tibble</font>  é semelhante ao ao tipo <font face=\"'Courier New'\">data.frame</font>, porém com algumas diferenças. Para mais informações, consulte a ajuda da função, por meio do comando <font face=\"'Courier New'\">?tibble</font>.</p>"
   ]
  },
  {
   "cell_type": "markdown",
   "metadata": {},
   "source": [
    "<p style=\"text-align: justify;font-size: 16px\">Construindo o <font face=\"'Courier New'\">tibble</font> contendo os valores das variáveis preditoras para os quais se deseja predizer $\\mu$. Os nomes das colunas devem ser iguais aos das variáveis.\n",
    "</p>"
   ]
  },
  {
   "cell_type": "code",
   "execution_count": 13,
   "metadata": {},
   "outputs": [
    {
     "data": {
      "text/html": [
       "<table>\n",
       "<caption>A tibble: 3 × 2</caption>\n",
       "<thead>\n",
       "\t<tr><th scope=col>distConc</th><th scope=col>distLoja</th></tr>\n",
       "\t<tr><th scope=col>&lt;dbl&gt;</th><th scope=col>&lt;dbl&gt;</th></tr>\n",
       "</thead>\n",
       "<tbody>\n",
       "\t<tr><td>1</td><td> 5</td></tr>\n",
       "\t<tr><td>3</td><td> 7</td></tr>\n",
       "\t<tr><td>5</td><td>10</td></tr>\n",
       "</tbody>\n",
       "</table>\n"
      ],
      "text/latex": [
       "A tibble: 3 × 2\n",
       "\\begin{tabular}{ll}\n",
       " distConc & distLoja\\\\\n",
       " <dbl> & <dbl>\\\\\n",
       "\\hline\n",
       "\t 1 &  5\\\\\n",
       "\t 3 &  7\\\\\n",
       "\t 5 & 10\\\\\n",
       "\\end{tabular}\n"
      ],
      "text/markdown": [
       "\n",
       "A tibble: 3 × 2\n",
       "\n",
       "| distConc &lt;dbl&gt; | distLoja &lt;dbl&gt; |\n",
       "|---|---|\n",
       "| 1 |  5 |\n",
       "| 3 |  7 |\n",
       "| 5 | 10 |\n",
       "\n"
      ],
      "text/plain": [
       "  distConc distLoja\n",
       "1 1         5      \n",
       "2 3         7      \n",
       "3 5        10      "
      ]
     },
     "metadata": {},
     "output_type": "display_data"
    }
   ],
   "source": [
    "W<-tibble(distConc=wDistConc,distLoja=wDistLoja)\n",
    "W"
   ]
  },
  {
   "cell_type": "markdown",
   "metadata": {},
   "source": [
    "<p style=\"text-align: justify;font-size: 16px\">Calculando os intervalos de predição utilizando a função <font face=\"'Courier New'\">add_ci</font>.</p>"
   ]
  },
  {
   "cell_type": "code",
   "execution_count": 14,
   "metadata": {},
   "outputs": [
    {
     "name": "stderr",
     "output_type": "stream",
     "text": [
      "Warning message:\n",
      "“`as_data_frame()` is deprecated as of tibble 2.0.0.\n",
      "Please use `as_tibble()` instead.\n",
      "The signature and semantics have changed, see `?as_tibble`.\n",
      "\u001b[90mThis warning is displayed once every 8 hours.\u001b[39m\n",
      "\u001b[90mCall `lifecycle::last_warnings()` to see where this warning was generated.\u001b[39m”\n"
     ]
    },
    {
     "data": {
      "text/html": [
       "<table>\n",
       "<caption>A tibble: 3 × 5</caption>\n",
       "<thead>\n",
       "\t<tr><th scope=col>distConc</th><th scope=col>distLoja</th><th scope=col>pred</th><th scope=col>LCB0.025</th><th scope=col>UCB0.975</th></tr>\n",
       "\t<tr><th scope=col>&lt;dbl&gt;</th><th scope=col>&lt;dbl&gt;</th><th scope=col>&lt;dbl&gt;</th><th scope=col>&lt;dbl&gt;</th><th scope=col>&lt;dbl&gt;</th></tr>\n",
       "</thead>\n",
       "<tbody>\n",
       "\t<tr><td>1</td><td> 5</td><td>9.037280</td><td>7.680683</td><td>10.63349</td></tr>\n",
       "\t<tr><td>3</td><td> 7</td><td>9.839640</td><td>9.246064</td><td>10.47132</td></tr>\n",
       "\t<tr><td>5</td><td>10</td><td>9.606188</td><td>7.954289</td><td>11.60114</td></tr>\n",
       "</tbody>\n",
       "</table>\n"
      ],
      "text/latex": [
       "A tibble: 3 × 5\n",
       "\\begin{tabular}{lllll}\n",
       " distConc & distLoja & pred & LCB0.025 & UCB0.975\\\\\n",
       " <dbl> & <dbl> & <dbl> & <dbl> & <dbl>\\\\\n",
       "\\hline\n",
       "\t 1 &  5 & 9.037280 & 7.680683 & 10.63349\\\\\n",
       "\t 3 &  7 & 9.839640 & 9.246064 & 10.47132\\\\\n",
       "\t 5 & 10 & 9.606188 & 7.954289 & 11.60114\\\\\n",
       "\\end{tabular}\n"
      ],
      "text/markdown": [
       "\n",
       "A tibble: 3 × 5\n",
       "\n",
       "| distConc &lt;dbl&gt; | distLoja &lt;dbl&gt; | pred &lt;dbl&gt; | LCB0.025 &lt;dbl&gt; | UCB0.975 &lt;dbl&gt; |\n",
       "|---|---|---|---|---|\n",
       "| 1 |  5 | 9.037280 | 7.680683 | 10.63349 |\n",
       "| 3 |  7 | 9.839640 | 9.246064 | 10.47132 |\n",
       "| 5 | 10 | 9.606188 | 7.954289 | 11.60114 |\n",
       "\n"
      ],
      "text/plain": [
       "  distConc distLoja pred     LCB0.025 UCB0.975\n",
       "1 1         5       9.037280 7.680683 10.63349\n",
       "2 3         7       9.839640 9.246064 10.47132\n",
       "3 5        10       9.606188 7.954289 11.60114"
      ]
     },
     "metadata": {},
     "output_type": "display_data"
    }
   ],
   "source": [
    "add_ci(tb=W,fit=aj)"
   ]
  },
  {
   "cell_type": "code",
   "execution_count": null,
   "metadata": {},
   "outputs": [],
   "source": []
  }
 ],
 "metadata": {
  "kernelspec": {
   "display_name": "R",
   "language": "R",
   "name": "ir"
  },
  "language_info": {
   "codemirror_mode": "r",
   "file_extension": ".r",
   "mimetype": "text/x-r-source",
   "name": "R",
   "pygments_lexer": "r",
   "version": "3.6.3"
  }
 },
 "nbformat": 4,
 "nbformat_minor": 2
}

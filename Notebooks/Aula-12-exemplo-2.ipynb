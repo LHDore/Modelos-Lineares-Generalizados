{
 "cells": [
  {
   "cell_type": "markdown",
   "metadata": {},
   "source": [
    "<div style=\"position:relative; height:160px;\">\n",
    "<img src=\"logoDECATUFS.png\" width=\"500\" height=\"500\" style=\"position:absolute; left:-8px;\">\n",
    "</div>"
   ]
  },
  {
   "cell_type": "markdown",
   "metadata": {},
   "source": [
    "<div style=\"text-align:center;font-size:17px; white-space:pre;margin-top:-35px\">\n",
    "        <h3>             Modelos Lineares Generalizados</h3>\n",
    "        Disciplina ofertada pelo DECAT/UFS\n",
    "        Código: ESTAT0092\n",
    "        Nível: Graduação\n",
    "        Carga horária: 60h\n",
    "        Período: 2020.2\n",
    "        Professor responsável e ministrante: Luiz Henrique Dore\n",
    "        <h3>            Aula 12: testanto a significância global do modelo</h3>\n",
    "</div>"
   ]
  },
  {
   "cell_type": "markdown",
   "metadata": {},
   "source": [
    "# Exemplo 2"
   ]
  },
  {
   "cell_type": "markdown",
   "metadata": {},
   "source": [
    "<p style=\"text-align: justify; font-size:16px\">\n",
    "Considere o conjunto de dados <b>icu.csv</b>, descrito no exemplo 3 da aula 2. O objetivo é ajustar um modelo de regressão logística, no qual a variável resposta é a variável <b>sta</b> (Sobrevivência) e a variável preditora é a variável <b>age</b> (Idade), e executar o teste da razão de verossimilhanças para avaliar a significância global do modelo.\n",
    "<p>"
   ]
  },
  {
   "cell_type": "markdown",
   "metadata": {},
   "source": [
    "### 2.1 Leitura e visualização dos dados"
   ]
  },
  {
   "cell_type": "code",
   "execution_count": 1,
   "metadata": {},
   "outputs": [
    {
     "data": {
      "text/html": [
       "<table>\n",
       "<caption>A data.frame: 6 × 21</caption>\n",
       "<thead>\n",
       "\t<tr><th></th><th scope=col>id</th><th scope=col>sta</th><th scope=col>age</th><th scope=col>gender</th><th scope=col>race</th><th scope=col>ser</th><th scope=col>can</th><th scope=col>crn</th><th scope=col>inf</th><th scope=col>cpr</th><th scope=col>⋯</th><th scope=col>hra</th><th scope=col>pre</th><th scope=col>type</th><th scope=col>fra</th><th scope=col>po2</th><th scope=col>ph</th><th scope=col>pco</th><th scope=col>bic</th><th scope=col>cre</th><th scope=col>loc</th></tr>\n",
       "\t<tr><th></th><th scope=col>&lt;int&gt;</th><th scope=col>&lt;fct&gt;</th><th scope=col>&lt;int&gt;</th><th scope=col>&lt;fct&gt;</th><th scope=col>&lt;fct&gt;</th><th scope=col>&lt;fct&gt;</th><th scope=col>&lt;fct&gt;</th><th scope=col>&lt;fct&gt;</th><th scope=col>&lt;fct&gt;</th><th scope=col>&lt;fct&gt;</th><th scope=col>⋯</th><th scope=col>&lt;int&gt;</th><th scope=col>&lt;fct&gt;</th><th scope=col>&lt;fct&gt;</th><th scope=col>&lt;fct&gt;</th><th scope=col>&lt;fct&gt;</th><th scope=col>&lt;fct&gt;</th><th scope=col>&lt;fct&gt;</th><th scope=col>&lt;fct&gt;</th><th scope=col>&lt;fct&gt;</th><th scope=col>&lt;fct&gt;</th></tr>\n",
       "</thead>\n",
       "<tbody>\n",
       "\t<tr><th scope=row>1</th><td> 4</td><td>Died </td><td>87</td><td>Female</td><td>White</td><td>Surgical</td><td>No</td><td>No</td><td>Yes</td><td>No</td><td>⋯</td><td> 96</td><td>No </td><td>Emergency</td><td>Yes</td><td>&lt;= 60</td><td>&lt; 7.25 </td><td>&gt; 45 </td><td>&gt;= 18</td><td>&lt;= 2.0</td><td>Nothing</td></tr>\n",
       "\t<tr><th scope=row>2</th><td> 8</td><td>Lived</td><td>27</td><td>Female</td><td>White</td><td>Medical </td><td>No</td><td>No</td><td>Yes</td><td>No</td><td>⋯</td><td> 88</td><td>No </td><td>Emergency</td><td>No </td><td>&gt; 60 </td><td>&gt;= 7.25</td><td>&lt;= 45</td><td>&gt;= 18</td><td>&lt;= 2.0</td><td>Nothing</td></tr>\n",
       "\t<tr><th scope=row>3</th><td>12</td><td>Lived</td><td>59</td><td><span style=white-space:pre-wrap>Male  </span></td><td>White</td><td>Medical </td><td>No</td><td>No</td><td>No </td><td>No</td><td>⋯</td><td> 80</td><td>Yes</td><td>Emergency</td><td>No </td><td>&gt; 60 </td><td>&gt;= 7.25</td><td>&lt;= 45</td><td>&gt;= 18</td><td>&lt;= 2.0</td><td>Nothing</td></tr>\n",
       "\t<tr><th scope=row>4</th><td>14</td><td>Lived</td><td>77</td><td><span style=white-space:pre-wrap>Male  </span></td><td>White</td><td>Surgical</td><td>No</td><td>No</td><td>No </td><td>No</td><td>⋯</td><td> 70</td><td>No </td><td>Elective </td><td>No </td><td>&gt; 60 </td><td>&gt;= 7.25</td><td>&lt;= 45</td><td>&gt;= 18</td><td>&lt;= 2.0</td><td>Nothing</td></tr>\n",
       "\t<tr><th scope=row>5</th><td>27</td><td>Died </td><td>76</td><td>Female</td><td>White</td><td>Surgical</td><td>No</td><td>No</td><td>Yes</td><td>No</td><td>⋯</td><td> 90</td><td>Yes</td><td>Emergency</td><td>No </td><td>&gt; 60 </td><td>&gt;= 7.25</td><td>&lt;= 45</td><td>&gt;= 18</td><td>&lt;= 2.0</td><td>Nothing</td></tr>\n",
       "\t<tr><th scope=row>6</th><td>28</td><td>Lived</td><td>54</td><td><span style=white-space:pre-wrap>Male  </span></td><td>White</td><td>Medical </td><td>No</td><td>No</td><td>Yes</td><td>No</td><td>⋯</td><td>103</td><td>No </td><td>Emergency</td><td>Yes</td><td>&gt; 60 </td><td>&gt;= 7.25</td><td>&lt;= 45</td><td>&gt;= 18</td><td>&lt;= 2.0</td><td>Nothing</td></tr>\n",
       "</tbody>\n",
       "</table>\n"
      ],
      "text/latex": [
       "A data.frame: 6 × 21\n",
       "\\begin{tabular}{r|lllllllllllllllllllll}\n",
       "  & id & sta & age & gender & race & ser & can & crn & inf & cpr & ⋯ & hra & pre & type & fra & po2 & ph & pco & bic & cre & loc\\\\\n",
       "  & <int> & <fct> & <int> & <fct> & <fct> & <fct> & <fct> & <fct> & <fct> & <fct> & ⋯ & <int> & <fct> & <fct> & <fct> & <fct> & <fct> & <fct> & <fct> & <fct> & <fct>\\\\\n",
       "\\hline\n",
       "\t1 &  4 & Died  & 87 & Female & White & Surgical & No & No & Yes & No & ⋯ &  96 & No  & Emergency & Yes & <= 60 & < 7.25  & > 45  & >= 18 & <= 2.0 & Nothing\\\\\n",
       "\t2 &  8 & Lived & 27 & Female & White & Medical  & No & No & Yes & No & ⋯ &  88 & No  & Emergency & No  & > 60  & >= 7.25 & <= 45 & >= 18 & <= 2.0 & Nothing\\\\\n",
       "\t3 & 12 & Lived & 59 & Male   & White & Medical  & No & No & No  & No & ⋯ &  80 & Yes & Emergency & No  & > 60  & >= 7.25 & <= 45 & >= 18 & <= 2.0 & Nothing\\\\\n",
       "\t4 & 14 & Lived & 77 & Male   & White & Surgical & No & No & No  & No & ⋯ &  70 & No  & Elective  & No  & > 60  & >= 7.25 & <= 45 & >= 18 & <= 2.0 & Nothing\\\\\n",
       "\t5 & 27 & Died  & 76 & Female & White & Surgical & No & No & Yes & No & ⋯ &  90 & Yes & Emergency & No  & > 60  & >= 7.25 & <= 45 & >= 18 & <= 2.0 & Nothing\\\\\n",
       "\t6 & 28 & Lived & 54 & Male   & White & Medical  & No & No & Yes & No & ⋯ & 103 & No  & Emergency & Yes & > 60  & >= 7.25 & <= 45 & >= 18 & <= 2.0 & Nothing\\\\\n",
       "\\end{tabular}\n"
      ],
      "text/markdown": [
       "\n",
       "A data.frame: 6 × 21\n",
       "\n",
       "| <!--/--> | id &lt;int&gt; | sta &lt;fct&gt; | age &lt;int&gt; | gender &lt;fct&gt; | race &lt;fct&gt; | ser &lt;fct&gt; | can &lt;fct&gt; | crn &lt;fct&gt; | inf &lt;fct&gt; | cpr &lt;fct&gt; | ⋯ ⋯ | hra &lt;int&gt; | pre &lt;fct&gt; | type &lt;fct&gt; | fra &lt;fct&gt; | po2 &lt;fct&gt; | ph &lt;fct&gt; | pco &lt;fct&gt; | bic &lt;fct&gt; | cre &lt;fct&gt; | loc &lt;fct&gt; |\n",
       "|---|---|---|---|---|---|---|---|---|---|---|---|---|---|---|---|---|---|---|---|---|---|\n",
       "| 1 |  4 | Died  | 87 | Female | White | Surgical | No | No | Yes | No | ⋯ |  96 | No  | Emergency | Yes | &lt;= 60 | &lt; 7.25  | &gt; 45  | &gt;= 18 | &lt;= 2.0 | Nothing |\n",
       "| 2 |  8 | Lived | 27 | Female | White | Medical  | No | No | Yes | No | ⋯ |  88 | No  | Emergency | No  | &gt; 60  | &gt;= 7.25 | &lt;= 45 | &gt;= 18 | &lt;= 2.0 | Nothing |\n",
       "| 3 | 12 | Lived | 59 | Male   | White | Medical  | No | No | No  | No | ⋯ |  80 | Yes | Emergency | No  | &gt; 60  | &gt;= 7.25 | &lt;= 45 | &gt;= 18 | &lt;= 2.0 | Nothing |\n",
       "| 4 | 14 | Lived | 77 | Male   | White | Surgical | No | No | No  | No | ⋯ |  70 | No  | Elective  | No  | &gt; 60  | &gt;= 7.25 | &lt;= 45 | &gt;= 18 | &lt;= 2.0 | Nothing |\n",
       "| 5 | 27 | Died  | 76 | Female | White | Surgical | No | No | Yes | No | ⋯ |  90 | Yes | Emergency | No  | &gt; 60  | &gt;= 7.25 | &lt;= 45 | &gt;= 18 | &lt;= 2.0 | Nothing |\n",
       "| 6 | 28 | Lived | 54 | Male   | White | Medical  | No | No | Yes | No | ⋯ | 103 | No  | Emergency | Yes | &gt; 60  | &gt;= 7.25 | &lt;= 45 | &gt;= 18 | &lt;= 2.0 | Nothing |\n",
       "\n"
      ],
      "text/plain": [
       "  id sta   age gender race  ser      can crn inf cpr ⋯ hra pre type      fra\n",
       "1  4 Died  87  Female White Surgical No  No  Yes No  ⋯  96 No  Emergency Yes\n",
       "2  8 Lived 27  Female White Medical  No  No  Yes No  ⋯  88 No  Emergency No \n",
       "3 12 Lived 59  Male   White Medical  No  No  No  No  ⋯  80 Yes Emergency No \n",
       "4 14 Lived 77  Male   White Surgical No  No  No  No  ⋯  70 No  Elective  No \n",
       "5 27 Died  76  Female White Surgical No  No  Yes No  ⋯  90 Yes Emergency No \n",
       "6 28 Lived 54  Male   White Medical  No  No  Yes No  ⋯ 103 No  Emergency Yes\n",
       "  po2   ph      pco   bic   cre    loc    \n",
       "1 <= 60 < 7.25  > 45  >= 18 <= 2.0 Nothing\n",
       "2 > 60  >= 7.25 <= 45 >= 18 <= 2.0 Nothing\n",
       "3 > 60  >= 7.25 <= 45 >= 18 <= 2.0 Nothing\n",
       "4 > 60  >= 7.25 <= 45 >= 18 <= 2.0 Nothing\n",
       "5 > 60  >= 7.25 <= 45 >= 18 <= 2.0 Nothing\n",
       "6 > 60  >= 7.25 <= 45 >= 18 <= 2.0 Nothing"
      ]
     },
     "metadata": {},
     "output_type": "display_data"
    }
   ],
   "source": [
    "dados<-read.csv(\"/Dados/Google_Drive_UFS/Aulas/2020_2/MLG/Dados/icu.csv\",header=TRUE)\n",
    "n<-dim(dados)[1] #Número de observações\n",
    "head(dados) #Visualizando as primeiras observações"
   ]
  },
  {
   "cell_type": "code",
   "execution_count": 2,
   "metadata": {},
   "outputs": [],
   "source": [
    "sta<-as.numeric(dados[,\"sta\"]==\"Lived\") #0 para Died e 1 para Lived\n",
    "age<-dados[,3]"
   ]
  },
  {
   "cell_type": "markdown",
   "metadata": {},
   "source": [
    "### 2.2 Formulação do modelo"
   ]
  },
  {
   "cell_type": "markdown",
   "metadata": {},
   "source": [
    "<p style=\"text-align: justify; font-size:15px\">\n",
    "    <ol style=\"font-size:16px\">\n",
    "        <li>$Sobrevivência\\sim Bernoulli(\\mu)$;</li>\n",
    "        <li>$\\eta=\\beta_0+\\beta_1\\cdot Idade$;</li>\n",
    "        <li>$\\ln\\left(\\frac{\\mu}{1-\\mu}\\right)=\\eta$.</li>\n",
    "    </ol>\n",
    "</p>"
   ]
  },
  {
   "cell_type": "markdown",
   "metadata": {},
   "source": [
    "### 2.3 Estimação dos parâmetros pelo método escore de Fisher usando a função ``glm``"
   ]
  },
  {
   "cell_type": "markdown",
   "metadata": {},
   "source": [
    "<p style=\"text-align: justify;font-size: 16px\">Estimação dos coeficientes de regressão no modelo completo.</p>"
   ]
  },
  {
   "cell_type": "code",
   "execution_count": 3,
   "metadata": {},
   "outputs": [],
   "source": [
    "aj<-glm(formula=sta~age,family=binomial(link=\"logit\"),data=dados)\n",
    "beta<-aj$coefficients"
   ]
  },
  {
   "cell_type": "markdown",
   "metadata": {},
   "source": [
    "<p style=\"text-align: justify;font-size: 16px\">Visualizando as estimativas dos coeficientes de regressão do modelo completo.</p>"
   ]
  },
  {
   "cell_type": "code",
   "execution_count": 4,
   "metadata": {},
   "outputs": [
    {
     "name": "stdout",
     "output_type": "stream",
     "text": [
      "(Intercept)         age \n",
      " 3.05851323 -0.02754261 \n"
     ]
    }
   ],
   "source": [
    "print(beta)"
   ]
  },
  {
   "cell_type": "markdown",
   "metadata": {},
   "source": [
    "<p style=\"text-align: justify;font-size: 16px\">Estimação dos coeficientes de regressão do modelo sob $H_0$.</p>"
   ]
  },
  {
   "cell_type": "code",
   "execution_count": 5,
   "metadata": {},
   "outputs": [],
   "source": [
    "aj0<-glm(formula=sta~1,family=binomial(link=\"logit\"),data=dados)\n",
    "beta0<-aj0$coefficients"
   ]
  },
  {
   "cell_type": "markdown",
   "metadata": {},
   "source": [
    "<p style=\"text-align: justify;font-size: 16px\">Visualizando as estimativas dos coeficientes de regressão do modelo sob $H_0$.</p>"
   ]
  },
  {
   "cell_type": "code",
   "execution_count": 6,
   "metadata": {},
   "outputs": [
    {
     "name": "stdout",
     "output_type": "stream",
     "text": [
      "(Intercept) \n",
      "   1.386294 \n"
     ]
    }
   ],
   "source": [
    "print(beta0)"
   ]
  },
  {
   "cell_type": "markdown",
   "metadata": {},
   "source": [
    "### 2.4 Executando o teste da razão de verossimilhanças"
   ]
  },
  {
   "cell_type": "markdown",
   "metadata": {},
   "source": [
    "<p style=\"text-align: justify; font-size:16px\">No caso da distribuição gama, a função de log-verossimilhança é dada por (ver a fórmula 2 no tópico 10 e o exemplo 3 no tópico 12)\n",
    "    $$l(\\boldsymbol{\\beta},\\phi)=\\phi^{-1}\\sum\\limits_{i=1}^n[\\theta_iy_i-b(\\theta_i)]+\\sum\\limits_{i=1}^nc(y_i,\\phi),$$\n",
    "onde $\\theta_i=\\ln\\left(\\frac{\\mu_i}{1-\\mu_i}\\right)$, $b(\\theta_i)=\\ln\\left(1+e^{\\theta_i}\\right)$, $\\phi=1$ e $c(y_i,\\phi)=0$. Primeiramente, utilizando a função <font face=\"'Courier New'\">predict</font>, calcula-se os valores de $\\mu_i$  Utilizando os valores de $\\mu_i$, calcula-se os valores de $\\theta_i$ e, utilizando os valores de $\\theta_i$, calcula-se os valores de $b(\\theta_i)$. Por último, substitui-se os valores de $\\theta_i$ e $b(\\theta_i)$ na fórmula da função de log-verossimilhança."
   ]
  },
  {
   "cell_type": "markdown",
   "metadata": {},
   "source": [
    "<p style=\"text-align: justify;font-size: 16px\">Calculando a log-verossimilhança do modelo completo.</p>"
   ]
  },
  {
   "cell_type": "code",
   "execution_count": 7,
   "metadata": {},
   "outputs": [
    {
     "name": "stdout",
     "output_type": "stream",
     "text": [
      "[1] \"log-verossimilhança do modelo completo:  -96.1531901918606\"\n"
     ]
    }
   ],
   "source": [
    "y<-sta #Atribuindo os valores observados da resposta ao vetor y\n",
    "mu<-predict(aj,type=\"response\") #Calculando os valores de mu com base no modelo ajustado\n",
    "theta<-log(mu/(1-mu)) #Calculando os valores de theta a partir de mu\n",
    "btheta<-log(1+exp(theta)) #Calculando os valores de b(theta) a partir de theta\n",
    "l<-sum(theta*y-btheta) #Calculando a log-verossimilhança\n",
    "l<-as.numeric(l)\n",
    "print(paste(\"log-verossimilhança do modelo completo: \",l))"
   ]
  },
  {
   "cell_type": "markdown",
   "metadata": {},
   "source": [
    "<p style=\"text-align: justify;font-size: 16px\">Calculando a log-verossimilhança do modelo sob $H_0$.</p>"
   ]
  },
  {
   "cell_type": "code",
   "execution_count": 8,
   "metadata": {},
   "outputs": [
    {
     "name": "stdout",
     "output_type": "stream",
     "text": [
      "[1] \"log-verossimilhança do modelo completo:  -100.080484707638\"\n"
     ]
    }
   ],
   "source": [
    "y<-sta #Atribuindo os valores observados da resposta ao vetor y\n",
    "mu0<-predict(aj0,type=\"response\") #Calculando os valores de mu com base no modelo ajustado\n",
    "theta0<-log(mu0/(1-mu0)) #Calculando os valores de theta a partir de mu\n",
    "btheta0<-log(1+exp(theta0)) #Calculando os valores de b(theta) a partir de theta\n",
    "l0<-sum(theta0*y-btheta0) #Calculando a log-verossimilhança\n",
    "l0<-as.numeric(l0)\n",
    "print(paste(\"log-verossimilhança do modelo completo: \",l0))"
   ]
  },
  {
   "cell_type": "markdown",
   "metadata": {},
   "source": [
    "<p style=\"text-align: justify;font-size: 16px\">Calculando a estatística do teste de da razão de verossimilhanças $T_{RV}=2\\left\\{l\\left(\\boldsymbol{\\widehat\\beta}\\right)-l\\left(\\hat\\beta^0_0\\right)\\right\\}$.</p>"
   ]
  },
  {
   "cell_type": "code",
   "execution_count": 9,
   "metadata": {},
   "outputs": [
    {
     "name": "stdout",
     "output_type": "stream",
     "text": [
      "[1] \"Valor observado da estatística do teste:  7.8545890315539\"\n"
     ]
    }
   ],
   "source": [
    "tRV<-2*(l-l0)\n",
    "print(paste(\"Valor observado da estatística do teste: \",tRV))"
   ]
  },
  {
   "cell_type": "markdown",
   "metadata": {},
   "source": [
    "<p style=\"text-align: justify;font-size: 16px\">Calculando o p-valor do teste. Sob $H_0$, a estatística $T_{RV}$ segue, aproximadamnete, distribuição $\\chi_p^2$, onde $p$ é o número de variáveis preditoras. Logo, o p-valor fica dado por $P(T_{RV}>t_{RV})=1-P(T_{RV}\\leq t_{RV})$, onde $T_{RV}\\sim\\chi_p^2$ e $t_{RV}$ é o valor observado de $T_{RV}$.</p>"
   ]
  },
  {
   "cell_type": "code",
   "execution_count": 10,
   "metadata": {},
   "outputs": [
    {
     "name": "stdout",
     "output_type": "stream",
     "text": [
      "[1] \"p-valor do teste:  0.0050691873742762\"\n"
     ]
    }
   ],
   "source": [
    "p<-length(beta)-1 #O número de variáveis preditoras é o número de coeficientes menos 1 (excluindo o intercepto) \n",
    "pvalor<-1-pchisq(tRV,p) \n",
    "print(paste(\"p-valor do teste: \",pvalor))"
   ]
  },
  {
   "cell_type": "markdown",
   "metadata": {},
   "source": [
    "### 2.5 Executando o teste da razão de verossimilhanças usando a função ``lr.test``"
   ]
  },
  {
   "cell_type": "markdown",
   "metadata": {},
   "source": [
    "<p style=\"text-align: justify;font-size: 16px\">Carregando os pacotes necessários.</p>"
   ]
  },
  {
   "cell_type": "code",
   "execution_count": 11,
   "metadata": {},
   "outputs": [
    {
     "name": "stderr",
     "output_type": "stream",
     "text": [
      "Loading required package: MASS\n",
      "\n"
     ]
    }
   ],
   "source": [
    "library(mdscore) #Contém a função lr.test\n",
    "#install.packages(\"mdscore\") #Execute esse comando para instalar o pacote mdscore, caso já não o tenha instalado"
   ]
  },
  {
   "cell_type": "markdown",
   "metadata": {},
   "source": [
    "<p style=\"text-align: justify;font-size: 16px\">A função <font face=\"'Courier New'\">lr.test</font> realiza o teste da razão de verossimilhanças para a significância global do modelo. A função recebe dois argumentos:</p>\n",
    "    <ol style=\"text-align: justify; font-size:16px\">\n",
    "        <li><font face=\"'Courier New'\">fit1</font>: modelo ajustado sob $H_0$. Saída da função <font face=\"'Courier New'\">glm</font> referente ao modelo sob $H_0$.</li>\n",
    "        <li><font face=\"'Courier New'\">fit2</font>: modelo completo ajustado. Saída da função <font face=\"'Courier New'\">glm</font> referente ao modelo completo.</li>\n",
    "    </ol>\n",
    "</p>"
   ]
  },
  {
   "cell_type": "code",
   "execution_count": 12,
   "metadata": {},
   "outputs": [
    {
     "data": {
      "text/plain": [
       "$LR\n",
       "[1] 7.854589\n",
       "\n",
       "$pvalue\n",
       "[1] 0.005069187\n",
       "\n",
       "attr(,\"class\")\n",
       "[1] \"lrt.test\""
      ]
     },
     "metadata": {},
     "output_type": "display_data"
    }
   ],
   "source": [
    "lr.test(fit1=aj0,fit2=aj)"
   ]
  },
  {
   "cell_type": "markdown",
   "metadata": {},
   "source": [
    "<p style=\"text-align: justify;font-size: 16px\">Calculando a exponencial dos coeficientes de regressão.</p>"
   ]
  },
  {
   "cell_type": "markdown",
   "metadata": {},
   "source": [
    "<p style=\"text-align: justify; font-size:16px\">\n",
    "O p-valor é menor do que 1%, indicando a rejeição de $H_0$, ao nível de 1% de significância. Ou seja, o resultado do teste indica que há uma associação estatisticamente significativa entre a probabilidade de sobrevivência do paciente e sua idade.\n",
    "</p>"
   ]
  },
  {
   "cell_type": "code",
   "execution_count": 13,
   "metadata": {},
   "outputs": [
    {
     "data": {
      "text/html": [
       "1"
      ],
      "text/latex": [
       "1"
      ],
      "text/markdown": [
       "1"
      ],
      "text/plain": [
       "[1] 1"
      ]
     },
     "metadata": {},
     "output_type": "display_data"
    }
   ],
   "source": [
    "p"
   ]
  },
  {
   "cell_type": "code",
   "execution_count": null,
   "metadata": {},
   "outputs": [],
   "source": []
  }
 ],
 "metadata": {
  "kernelspec": {
   "display_name": "R",
   "language": "R",
   "name": "ir"
  },
  "language_info": {
   "codemirror_mode": "r",
   "file_extension": ".r",
   "mimetype": "text/x-r-source",
   "name": "R",
   "pygments_lexer": "r",
   "version": "3.6.3"
  }
 },
 "nbformat": 4,
 "nbformat_minor": 2
}

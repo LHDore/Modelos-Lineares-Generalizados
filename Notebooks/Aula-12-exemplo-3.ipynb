{
 "cells": [
  {
   "cell_type": "markdown",
   "metadata": {},
   "source": [
    "<div style=\"position:relative; height:160px;\">\n",
    "<img src=\"logoDECATUFS.png\" width=\"500\" height=\"500\" style=\"position:absolute; left:-8px;\">\n",
    "</div>"
   ]
  },
  {
   "cell_type": "markdown",
   "metadata": {},
   "source": [
    "<div style=\"text-align:center;font-size:17px; white-space:pre;margin-top:-35px\">\n",
    "        <h3>             Modelos Lineares Generalizados</h3>\n",
    "        Disciplina ofertada pelo DECAT/UFS\n",
    "        Código: ESTAT0092\n",
    "        Nível: Graduação\n",
    "        Carga horária: 60h\n",
    "        Período: 2020.2\n",
    "        Professor responsável e ministrante: Luiz Henrique Dore\n",
    "        <h3>            Aula 12: testanto a significância global do modelo</h3>\n",
    "</div>"
   ]
  },
  {
   "cell_type": "markdown",
   "metadata": {},
   "source": [
    "# Exemplo 3"
   ]
  },
  {
   "cell_type": "markdown",
   "metadata": {},
   "source": [
    "<p style=\"text-align: justify; font-size:16px\">\n",
    "Considere o conjunto de dados <b>trees.dat</b>, descrito no exemplo 4 da aula 2. O objetivo é ajustar um modelo de regressão gama, com ligação logarítmica, no qual a variável resposta é o volume e as variáveis preditoras são a altura e o diâmetro e executar o teste da razão de verossimilhanças para avaliar a significância global do modelo.\n",
    "<p>"
   ]
  },
  {
   "cell_type": "markdown",
   "metadata": {},
   "source": [
    "### 3.1 Leitura e visualização dos dados"
   ]
  },
  {
   "cell_type": "code",
   "execution_count": 1,
   "metadata": {},
   "outputs": [
    {
     "data": {
      "text/html": [
       "<table>\n",
       "<caption>A data.frame: 6 × 3</caption>\n",
       "<thead>\n",
       "\t<tr><th></th><th scope=col>Diametro</th><th scope=col>Altura</th><th scope=col>Volume</th></tr>\n",
       "\t<tr><th></th><th scope=col>&lt;dbl&gt;</th><th scope=col>&lt;int&gt;</th><th scope=col>&lt;dbl&gt;</th></tr>\n",
       "</thead>\n",
       "<tbody>\n",
       "\t<tr><th scope=row>1</th><td> 8.3</td><td>70</td><td>10.3</td></tr>\n",
       "\t<tr><th scope=row>2</th><td> 8.6</td><td>65</td><td>10.3</td></tr>\n",
       "\t<tr><th scope=row>3</th><td> 8.8</td><td>63</td><td>10.2</td></tr>\n",
       "\t<tr><th scope=row>4</th><td>10.5</td><td>72</td><td>16.4</td></tr>\n",
       "\t<tr><th scope=row>5</th><td>10.7</td><td>81</td><td>18.8</td></tr>\n",
       "\t<tr><th scope=row>6</th><td>10.8</td><td>83</td><td>19.7</td></tr>\n",
       "</tbody>\n",
       "</table>\n"
      ],
      "text/latex": [
       "A data.frame: 6 × 3\n",
       "\\begin{tabular}{r|lll}\n",
       "  & Diametro & Altura & Volume\\\\\n",
       "  & <dbl> & <int> & <dbl>\\\\\n",
       "\\hline\n",
       "\t1 &  8.3 & 70 & 10.3\\\\\n",
       "\t2 &  8.6 & 65 & 10.3\\\\\n",
       "\t3 &  8.8 & 63 & 10.2\\\\\n",
       "\t4 & 10.5 & 72 & 16.4\\\\\n",
       "\t5 & 10.7 & 81 & 18.8\\\\\n",
       "\t6 & 10.8 & 83 & 19.7\\\\\n",
       "\\end{tabular}\n"
      ],
      "text/markdown": [
       "\n",
       "A data.frame: 6 × 3\n",
       "\n",
       "| <!--/--> | Diametro &lt;dbl&gt; | Altura &lt;int&gt; | Volume &lt;dbl&gt; |\n",
       "|---|---|---|---|\n",
       "| 1 |  8.3 | 70 | 10.3 |\n",
       "| 2 |  8.6 | 65 | 10.3 |\n",
       "| 3 |  8.8 | 63 | 10.2 |\n",
       "| 4 | 10.5 | 72 | 16.4 |\n",
       "| 5 | 10.7 | 81 | 18.8 |\n",
       "| 6 | 10.8 | 83 | 19.7 |\n",
       "\n"
      ],
      "text/plain": [
       "  Diametro Altura Volume\n",
       "1  8.3     70     10.3  \n",
       "2  8.6     65     10.3  \n",
       "3  8.8     63     10.2  \n",
       "4 10.5     72     16.4  \n",
       "5 10.7     81     18.8  \n",
       "6 10.8     83     19.7  "
      ]
     },
     "metadata": {},
     "output_type": "display_data"
    }
   ],
   "source": [
    "dados<-read.table(\"/Dados/Google_Drive_UFS/Aulas/2020_2/MLG/Dados/trees.dat\",header=TRUE)\n",
    "n<-dim(dados)[1] #Número de observações\n",
    "head(dados) #Visualizando as primeiras observações"
   ]
  },
  {
   "cell_type": "code",
   "execution_count": 2,
   "metadata": {},
   "outputs": [],
   "source": [
    "diam<-dados[,1]\n",
    "alt<-dados[,2]\n",
    "vol<-dados[,3]"
   ]
  },
  {
   "cell_type": "markdown",
   "metadata": {},
   "source": [
    "### 3.2 Formulação do modelo"
   ]
  },
  {
   "cell_type": "markdown",
   "metadata": {},
   "source": [
    "<p style=\"text-align: justify; font-size:15px\">\n",
    "    <ol style=\"font-size:16px\">\n",
    "        <li>$Volume\\sim Gama(a,b)$;</li>\n",
    "        <li>$\\eta=\\beta_0+\\beta_1\\cdot Altura+\\beta_2\\cdot Diâmetro$;</li>\n",
    "        <li>$\\ln\\left(\\mu\\right)=\\eta$.</li>\n",
    "    </ol>\n",
    "</p>"
   ]
  },
  {
   "cell_type": "markdown",
   "metadata": {},
   "source": [
    "### 3.3 Estimação dos parâmetros pelo método escore de Fisher usando as funções ``glm`` e ``gamma.shape``."
   ]
  },
  {
   "cell_type": "markdown",
   "metadata": {},
   "source": [
    "<p style=\"text-align: justify;font-size: 16px\">Carregando os pacotes necessários.</p>"
   ]
  },
  {
   "cell_type": "code",
   "execution_count": 3,
   "metadata": {},
   "outputs": [],
   "source": [
    "library(MASS) #Contém a função gamma.shape"
   ]
  },
  {
   "cell_type": "markdown",
   "metadata": {},
   "source": [
    "<p style=\"text-align: justify;font-size: 16px\">Estimação dos parâmetros no modelo completo.</p>"
   ]
  },
  {
   "cell_type": "code",
   "execution_count": 4,
   "metadata": {},
   "outputs": [],
   "source": [
    "aj<-glm(formula=Volume~Diametro+Altura,family=Gamma(link=\"log\"),data=dados)\n",
    "beta<-aj$coefficients"
   ]
  },
  {
   "cell_type": "code",
   "execution_count": 5,
   "metadata": {},
   "outputs": [],
   "source": [
    "ajPhi<-gamma.shape(aj)\n",
    "alpha<-ajPhi$alpha\n",
    "phi<-1/alpha\n",
    "names(phi)<-\"Dispersão\""
   ]
  },
  {
   "cell_type": "markdown",
   "metadata": {},
   "source": [
    "<p style=\"text-align: justify;font-size: 16px\">Visualizando as estimativas dos parâmetros no modelo completo.</p>"
   ]
  },
  {
   "cell_type": "code",
   "execution_count": 6,
   "metadata": {},
   "outputs": [
    {
     "name": "stdout",
     "output_type": "stream",
     "text": [
      "(Intercept)    Diametro      Altura   Dispersão \n",
      "0.092304581 0.145281192 0.016577883 0.008455011 \n"
     ]
    }
   ],
   "source": [
    "print(c(beta,phi))"
   ]
  },
  {
   "cell_type": "markdown",
   "metadata": {},
   "source": [
    "<p style=\"text-align: justify;font-size: 16px\">Estimação dos coeficientes de regressão no modelo sob $H_0$. No argumento <font face=\"'Courier New'\">formula</font>, digite apenas o número 1 na parte onde se informa as variáveis preditoras.</p>"
   ]
  },
  {
   "cell_type": "code",
   "execution_count": 7,
   "metadata": {},
   "outputs": [],
   "source": [
    "aj0<-glm(formula=Volume~1,family=Gamma(link=\"log\"),data=dados)\n",
    "beta0<-aj0$coefficients"
   ]
  },
  {
   "cell_type": "markdown",
   "metadata": {},
   "source": [
    "<p style=\"text-align: justify;font-size: 16px\">Estimação do parâmetro de dispersão no modelo sob $H_0$.</p>"
   ]
  },
  {
   "cell_type": "code",
   "execution_count": 8,
   "metadata": {},
   "outputs": [],
   "source": [
    "aj0Phi<-gamma.shape(aj0)\n",
    "alpha0<-aj0Phi$alpha\n",
    "phi0<-1/alpha0\n",
    "names(phi0)<-\"Dispersão\""
   ]
  },
  {
   "cell_type": "markdown",
   "metadata": {},
   "source": [
    "<p style=\"text-align: justify;font-size: 16px\">Visualizando as estimativas dos parâmetros no sob $H_0$.</p>"
   ]
  },
  {
   "cell_type": "code",
   "execution_count": 9,
   "metadata": {},
   "outputs": [
    {
     "name": "stdout",
     "output_type": "stream",
     "text": [
      "(Intercept)   Dispersão \n",
      "  3.4068801   0.2573312 \n"
     ]
    }
   ],
   "source": [
    "print(c(beta0,phi0))"
   ]
  },
  {
   "cell_type": "markdown",
   "metadata": {},
   "source": [
    "### 3.4 Executando o teste da razão de verossimilhanças"
   ]
  },
  {
   "cell_type": "markdown",
   "metadata": {},
   "source": [
    "<p style=\"text-align: justify; font-size:16px\">No caso da distribuição gama, a função de log-verossimilhança é dada por (ver a fórmula 2 no tópico 10 e o exemplo 4 no tópico 12)\n",
    "    $$l(\\boldsymbol{\\beta},\\phi)=\\phi^{-1}\\sum\\limits_{i=1}^n[\\theta_iy_i-b(\\theta_i)]+\\sum\\limits_{i=1}^nc(y_i,\\phi),$$\n",
    "onde $\\theta_i=-\\frac{1}{\\mu_i}$, $b(\\theta_i)=-\\ln(-\\theta_i)$ e $c(y_i,\\phi)=\\phi^{-1}\\ln(\\phi^{-1})-\\ln\\Gamma(\\phi^{-1})+(\\phi^{-1}-1)\\ln(y_i)$. Primeiramente, calcula-se os valores de $\\mu_i$ utilizando a função <font face=\"'Courier New'\">predict</font>. Utilizando os valores de $\\mu_i$, calcula-se os valores de $\\theta_i$ e, utilizando os valores de $\\theta_i$, calcula-se os valores de $b(\\theta_i)$. Por último, calcula-se os valores de $c(y_i,\\phi)$ e substitui-se os valores de $\\theta_i$, $b(\\theta_i)$ e $c(y_i,\\phi)$ na fórmula da função de log-verossimilhança."
   ]
  },
  {
   "cell_type": "markdown",
   "metadata": {},
   "source": [
    "<p style=\"text-align: justify;font-size: 16px\">Calculando a log-verossimilhança do modelo completo.</p>"
   ]
  },
  {
   "cell_type": "code",
   "execution_count": 10,
   "metadata": {},
   "outputs": [
    {
     "name": "stdout",
     "output_type": "stream",
     "text": [
      "[1] \"log-verossimilhança do modelo completo:  -71.5040244230622\"\n"
     ]
    }
   ],
   "source": [
    "y<-vol #Atribuindo os valores observados da resposta ao vetor y\n",
    "mu<-predict(aj,type=\"response\") #Calculando os valores de mu com base no modelo ajustado\n",
    "theta<--1/mu #Calculando os valores de theta a partir de mu\n",
    "btheta<--log(-theta) #Calculando os valores de b(theta) a partir de theta\n",
    "cyphi<-phi^(-1)*log(phi^(-1))-log(gamma(phi^(-1)))+(phi^(-1)-1)*log(y) #Calculando os valores de c(y,phi)\n",
    "l<-phi^(-1)*sum(theta*y-btheta)+sum(cyphi) #Calculando a log-verossimilhança\n",
    "l<-as.numeric(l)\n",
    "print(paste(\"log-verossimilhança do modelo completo: \",l))"
   ]
  },
  {
   "cell_type": "markdown",
   "metadata": {},
   "source": [
    "<p style=\"text-align: justify;font-size: 16px\">Calculando a log-verossimilhança do modelo sob $H_0$.</p>"
   ]
  },
  {
   "cell_type": "code",
   "execution_count": 11,
   "metadata": {},
   "outputs": [
    {
     "name": "stdout",
     "output_type": "stream",
     "text": [
      "[1] \"log-verossimilhança do modelo sob H0:  -125.726043079491\"\n"
     ]
    }
   ],
   "source": [
    "y<-vol #Atribuindo os valores observados da resposta ao vetor y\n",
    "mu0<-predict(aj0,type=\"response\") #Calculando os valores de mu com base no modelo ajustado\n",
    "theta0<--1/mu0 #Calculando os valores de theta a partir de mu\n",
    "btheta0<--log(-theta0) #Calculando os valores de b(theta) a partir de theta\n",
    "cyphi0<-phi0^(-1)*log(phi0^(-1))-log(gamma(phi0^(-1)))+(phi0^(-1)-1)*log(y) #Calculando os valores de c(y,phi)\n",
    "l0<-phi0^(-1)*sum(theta0*y-btheta0)+sum(cyphi0) #Calculando a log-verossimilhança\n",
    "l0<-as.numeric(l0)\n",
    "print(paste(\"log-verossimilhança do modelo sob H0: \",l0))"
   ]
  },
  {
   "cell_type": "markdown",
   "metadata": {},
   "source": [
    "<p style=\"text-align: justify;font-size: 16px\">Calculando a estatística do teste de da razão de verossimilhanças $T_{RV}=2\\left\\{l\\left(\\boldsymbol{\\widehat\\beta},\\hat\\phi\\right)-l\\left(\\hat\\beta^0_0,{\\hat\\phi}^0\\right)\\right\\}$.</p>"
   ]
  },
  {
   "cell_type": "code",
   "execution_count": 12,
   "metadata": {},
   "outputs": [
    {
     "name": "stdout",
     "output_type": "stream",
     "text": [
      "[1] \"Valor observado da estatística do teste:  108.444037312857\"\n"
     ]
    }
   ],
   "source": [
    "tRV<-2*(l-l0)\n",
    "print(paste(\"Valor observado da estatística do teste: \",tRV))"
   ]
  },
  {
   "cell_type": "markdown",
   "metadata": {},
   "source": [
    "<p style=\"text-align: justify;font-size: 16px\">Calculando o p-valor do teste. Sob $H_0$, a estatística $T_{RV}$ segue, aproximadamnete, distribuição $\\chi_p^2$, onde $p$ é o número de variáveis preditoras. Logo, o p-valor fica dado por $P(T_{RV}>t_{RV})=1-P(T_{RV}\\leq t_{RV})$, onde $T_{RV}\\sim\\chi_p^2$ e $t_{RV}$ é o valor observado de $T_{RV}$.</p>"
   ]
  },
  {
   "cell_type": "code",
   "execution_count": 13,
   "metadata": {},
   "outputs": [
    {
     "name": "stdout",
     "output_type": "stream",
     "text": [
      "[1] \"p-valor do teste:  0\"\n"
     ]
    }
   ],
   "source": [
    "p<-length(beta)-1 #O número de variáveis preditoras é o número de coeficientes menos 1 (excluindo o intercepto)\n",
    "pvalor<-1-pchisq(tRV,p) \n",
    "print(paste(\"p-valor do teste: \",pvalor))"
   ]
  },
  {
   "cell_type": "markdown",
   "metadata": {},
   "source": [
    "### 3.5 Executando o teste da razão de verossimilhanças usando a função ``lr.test``"
   ]
  },
  {
   "cell_type": "markdown",
   "metadata": {},
   "source": [
    "<p style=\"text-align: justify;font-size: 16px\">Carregando os pacotes necessários.</p>"
   ]
  },
  {
   "cell_type": "code",
   "execution_count": 14,
   "metadata": {},
   "outputs": [],
   "source": [
    "library(mdscore) #Contém a função lr.test\n",
    "#install.packages(\"mdscore\") #Execute esse comando para instalar o pacote mdscore, caso já não o tenha instalado"
   ]
  },
  {
   "cell_type": "markdown",
   "metadata": {},
   "source": [
    "<p style=\"text-align: justify;font-size: 16px\">A função <font face=\"'Courier New'\">lr.test</font> realiza o teste da razão de verossimilhanças para a significância global do modelo. A função recebe dois argumentos:</p>\n",
    "    <ol style=\"text-align: justify; font-size:16px\">\n",
    "        <li><font face=\"'Courier New'\">fit1</font>: modelo ajustado sob $H_0$. Saída da função <font face=\"'Courier New'\">glm</font> referente ao modelo sob $H_0$.</li>\n",
    "        <li><font face=\"'Courier New'\">fit2</font>: modelo completo ajustado. Saída da função <font face=\"'Courier New'\">glm</font> referente ao modelo completo.</li>\n",
    "    </ol>\n",
    "</p>"
   ]
  },
  {
   "cell_type": "code",
   "execution_count": 15,
   "metadata": {},
   "outputs": [
    {
     "data": {
      "text/plain": [
       "$LR\n",
       "[1] 108.4729\n",
       "\n",
       "$pvalue\n",
       "[1] 2.78873e-24\n",
       "\n",
       "attr(,\"class\")\n",
       "[1] \"lrt.test\""
      ]
     },
     "metadata": {},
     "output_type": "display_data"
    }
   ],
   "source": [
    "lr.test(aj0,aj)"
   ]
  },
  {
   "cell_type": "markdown",
   "metadata": {},
   "source": [
    "<p style=\"text-align: justify; font-size:16px\">\n",
    "O p-valor é muito pequeno, indicando a rejeição de $H_0$. Ou seja, o resultado do teste indica que há uma associação estatisticamente significativa entre o volume e ao menos uma das duas variáveis preditoras.\n",
    "</p>"
   ]
  },
  {
   "cell_type": "code",
   "execution_count": null,
   "metadata": {},
   "outputs": [],
   "source": []
  }
 ],
 "metadata": {
  "kernelspec": {
   "display_name": "R",
   "language": "R",
   "name": "ir"
  },
  "language_info": {
   "codemirror_mode": "r",
   "file_extension": ".r",
   "mimetype": "text/x-r-source",
   "name": "R",
   "pygments_lexer": "r",
   "version": "3.6.3"
  }
 },
 "nbformat": 4,
 "nbformat_minor": 2
}

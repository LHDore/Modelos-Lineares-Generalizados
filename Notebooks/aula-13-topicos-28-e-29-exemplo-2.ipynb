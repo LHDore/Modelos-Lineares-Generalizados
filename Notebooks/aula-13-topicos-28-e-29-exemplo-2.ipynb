{
 "cells": [
  {
   "cell_type": "markdown",
   "metadata": {},
   "source": [
    "<div style=\"position:relative; height:160px;\">\n",
    "<img src=\"logoDECATUFS.png\" width=\"500\" height=\"500\" style=\"position:absolute; left:-8px;\">\n",
    "</div>"
   ]
  },
  {
   "cell_type": "markdown",
   "metadata": {},
   "source": [
    "<div style=\"text-align:center;font-size:17px; white-space:pre;margin-top:-35px\">\n",
    "        <h3>             Modelos Lineares Generalizados</h3>\n",
    "        Disciplina ofertada pelo DECAT/UFS\n",
    "        Código: ESTAT0092\n",
    "        Nível: Graduação\n",
    "        Carga horária: 60h\n",
    "        Período: 2020.2\n",
    "        Professor responsável e ministrante: Luiz Henrique Dore\n",
    "        <h3>            Aula 13: avaliação da significância individual dos coeficientes de regressão</h3>\n",
    "</div>"
   ]
  },
  {
   "cell_type": "markdown",
   "metadata": {},
   "source": [
    "# Exemplo 2"
   ]
  },
  {
   "cell_type": "markdown",
   "metadata": {},
   "source": [
    "<p style=\"text-align: justify; font-size:16px\">\n",
    "Considere o conjunto de dados <b>trees.dat</b>, descrito no exemplo 4 da aula 2. Os objetivos são os seguintes: ajustar um modelo de regressão gama, com ligação logarítmica, no qual a variável resposta é o volume e as variáveis preditoras são a altura e o diâmetro; executar o teste de Wald, ao nível de 5% de significância, para avaliar a significância individual dos coeficientes de regressão; calcular o intervalo de confiança, com 95% de confiança, para cada um dos coeficientes de regressão.\n",
    "<p>"
   ]
  },
  {
   "cell_type": "markdown",
   "metadata": {},
   "source": [
    "### 2.1 Leitura e visualização dos dados"
   ]
  },
  {
   "cell_type": "code",
   "execution_count": 1,
   "metadata": {},
   "outputs": [
    {
     "data": {
      "text/html": [
       "<table>\n",
       "<caption>A data.frame: 6 × 3</caption>\n",
       "<thead>\n",
       "\t<tr><th></th><th scope=col>Diametro</th><th scope=col>Altura</th><th scope=col>Volume</th></tr>\n",
       "\t<tr><th></th><th scope=col>&lt;dbl&gt;</th><th scope=col>&lt;int&gt;</th><th scope=col>&lt;dbl&gt;</th></tr>\n",
       "</thead>\n",
       "<tbody>\n",
       "\t<tr><th scope=row>1</th><td> 8.3</td><td>70</td><td>10.3</td></tr>\n",
       "\t<tr><th scope=row>2</th><td> 8.6</td><td>65</td><td>10.3</td></tr>\n",
       "\t<tr><th scope=row>3</th><td> 8.8</td><td>63</td><td>10.2</td></tr>\n",
       "\t<tr><th scope=row>4</th><td>10.5</td><td>72</td><td>16.4</td></tr>\n",
       "\t<tr><th scope=row>5</th><td>10.7</td><td>81</td><td>18.8</td></tr>\n",
       "\t<tr><th scope=row>6</th><td>10.8</td><td>83</td><td>19.7</td></tr>\n",
       "</tbody>\n",
       "</table>\n"
      ],
      "text/latex": [
       "A data.frame: 6 × 3\n",
       "\\begin{tabular}{r|lll}\n",
       "  & Diametro & Altura & Volume\\\\\n",
       "  & <dbl> & <int> & <dbl>\\\\\n",
       "\\hline\n",
       "\t1 &  8.3 & 70 & 10.3\\\\\n",
       "\t2 &  8.6 & 65 & 10.3\\\\\n",
       "\t3 &  8.8 & 63 & 10.2\\\\\n",
       "\t4 & 10.5 & 72 & 16.4\\\\\n",
       "\t5 & 10.7 & 81 & 18.8\\\\\n",
       "\t6 & 10.8 & 83 & 19.7\\\\\n",
       "\\end{tabular}\n"
      ],
      "text/markdown": [
       "\n",
       "A data.frame: 6 × 3\n",
       "\n",
       "| <!--/--> | Diametro &lt;dbl&gt; | Altura &lt;int&gt; | Volume &lt;dbl&gt; |\n",
       "|---|---|---|---|\n",
       "| 1 |  8.3 | 70 | 10.3 |\n",
       "| 2 |  8.6 | 65 | 10.3 |\n",
       "| 3 |  8.8 | 63 | 10.2 |\n",
       "| 4 | 10.5 | 72 | 16.4 |\n",
       "| 5 | 10.7 | 81 | 18.8 |\n",
       "| 6 | 10.8 | 83 | 19.7 |\n",
       "\n"
      ],
      "text/plain": [
       "  Diametro Altura Volume\n",
       "1  8.3     70     10.3  \n",
       "2  8.6     65     10.3  \n",
       "3  8.8     63     10.2  \n",
       "4 10.5     72     16.4  \n",
       "5 10.7     81     18.8  \n",
       "6 10.8     83     19.7  "
      ]
     },
     "metadata": {},
     "output_type": "display_data"
    }
   ],
   "source": [
    "dados<-read.table(\"/Dados/Google_Drive_UFS/Aulas/2020_2/MLG/Dados/trees.dat\",header=TRUE)\n",
    "n<-dim(dados)[1] #Número de observações\n",
    "head(dados) #Visualizando as primeiras observações"
   ]
  },
  {
   "cell_type": "code",
   "execution_count": 2,
   "metadata": {},
   "outputs": [],
   "source": [
    "diam<-dados[,1]\n",
    "alt<-dados[,2]\n",
    "vol<-dados[,3]"
   ]
  },
  {
   "cell_type": "markdown",
   "metadata": {},
   "source": [
    "### 2.2 Formulação do modelo"
   ]
  },
  {
   "cell_type": "markdown",
   "metadata": {},
   "source": [
    "<p style=\"text-align: justify; font-size:15px\">\n",
    "    <ol style=\"font-size:16px\">\n",
    "        <li>$Volume\\sim Gama(a,b)$;</li>\n",
    "        <li>$\\eta=\\beta_0+\\beta_1\\cdot Altura+\\beta_2\\cdot Diâmetro$;</li>\n",
    "        <li>$\\ln\\left(\\mu\\right)=\\eta$.</li>\n",
    "    </ol>\n",
    "</p>"
   ]
  },
  {
   "cell_type": "markdown",
   "metadata": {},
   "source": [
    "### 2.3 Estimação dos parâmetros por máxima verossimilhança usando as funções ``glm`` e ``gamma.shape``."
   ]
  },
  {
   "cell_type": "markdown",
   "metadata": {},
   "source": [
    "<p style=\"text-align: justify;font-size: 16px\">Carregando os pacotes necessários.</p>"
   ]
  },
  {
   "cell_type": "code",
   "execution_count": 18,
   "metadata": {},
   "outputs": [],
   "source": [
    "library(MASS) #Contém a função gamma.shape"
   ]
  },
  {
   "cell_type": "markdown",
   "metadata": {},
   "source": [
    "<p style=\"text-align: justify;font-size: 16px\">Estimação dos coeficientes de regressão.</p>"
   ]
  },
  {
   "cell_type": "code",
   "execution_count": 19,
   "metadata": {},
   "outputs": [],
   "source": [
    "aj<-glm(formula=Volume~Diametro+Altura,family=Gamma(link=\"log\"),data=dados)\n",
    "beta<-aj$coefficients"
   ]
  },
  {
   "cell_type": "markdown",
   "metadata": {},
   "source": [
    "<p style=\"text-align: justify;font-size: 16px\">Estimação do parâmetro de dispersão.</p>"
   ]
  },
  {
   "cell_type": "code",
   "execution_count": 20,
   "metadata": {},
   "outputs": [],
   "source": [
    "ajPhi<-gamma.shape(aj)\n",
    "alpha<-ajPhi$alpha\n",
    "phi<-1/alpha\n",
    "names(phi)<-\"Dispersão\""
   ]
  },
  {
   "cell_type": "markdown",
   "metadata": {},
   "source": [
    "<p style=\"text-align: justify;font-size: 16px\">Visualizando as estimativas dos parâmetros.</p>"
   ]
  },
  {
   "cell_type": "code",
   "execution_count": 21,
   "metadata": {},
   "outputs": [
    {
     "name": "stdout",
     "output_type": "stream",
     "text": [
      "(Intercept)    Diametro      Altura   Dispersão \n",
      "0.092304581 0.145281192 0.016577883 0.008455011 \n"
     ]
    }
   ],
   "source": [
    "print(c(beta,phi))"
   ]
  },
  {
   "cell_type": "markdown",
   "metadata": {},
   "source": [
    "### 2.4 Executando o teste de Wald e calculando os intervalos de confiança manualmente"
   ]
  },
  {
   "cell_type": "markdown",
   "metadata": {},
   "source": [
    "<p style=\"text-align: justify; font-size:16px\">Gerando o vetor dos valores observados da resposta e a matriz design.</p>"
   ]
  },
  {
   "cell_type": "code",
   "execution_count": 7,
   "metadata": {},
   "outputs": [
    {
     "data": {
      "text/html": [
       "<table>\n",
       "<caption>A matrix: 6 × 3 of type dbl</caption>\n",
       "<thead>\n",
       "\t<tr><th scope=col></th><th scope=col>Diâmetro</th><th scope=col>Altura</th></tr>\n",
       "</thead>\n",
       "<tbody>\n",
       "\t<tr><td>1</td><td> 8.3</td><td>70</td></tr>\n",
       "\t<tr><td>1</td><td> 8.6</td><td>65</td></tr>\n",
       "\t<tr><td>1</td><td> 8.8</td><td>63</td></tr>\n",
       "\t<tr><td>1</td><td>10.5</td><td>72</td></tr>\n",
       "\t<tr><td>1</td><td>10.7</td><td>81</td></tr>\n",
       "\t<tr><td>1</td><td>10.8</td><td>83</td></tr>\n",
       "</tbody>\n",
       "</table>\n"
      ],
      "text/latex": [
       "A matrix: 6 × 3 of type dbl\n",
       "\\begin{tabular}{lll}\n",
       "  & Diâmetro & Altura\\\\\n",
       "\\hline\n",
       "\t 1 &  8.3 & 70\\\\\n",
       "\t 1 &  8.6 & 65\\\\\n",
       "\t 1 &  8.8 & 63\\\\\n",
       "\t 1 & 10.5 & 72\\\\\n",
       "\t 1 & 10.7 & 81\\\\\n",
       "\t 1 & 10.8 & 83\\\\\n",
       "\\end{tabular}\n"
      ],
      "text/markdown": [
       "\n",
       "A matrix: 6 × 3 of type dbl\n",
       "\n",
       "| <!----> | Diâmetro | Altura |\n",
       "|---|---|---|\n",
       "| 1 |  8.3 | 70 |\n",
       "| 1 |  8.6 | 65 |\n",
       "| 1 |  8.8 | 63 |\n",
       "| 1 | 10.5 | 72 |\n",
       "| 1 | 10.7 | 81 |\n",
       "| 1 | 10.8 | 83 |\n",
       "\n"
      ],
      "text/plain": [
       "       Diâmetro Altura\n",
       "[1,] 1  8.3     70    \n",
       "[2,] 1  8.6     65    \n",
       "[3,] 1  8.8     63    \n",
       "[4,] 1 10.5     72    \n",
       "[5,] 1 10.7     81    \n",
       "[6,] 1 10.8     83    "
      ]
     },
     "metadata": {},
     "output_type": "display_data"
    }
   ],
   "source": [
    "y<-vol\n",
    "X<-cbind(diam,alt)\n",
    "X<-cbind(1,X)\n",
    "colnames(X)<-c(\"\",\"Diâmetro\",\"Altura\")\n",
    "head(X)"
   ]
  },
  {
   "cell_type": "markdown",
   "metadata": {},
   "source": [
    "<p style=\"text-align: justify; font-size:16px\">A estatística de Wald é $T_{W_j}=\\frac{\\hat\\beta_j}{\\sqrt{\\widehat{Var(\\beta_j)}}}$, onde $\\widehat{Var(\\hat\\beta_j)}$ é o elemento $j+1$ da diagonal de $\\boldsymbol{K}^{\\ \\ \\ -1}_{\\boldsymbol{\\widehat\\beta}\\boldsymbol{\\widehat\\beta}}$. No caso da distribuição Gama com ligação logarítmica, pode-se mostrar que $\\boldsymbol{K}_{\\boldsymbol{\\beta}\\boldsymbol{\\beta}}=\\phi^{-1}X^TX$ (ver exemplo 4 da aula 5). Logo, $\\boldsymbol{K}^{\\ \\ \\ -1}_{\\boldsymbol{\\widehat\\beta}\\boldsymbol{\\widehat\\beta}}=\\hat\\phi (X^TX)^{-1}$.</p>"
   ]
  },
  {
   "cell_type": "markdown",
   "metadata": {},
   "source": [
    "<p style=\"text-align: justify;font-size: 16px\">Calculando $Var(\\beta_j)$, para cada $j\\in\\{0,1,\\cdots,p\\}$. O vetor <font face=\"'Courier New'\">betaVar</font> contém as variâncias calculadas.</p>"
   ]
  },
  {
   "cell_type": "code",
   "execution_count": 8,
   "metadata": {},
   "outputs": [],
   "source": [
    "Kbb<-phi^{-1}*t(X)%*%X #Calcuando Kbb\n",
    "KbbInv<-solve(Kbb) #Calcuando a inversa de Kbb\n",
    "betaVar<-diag(KbbInv) #Recolhendo a diagonal da inversa de Kbb, cujos valores correspondem às variâncias"
   ]
  },
  {
   "cell_type": "markdown",
   "metadata": {},
   "source": [
    "<p style=\"text-align: justify;font-size: 16px\">Visualizando os valores de $Var(\\beta_j)$, para cada $j\\in\\{0,1,\\cdots,p\\}$.</p>"
   ]
  },
  {
   "cell_type": "code",
   "execution_count": 9,
   "metadata": {},
   "outputs": [
    {
     "name": "stdout",
     "output_type": "stream",
     "text": [
      "                 Diâmetro       Altura \n",
      "4.186873e-02 3.918490e-05 9.504668e-06 \n"
     ]
    }
   ],
   "source": [
    "print(betaVar)"
   ]
  },
  {
   "cell_type": "markdown",
   "metadata": {},
   "source": [
    "<p style=\"text-align: justify;font-size: 16px\">Calculando e visualizando os valores de $T_{W_j}$, para cada $j\\in\\{0,1,\\cdots,p\\}$.</p>"
   ]
  },
  {
   "cell_type": "code",
   "execution_count": 10,
   "metadata": {},
   "outputs": [
    {
     "name": "stdout",
     "output_type": "stream",
     "text": [
      "(Intercept)    Diametro      Altura \n",
      "  0.4511057  23.2086583   5.3772547 \n"
     ]
    }
   ],
   "source": [
    "tw<-beta/sqrt(betaVar)\n",
    "print(tw)"
   ]
  },
  {
   "cell_type": "markdown",
   "metadata": {},
   "source": [
    "<p style=\"text-align: justify;font-size: 16px\">Calculando e visualizando os p-valores do teste de Wald para avaliação da significância individual de $\\beta_j$, $j\\in\\{0,1,\\cdots,p\\}$.</p>"
   ]
  },
  {
   "cell_type": "code",
   "execution_count": 11,
   "metadata": {},
   "outputs": [
    {
     "name": "stdout",
     "output_type": "stream",
     "text": [
      " (Intercept)     Diametro       Altura \n",
      "6.519133e-01 0.000000e+00 7.563013e-08 \n"
     ]
    }
   ],
   "source": [
    "pvalor<-2*(1-pnorm(abs(tw)))\n",
    "print(pvalor)"
   ]
  },
  {
   "cell_type": "markdown",
   "metadata": {},
   "source": [
    "<p style=\"text-align: justify;font-size: 16px\">Tanto o p-valor correspondente ao coeficiente da variável <b>Diâmetro</b>, quanto o p-valor correspondente ao coeficiente da variável <b>Altura</b> são menores do que 5%. Portanto, ao nível de 5% significância, o teste de Wald indica que ambos os coeficientes são significativamente diferentes de zero.</p>"
   ]
  },
  {
   "cell_type": "markdown",
   "metadata": {},
   "source": [
    "<p style=\"text-align: justify;font-size: 16px\">Calculando e visualizando os intervalos de confiança, de acordo com a fórmula\n",
    "$$IC(\\beta_j;1-\\alpha)=\\left(\\hat\\beta_j-z_{\\left(1-\\frac{\\alpha}{2}\\right)}\\sqrt{\\widehat{Var(\\hat\\beta_j)}};\\ \\hat\\beta_j+z_{\\left(1-\\frac{\\alpha}{2}\\right)}\\sqrt{\\widehat{Var(\\hat\\beta_j)}}\\right).$$\n",
    "</p>"
   ]
  },
  {
   "cell_type": "code",
   "execution_count": 12,
   "metadata": {},
   "outputs": [
    {
     "name": "stdout",
     "output_type": "stream",
     "text": [
      "                   [,1]       [,2]\n",
      "(Intercept) -0.30874032 0.49334948\n",
      "Diametro     0.13301224 0.15755014\n",
      "Altura       0.01053538 0.02262038\n"
     ]
    }
   ],
   "source": [
    "alpha=0.05 #Valor de alpha correspondente ao intervalo com nível de confiança 1-alpha\n",
    "z<-qnorm(1-alpha/2) #Quantil de ordem 1-alpha/2 da distribuição N(0,1)\n",
    "IC<-cbind(beta-z*sqrt(betaVar),beta+z*sqrt(betaVar)) #Calculando os intervlos de confiança.\n",
    "print(IC)"
   ]
  },
  {
   "cell_type": "markdown",
   "metadata": {},
   "source": [
    "<p style=\"text-align: justify;font-size: 16px\">Os intervalos de confiança, com 95% de confiança, dos coeficientes das variáveis <b>Diâmetro</b> e <b>Altura</b> não contêm o zero. Pode-se concluir que, ao nível de 5% significância, o teste de Wald indica que ambos os coeficientes são significativamente diferentes de zero.</p>"
   ]
  },
  {
   "cell_type": "markdown",
   "metadata": {},
   "source": [
    "### 2.5 Executando o teste de Wald utilizando a função ``summary``."
   ]
  },
  {
   "cell_type": "markdown",
   "metadata": {},
   "source": [
    "<p style=\"text-align: justify;font-size: 16px\">A função <font face=\"'Courier New'\">summary</font> realiza o teste de Wald para avaliação da significância individual dos coeficientes de regressão. Os dois principais argumentos da função são os seguintes:</p>\n",
    "    <ol style=\"text-align: justify; font-size:16px\">\n",
    "        <li><font face=\"'Courier New'\">object</font>: modelo ajustado. Saída da função <font face=\"'Courier New'\">glm</font>.</li>\n",
    "        <li><font face=\"'Courier New'\">phi</font>: estimativa de máxima veroossimilhança de $\\phi$.</li>\n",
    "    </ol>\n",
    "</p>"
   ]
  },
  {
   "cell_type": "code",
   "execution_count": 13,
   "metadata": {},
   "outputs": [
    {
     "data": {
      "text/plain": [
       "\n",
       "Call:\n",
       "glm(formula = Volume ~ Diametro + Altura, family = Gamma(link = \"log\"), \n",
       "    data = dados)\n",
       "\n",
       "Deviance Residuals: \n",
       "     Min        1Q    Median        3Q       Max  \n",
       "-0.17812  -0.08826  -0.01317   0.05635   0.17091  \n",
       "\n",
       "Coefficients:\n",
       "            Estimate Std. Error z value Pr(>|z|)    \n",
       "(Intercept) 0.092305   0.204619   0.451    0.652    \n",
       "Diametro    0.145281   0.006260  23.209  < 2e-16 ***\n",
       "Altura      0.016578   0.003083   5.377 7.56e-08 ***\n",
       "---\n",
       "Signif. codes:  0 ‘***’ 0.001 ‘**’ 0.01 ‘*’ 0.05 ‘.’ 0.1 ‘ ’ 1\n",
       "\n",
       "(Dispersion parameter for Gamma family taken to be 0.008455011)\n",
       "\n",
       "    Null deviance: 8.31720  on 30  degrees of freedom\n",
       "Residual deviance: 0.26247  on 28  degrees of freedom\n",
       "AIC: 151.01\n",
       "\n",
       "Number of Fisher Scoring iterations: 4\n"
      ]
     },
     "metadata": {},
     "output_type": "display_data"
    }
   ],
   "source": [
    "summary(object=aj,dispersion=phi)"
   ]
  },
  {
   "cell_type": "markdown",
   "metadata": {},
   "source": [
    "<p style=\"text-align: justify;font-size: 16px\">Para cada $j\\in\\{0,1,\\cdots,p\\}$, tem-se que\n",
    "        <ol style=\"text-align: justify; font-size:16px\">\n",
    "        <li>a coluna <font face=\"'Courier New'\">Estimate</font> contém o valor de $\\hat\\beta_j$;</li>\n",
    "        <li>a coluna <font face=\"'Courier New'\">Std. Error</font> contém o valor de $\\widehat{Var(\\hat\\beta_j)}$;</li>\n",
    "            <li>a coluna <font face=\"'Courier New'\">z value</font> contém o valor de $t_{W_j}$;</li>\n",
    "            <li>a coluna <font face=\"'Courier New'\">Pr(>|z|)</font> contém o p-valor do teste de Wald para $\\beta_j$.</li>\n",
    "    </ol>\n",
    "</p>"
   ]
  },
  {
   "cell_type": "markdown",
   "metadata": {},
   "source": [
    "<p style=\"text-align: justify;font-size: 16px\">Tanto o p-valor correspondente ao coeficiente da variável <b>Diâmetro</b>, quanto o p-valor correspondente ao coeficiente da variável <b>Altura</b> são menores do que 5%. Portanto, ao nível de 5% significância, o teste de Wald indica que ambos os coeficientes são significativamente diferentes de zero.</p>"
   ]
  },
  {
   "cell_type": "markdown",
   "metadata": {},
   "source": [
    "### 2.6 Calculando os intervalos de confiança utilizando a função ``confint.default``."
   ]
  },
  {
   "cell_type": "markdown",
   "metadata": {},
   "source": [
    "<p style=\"text-align: justify;font-size: 16px\">A função <font face=\"'Courier New'\">confint.default</font> calcula os intervalos de confiança para os coeficientes de regressão, aproximando a distribuição da quantidade $\\frac{\\hat\\beta_j-\\beta}{\\widehat{Var(\\hat\\beta_j)}}$ pela distribuição $N(0,1)$. Os dois principais argumentos dessa função são:</p>\n",
    "    <ol style=\"text-align: justify; font-size:16px\">\n",
    "        <li><font face=\"'Courier New'\">object</font>: modelo ajustado. Saída da função <font face=\"'Courier New'\">glm</font>.</li>\n",
    "        <li><font face=\"'Courier New'\">level</font>: confiança do intervalo. Valor de $1-\\alpha$.</li>\n",
    "    </ol>\n",
    "</p>"
   ]
  },
  {
   "cell_type": "code",
   "execution_count": 14,
   "metadata": {},
   "outputs": [
    {
     "data": {
      "text/html": [
       "<table>\n",
       "<caption>A matrix: 3 × 2 of type dbl</caption>\n",
       "<thead>\n",
       "\t<tr><th></th><th scope=col>2.5 %</th><th scope=col>97.5 %</th></tr>\n",
       "</thead>\n",
       "<tbody>\n",
       "\t<tr><th scope=row>(Intercept)</th><td>-0.33078822</td><td>0.51539738</td></tr>\n",
       "\t<tr><th scope=row>Diametro</th><td> 0.13233774</td><td>0.15822464</td></tr>\n",
       "\t<tr><th scope=row>Altura</th><td> 0.01020319</td><td>0.02295258</td></tr>\n",
       "</tbody>\n",
       "</table>\n"
      ],
      "text/latex": [
       "A matrix: 3 × 2 of type dbl\n",
       "\\begin{tabular}{r|ll}\n",
       "  & 2.5 \\% & 97.5 \\%\\\\\n",
       "\\hline\n",
       "\t(Intercept) & -0.33078822 & 0.51539738\\\\\n",
       "\tDiametro &  0.13233774 & 0.15822464\\\\\n",
       "\tAltura &  0.01020319 & 0.02295258\\\\\n",
       "\\end{tabular}\n"
      ],
      "text/markdown": [
       "\n",
       "A matrix: 3 × 2 of type dbl\n",
       "\n",
       "| <!--/--> | 2.5 % | 97.5 % |\n",
       "|---|---|---|\n",
       "| (Intercept) | -0.33078822 | 0.51539738 |\n",
       "| Diametro |  0.13233774 | 0.15822464 |\n",
       "| Altura |  0.01020319 | 0.02295258 |\n",
       "\n"
      ],
      "text/plain": [
       "            2.5 %       97.5 %    \n",
       "(Intercept) -0.33078822 0.51539738\n",
       "Diametro     0.13233774 0.15822464\n",
       "Altura       0.01020319 0.02295258"
      ]
     },
     "metadata": {},
     "output_type": "display_data"
    }
   ],
   "source": [
    "confint.default(object=aj,level=0.95)"
   ]
  },
  {
   "cell_type": "markdown",
   "metadata": {},
   "source": [
    "<p style=\"text-align: justify;font-size: 16px\">Os intervalos de confiança, com 95% de confiança, dos coeficientes das variáveis <b>Diâmetro</b> e <b>Altura</b> não contêm o zero. Pode-se concluir que, ao nível de 5% significância, o teste de Wald indica que ambos os coeficientes são significativamente diferentes de zero.</p>"
   ]
  },
  {
   "cell_type": "markdown",
   "metadata": {},
   "source": [
    "<p style=\"text-align: justify;font-size: 16px\">Os intervalos acima são diferentes daqueles calculados manualmente, na seção 2.4 desse notebook. Isso se deve ao fato de que a função <font face=\"'Courier New'\">confint.default</font> usa o estimador de Pearson para $\\phi$, ao invés do estimador de máxima verossimilhança (ver a fórmula 41, no tópico 16 da aula 6). Portanto, para obter, manualmente, os intervalos de confiança acima, deve-se realizar o procedimento descrito na seção 2.4 desse notebook, com a estimativa de Pearson de $\\phi$ no lugar da estimativa de máxima verossimilhança.</p>"
   ]
  },
  {
   "cell_type": "markdown",
   "metadata": {},
   "source": [
    "<p style=\"text-align: justify;font-size: 16px\">Para obter a estimativa de Pearson de $\\phi$, utilize o comando <font face=\"'Courier New'\">summary(object)&#36;dispersion</font>, no qual o argumento <font face=\"'Courier New'\">object</font> é o modelo ajustado, ou seja, é a saída da função <font face=\"'Courier New'\">glm</font>.</p>"
   ]
  },
  {
   "cell_type": "code",
   "execution_count": 15,
   "metadata": {},
   "outputs": [
    {
     "name": "stdout",
     "output_type": "stream",
     "text": [
      "[1] 0.009410213\n"
     ]
    }
   ],
   "source": [
    "phi<-summary(aj)$dispersion\n",
    "print(phi)"
   ]
  },
  {
   "cell_type": "markdown",
   "metadata": {},
   "source": [
    "<p style=\"text-align: justify;font-size: 16px\">Agora, realize o procedimento descrito na seção 2.4 desse notebook, com a estimativa de Pearson de $\\phi$ no lugar da estimativa de máxima verossimilhança.</p>"
   ]
  },
  {
   "cell_type": "markdown",
   "metadata": {},
   "source": [
    "<p style=\"text-align: justify;font-size: 16px\">Calculando $Var(\\beta_j)$, para cada $j\\in\\{0,1,\\cdots,p\\}$. O vetor <font face=\"'Courier New'\">betaVar</font> contém as variâncias calculadas.</p>"
   ]
  },
  {
   "cell_type": "code",
   "execution_count": 16,
   "metadata": {},
   "outputs": [],
   "source": [
    "Kbb<-phi^{-1}*t(X)%*%X #Calcuando Kbb\n",
    "KbbInv<-solve(Kbb) #Calcuando a inversa de Kbb\n",
    "betaVar<-diag(KbbInv) #Recolhendo a diagonal da inversa de Kbb, cujos valores correspondem às variâncias"
   ]
  },
  {
   "cell_type": "markdown",
   "metadata": {},
   "source": [
    "<p style=\"text-align: justify;font-size: 16px\">Calculando e visualizando os intervalos de confiança. Os intervalos calculados são armazenados na matriz <font face=\"'Courier New'\">IC</font>.</p>"
   ]
  },
  {
   "cell_type": "code",
   "execution_count": 17,
   "metadata": {},
   "outputs": [
    {
     "name": "stdout",
     "output_type": "stream",
     "text": [
      "                   [,1]       [,2]\n",
      "(Intercept) -0.33078822 0.51539738\n",
      "Diametro     0.13233774 0.15822464\n",
      "Altura       0.01020319 0.02295258\n"
     ]
    }
   ],
   "source": [
    "alpha=0.05 #Valor de alpha correspondente ao intervalo com nível de confiança 1-alpha\n",
    "z<-qnorm(1-alpha/2) #Quantil de ordem 1-alpha/2 da distribuição N(0,1)\n",
    "IC<-cbind(beta-z*sqrt(betaVar),beta+z*sqrt(betaVar)) #Calculando os intervlos de confiança.\n",
    "print(IC)"
   ]
  },
  {
   "cell_type": "code",
   "execution_count": null,
   "metadata": {},
   "outputs": [],
   "source": []
  }
 ],
 "metadata": {
  "kernelspec": {
   "display_name": "R",
   "language": "R",
   "name": "ir"
  },
  "language_info": {
   "codemirror_mode": "r",
   "file_extension": ".r",
   "mimetype": "text/x-r-source",
   "name": "R",
   "pygments_lexer": "r",
   "version": "3.6.3"
  }
 },
 "nbformat": 4,
 "nbformat_minor": 2
}

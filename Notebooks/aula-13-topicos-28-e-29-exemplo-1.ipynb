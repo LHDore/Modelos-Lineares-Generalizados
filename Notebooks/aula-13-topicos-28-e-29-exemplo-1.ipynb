{
 "cells": [
  {
   "cell_type": "markdown",
   "metadata": {},
   "source": [
    "<div style=\"position:relative; height:160px;\">\n",
    "<img src=\"logoDECATUFS.png\" width=\"500\" height=\"500\" style=\"position:absolute; left:-8px;\">\n",
    "</div>"
   ]
  },
  {
   "cell_type": "markdown",
   "metadata": {},
   "source": [
    "<div style=\"text-align:center;font-size:17px; white-space:pre;margin-top:-35px\">\n",
    "        <h3>             Modelos Lineares Generalizados</h3>\n",
    "        Disciplina ofertada pelo DECAT/UFS\n",
    "        Código: ESTAT0092\n",
    "        Nível: Graduação\n",
    "        Carga horária: 60h\n",
    "        Período: 2020.2\n",
    "        Professor responsável e ministrante: Luiz Henrique Dore\n",
    "        <h3>            Aula 13: avaliação da significância individual dos coeficientes de regressão</h3>\n",
    "</div>"
   ]
  },
  {
   "cell_type": "markdown",
   "metadata": {},
   "source": [
    "# Exemplo 1"
   ]
  },
  {
   "cell_type": "markdown",
   "metadata": {},
   "source": [
    "<p style=\"text-align: justify; font-size:16px\">\n",
    "Considere o conjunto de dados <b>store.dat</b>, descrito no exemplo 2 da aula 2. Os objetivos são os seguintes: ajustar um modelo de regressão Poisson, no qual a variável resposta é o número de clientes e as preditoras são a distância ao concorrente mais próximo e a distância à loja; executar o teste de Wald, ao nível de 5% de significância, para avaliar a significância individual dos coeficientes de regressão; calcular o intervalo de confiança, com 95% de confiança, para cada um dos coeficientes de regressão.\n",
    "<p>"
   ]
  },
  {
   "cell_type": "markdown",
   "metadata": {},
   "source": [
    "### 1.1 Leitura e visualização dos dados"
   ]
  },
  {
   "cell_type": "code",
   "execution_count": 1,
   "metadata": {},
   "outputs": [
    {
     "data": {
      "text/html": [
       "<table>\n",
       "<caption>A data.frame: 6 × 6</caption>\n",
       "<thead>\n",
       "\t<tr><th></th><th scope=col>numClientes</th><th scope=col>numDom</th><th scope=col>rendaMedia</th><th scope=col>idadeDom</th><th scope=col>distConc</th><th scope=col>distLoja</th></tr>\n",
       "\t<tr><th></th><th scope=col>&lt;int&gt;</th><th scope=col>&lt;int&gt;</th><th scope=col>&lt;int&gt;</th><th scope=col>&lt;int&gt;</th><th scope=col>&lt;dbl&gt;</th><th scope=col>&lt;dbl&gt;</th></tr>\n",
       "</thead>\n",
       "<tbody>\n",
       "\t<tr><th scope=row>1</th><td> 9</td><td>606</td><td>41393</td><td> 3</td><td>3.04</td><td>6.32</td></tr>\n",
       "\t<tr><th scope=row>2</th><td> 6</td><td>641</td><td>23635</td><td>18</td><td>1.95</td><td>8.89</td></tr>\n",
       "\t<tr><th scope=row>3</th><td>28</td><td>505</td><td>55475</td><td>27</td><td>6.54</td><td>2.05</td></tr>\n",
       "\t<tr><th scope=row>4</th><td>11</td><td>866</td><td>64646</td><td>31</td><td>1.67</td><td>5.81</td></tr>\n",
       "\t<tr><th scope=row>5</th><td> 4</td><td>599</td><td>31972</td><td> 7</td><td>0.72</td><td>8.11</td></tr>\n",
       "\t<tr><th scope=row>6</th><td> 4</td><td>520</td><td>41755</td><td>23</td><td>2.24</td><td>6.81</td></tr>\n",
       "</tbody>\n",
       "</table>\n"
      ],
      "text/latex": [
       "A data.frame: 6 × 6\n",
       "\\begin{tabular}{r|llllll}\n",
       "  & numClientes & numDom & rendaMedia & idadeDom & distConc & distLoja\\\\\n",
       "  & <int> & <int> & <int> & <int> & <dbl> & <dbl>\\\\\n",
       "\\hline\n",
       "\t1 &  9 & 606 & 41393 &  3 & 3.04 & 6.32\\\\\n",
       "\t2 &  6 & 641 & 23635 & 18 & 1.95 & 8.89\\\\\n",
       "\t3 & 28 & 505 & 55475 & 27 & 6.54 & 2.05\\\\\n",
       "\t4 & 11 & 866 & 64646 & 31 & 1.67 & 5.81\\\\\n",
       "\t5 &  4 & 599 & 31972 &  7 & 0.72 & 8.11\\\\\n",
       "\t6 &  4 & 520 & 41755 & 23 & 2.24 & 6.81\\\\\n",
       "\\end{tabular}\n"
      ],
      "text/markdown": [
       "\n",
       "A data.frame: 6 × 6\n",
       "\n",
       "| <!--/--> | numClientes &lt;int&gt; | numDom &lt;int&gt; | rendaMedia &lt;int&gt; | idadeDom &lt;int&gt; | distConc &lt;dbl&gt; | distLoja &lt;dbl&gt; |\n",
       "|---|---|---|---|---|---|---|\n",
       "| 1 |  9 | 606 | 41393 |  3 | 3.04 | 6.32 |\n",
       "| 2 |  6 | 641 | 23635 | 18 | 1.95 | 8.89 |\n",
       "| 3 | 28 | 505 | 55475 | 27 | 6.54 | 2.05 |\n",
       "| 4 | 11 | 866 | 64646 | 31 | 1.67 | 5.81 |\n",
       "| 5 |  4 | 599 | 31972 |  7 | 0.72 | 8.11 |\n",
       "| 6 |  4 | 520 | 41755 | 23 | 2.24 | 6.81 |\n",
       "\n"
      ],
      "text/plain": [
       "  numClientes numDom rendaMedia idadeDom distConc distLoja\n",
       "1  9          606    41393       3       3.04     6.32    \n",
       "2  6          641    23635      18       1.95     8.89    \n",
       "3 28          505    55475      27       6.54     2.05    \n",
       "4 11          866    64646      31       1.67     5.81    \n",
       "5  4          599    31972       7       0.72     8.11    \n",
       "6  4          520    41755      23       2.24     6.81    "
      ]
     },
     "metadata": {},
     "output_type": "display_data"
    }
   ],
   "source": [
    "dados<-read.table(\"/Dados/Google_Drive_UFS/Aulas/2020_2/MLG/Dados/store.dat\",header=TRUE)\n",
    "n<-dim(dados)[1] #Número de observações\n",
    "head(dados) #Visualizando as primeiras observações"
   ]
  },
  {
   "cell_type": "code",
   "execution_count": 2,
   "metadata": {},
   "outputs": [],
   "source": [
    "numClientes<-dados[,\"numClientes\"]\n",
    "distConc<-dados[,\"distConc\"]\n",
    "distLoja<-dados[,\"distLoja\"]"
   ]
  },
  {
   "cell_type": "markdown",
   "metadata": {},
   "source": [
    "### 1.2 Formulação do modelo"
   ]
  },
  {
   "cell_type": "markdown",
   "metadata": {},
   "source": [
    "<p style=\"text-align: justify; font-size:15px\">\n",
    "    <ol style=\"font-size:16px\">\n",
    "        <li>$numClientes\\sim Poisson(\\mu)$;</li>\n",
    "        <li>$\\eta=\\beta_0+\\beta_1\\cdot distConc+\\beta_2\\cdot distLoja$;</li>\n",
    "        <li>$\\ln(\\mu)=\\eta$.</li>\n",
    "    </ol>\n",
    "</p>"
   ]
  },
  {
   "cell_type": "markdown",
   "metadata": {},
   "source": [
    "### 1.3 Estimação dos parâmetros por máxima verossimilhança usando a função ``glm``."
   ]
  },
  {
   "cell_type": "markdown",
   "metadata": {},
   "source": [
    "<p style=\"text-align: justify;font-size: 16px\">Estimação dos coeficientes de regressão.</p>"
   ]
  },
  {
   "cell_type": "code",
   "execution_count": 3,
   "metadata": {},
   "outputs": [],
   "source": [
    "aj<-glm(formula=numClientes~distConc+distLoja,family=poisson(link=\"log\"),data=dados)\n",
    "beta<-aj$coefficients"
   ]
  },
  {
   "cell_type": "markdown",
   "metadata": {},
   "source": [
    "<p style=\"text-align: justify;font-size: 16px\">Visualizando as estimativas dos parâmetros.</p>"
   ]
  },
  {
   "cell_type": "code",
   "execution_count": 4,
   "metadata": {},
   "outputs": [
    {
     "name": "stdout",
     "output_type": "stream",
     "text": [
      "(Intercept)    distConc    distLoja \n",
      "  2.5951177   0.1516029  -0.1090725 \n"
     ]
    }
   ],
   "source": [
    "print(beta)"
   ]
  },
  {
   "cell_type": "markdown",
   "metadata": {},
   "source": [
    "### 1.4 Executando o teste de Wald e calculando os intervalos de confiança manualmente"
   ]
  },
  {
   "cell_type": "markdown",
   "metadata": {},
   "source": [
    "<p style=\"text-align: justify; font-size:16px\">Gerando o vetor dos valores observados da resposta e a matriz design.</p>"
   ]
  },
  {
   "cell_type": "code",
   "execution_count": 5,
   "metadata": {},
   "outputs": [
    {
     "data": {
      "text/html": [
       "<table>\n",
       "<caption>A matrix: 6 × 3 of type dbl</caption>\n",
       "<thead>\n",
       "\t<tr><th scope=col></th><th scope=col>distConc</th><th scope=col>distLoja</th></tr>\n",
       "</thead>\n",
       "<tbody>\n",
       "\t<tr><td>1</td><td>3.04</td><td>6.32</td></tr>\n",
       "\t<tr><td>1</td><td>1.95</td><td>8.89</td></tr>\n",
       "\t<tr><td>1</td><td>6.54</td><td>2.05</td></tr>\n",
       "\t<tr><td>1</td><td>1.67</td><td>5.81</td></tr>\n",
       "\t<tr><td>1</td><td>0.72</td><td>8.11</td></tr>\n",
       "\t<tr><td>1</td><td>2.24</td><td>6.81</td></tr>\n",
       "</tbody>\n",
       "</table>\n"
      ],
      "text/latex": [
       "A matrix: 6 × 3 of type dbl\n",
       "\\begin{tabular}{lll}\n",
       "  & distConc & distLoja\\\\\n",
       "\\hline\n",
       "\t 1 & 3.04 & 6.32\\\\\n",
       "\t 1 & 1.95 & 8.89\\\\\n",
       "\t 1 & 6.54 & 2.05\\\\\n",
       "\t 1 & 1.67 & 5.81\\\\\n",
       "\t 1 & 0.72 & 8.11\\\\\n",
       "\t 1 & 2.24 & 6.81\\\\\n",
       "\\end{tabular}\n"
      ],
      "text/markdown": [
       "\n",
       "A matrix: 6 × 3 of type dbl\n",
       "\n",
       "| <!----> | distConc | distLoja |\n",
       "|---|---|---|\n",
       "| 1 | 3.04 | 6.32 |\n",
       "| 1 | 1.95 | 8.89 |\n",
       "| 1 | 6.54 | 2.05 |\n",
       "| 1 | 1.67 | 5.81 |\n",
       "| 1 | 0.72 | 8.11 |\n",
       "| 1 | 2.24 | 6.81 |\n",
       "\n"
      ],
      "text/plain": [
       "       distConc distLoja\n",
       "[1,] 1 3.04     6.32    \n",
       "[2,] 1 1.95     8.89    \n",
       "[3,] 1 6.54     2.05    \n",
       "[4,] 1 1.67     5.81    \n",
       "[5,] 1 0.72     8.11    \n",
       "[6,] 1 2.24     6.81    "
      ]
     },
     "metadata": {},
     "output_type": "display_data"
    }
   ],
   "source": [
    "y<-numClientes\n",
    "X<-cbind(distConc,distLoja)\n",
    "X<-cbind(1,X)\n",
    "colnames(X)<-c(\"\",\"distConc\",\"distLoja\")\n",
    "head(X)"
   ]
  },
  {
   "cell_type": "markdown",
   "metadata": {},
   "source": [
    "<p style=\"text-align: justify; font-size:16px\">A estatística de Wald é $T_{W_j}=\\frac{\\hat\\beta_j}{\\sqrt{\\widehat{Var(\\beta_j)}}}$, onde $\\widehat{Var(\\hat\\beta_j)}$ é o elemento $j+1$ da diagonal de $\\boldsymbol{K}^{\\ \\ \\ -1}_{\\boldsymbol{\\widehat\\beta}\\boldsymbol{\\widehat\\beta}}$. No caso da distribuição Poisson, com ligação canônica, tem-se (ver exemplo 2 da aula 5)\n",
    "    $$\\boldsymbol{K}_{\\boldsymbol{\\beta}\\boldsymbol{\\beta}}=X^TVX,\\ \\ \\ \\hbox{onde}\\ \\ \\ V=\\hbox{diag}\\{\\mu_1,\\cdots,\\mu_n\\}\\ \\ \\ \\hbox{e}\\ \\ \\ \\mu_i=e^{\\eta_i},\\quad\\forall\\ i\\in\\{1,\\cdots,n\\}.$$\n",
    "Logo, $\\boldsymbol{K}^{\\ \\ \\ -1}_{\\boldsymbol{\\widehat\\beta}\\boldsymbol{\\widehat\\beta}}=(X^T\\widehat{V}X)^{-1}$, com $\\boldsymbol{\\widehat\\beta}=\\hbox{diag}\\{\\hat\\mu_1,\\cdots\\hat\\mu_n\\}$ e $\\hat\\mu_i=e^{\\hat\\eta_i}$, $\\forall\\ i\\in\\{1,\\cdots,n\\}$.\n",
    "</p>"
   ]
  },
  {
   "cell_type": "markdown",
   "metadata": {},
   "source": [
    "<p style=\"text-align: justify;font-size: 16px\">Calculando $Var(\\beta_j)$, para cada $j\\in\\{0,1,\\cdots,p\\}$. O vetor <font face=\"'Courier New'\">betaVar</font> contém as variâncias calculadas.</p>"
   ]
  },
  {
   "cell_type": "code",
   "execution_count": 6,
   "metadata": {},
   "outputs": [],
   "source": [
    "eta<-as.numeric(X%*%beta) #Estimativa de máxima verossimilhança do preditor linear\n",
    "mu<-exp(eta) #Estimativa de máxima verossimilhança das médias\n",
    "V<-diag(mu) #Calculando a estimativa da matriz V das funções de variância\n",
    "Kbb<-t(X)%*%V%*%X #Calcuando Kbb\n",
    "KbbInv<-solve(Kbb) #Calcuando a inversa de Kbb\n",
    "betaVar<-diag(KbbInv) #Recolhendo a diagonal da inversa de Kbb, cujos valores correspondem às variâncias"
   ]
  },
  {
   "cell_type": "markdown",
   "metadata": {},
   "source": [
    "<p style=\"text-align: justify;font-size: 16px\">Visualizando os valores de $Var(\\beta_j)$, para cada $j\\in\\{0,1,\\cdots,p\\}$.</p>"
   ]
  },
  {
   "cell_type": "code",
   "execution_count": 7,
   "metadata": {},
   "outputs": [
    {
     "name": "stdout",
     "output_type": "stream",
     "text": [
      "                 distConc     distLoja \n",
      "0.0299638311 0.0006409421 0.0002441142 \n"
     ]
    }
   ],
   "source": [
    "print(betaVar)"
   ]
  },
  {
   "cell_type": "markdown",
   "metadata": {},
   "source": [
    "<p style=\"text-align: justify;font-size: 16px\">Calculando e visualizando os valores de $T_{W_j}$, para cada $j\\in\\{0,1,\\cdots,p\\}$.</p>"
   ]
  },
  {
   "cell_type": "code",
   "execution_count": 8,
   "metadata": {},
   "outputs": [
    {
     "name": "stdout",
     "output_type": "stream",
     "text": [
      "(Intercept)    distConc    distLoja \n",
      "  14.991959    5.988224   -6.981015 \n"
     ]
    }
   ],
   "source": [
    "tw<-beta/sqrt(betaVar)\n",
    "print(tw)"
   ]
  },
  {
   "cell_type": "markdown",
   "metadata": {},
   "source": [
    "<p style=\"text-align: justify;font-size: 16px\">Calculando e visualizando os p-valores do teste de Wald para avaliação da significância individual de $\\beta_j$, $j\\in\\{0,1,\\cdots,p\\}$.</p>"
   ]
  },
  {
   "cell_type": "code",
   "execution_count": 9,
   "metadata": {},
   "outputs": [
    {
     "name": "stdout",
     "output_type": "stream",
     "text": [
      " (Intercept)     distConc     distLoja \n",
      "0.000000e+00 2.121446e-09 2.930545e-12 \n"
     ]
    }
   ],
   "source": [
    "pvalor<-2*(1-pnorm(abs(tw)))\n",
    "print(pvalor)"
   ]
  },
  {
   "cell_type": "markdown",
   "metadata": {},
   "source": [
    "<p style=\"text-align: justify;font-size: 16px\">Tanto o p-valor correspondente ao coeficiente da variável <b>distConc</b>, quanto o p-valor correspondente ao coeficiente da variável <b>distLoja</b> são menores do que 5%. Portanto, ao nível de 5% significância, o teste de Wald indica que ambos os coeficientes são significativamente diferentes de zero.</p>"
   ]
  },
  {
   "cell_type": "markdown",
   "metadata": {},
   "source": [
    "<p style=\"text-align: justify;font-size: 16px\">Calculando e visualizando os intervalos de confiança, de acordo com a fórmula\n",
    "$$IC(\\beta_j;1-\\alpha)=\\left(\\hat\\beta_j-z_{\\left(1-\\frac{\\alpha}{2}\\right)}\\sqrt{\\widehat{Var(\\hat\\beta_j)}};\\ \\hat\\beta_j+z_{\\left(1-\\frac{\\alpha}{2}\\right)}\\sqrt{\\widehat{Var(\\hat\\beta_j)}}\\right).$$\n",
    "</p>"
   ]
  },
  {
   "cell_type": "code",
   "execution_count": 10,
   "metadata": {},
   "outputs": [
    {
     "name": "stdout",
     "output_type": "stream",
     "text": [
      "                  [,1]        [,2]\n",
      "(Intercept)  2.2558466  2.93438867\n",
      "distConc     0.1019828  0.20122295\n",
      "distLoja    -0.1396952 -0.07844968\n"
     ]
    }
   ],
   "source": [
    "alpha=0.05 #Valor de alpha correspondente ao intervalo com nível de confiança 1-alpha\n",
    "z<-qnorm(1-alpha/2) #Quantil de ordem 1-alpha/2 da distribuição N(0,1)\n",
    "IC<-cbind(beta-z*sqrt(betaVar),beta+z*sqrt(betaVar)) #Calculando os intervlos de confiança.\n",
    "print(IC)"
   ]
  },
  {
   "cell_type": "markdown",
   "metadata": {},
   "source": [
    "<p style=\"text-align: justify;font-size: 16px\">Os intervalos de confiança, com 95% de confiança, dos coeficientes das variáveis <b>distConc</b> e <b>distLoja</b> não contêm o valor 0. Pode-se concluir que, ao nível de 5% significância, o teste de Wald indica que ambos os coeficientes são significativamente diferentes de zero.</p>"
   ]
  },
  {
   "cell_type": "markdown",
   "metadata": {},
   "source": [
    "### 1.5 Executando o teste de Wald utilizando a função ``summary``."
   ]
  },
  {
   "cell_type": "markdown",
   "metadata": {},
   "source": [
    "<p style=\"text-align: justify;font-size: 16px\">A função <font face=\"'Courier New'\">summary</font> realiza o teste de Wald para avaliação da significância individual dos coeficientes de regressão. Os dois principais argumentos da função são os seguintes:</p>\n",
    "    <ol style=\"text-align: justify; font-size:16px\">\n",
    "        <li><font face=\"'Courier New'\">object</font>: modelo ajustado. Saída da função <font face=\"'Courier New'\">glm</font>.</li>\n",
    "        <li><font face=\"'Courier New'\">phi</font>: estimativa de máxima veroossimilhança de $\\phi$.</li>\n",
    "    </ol>\n",
    "</p>"
   ]
  },
  {
   "cell_type": "markdown",
   "metadata": {},
   "source": [
    "<p style=\"text-align: justify;font-size: 16px\">Não é preciso informar o parâmetro de dispersão, pois, como se sabe, no caso da distribuição de Poisson, o parâmetro de dispersão é constante e igual a 1.</p>"
   ]
  },
  {
   "cell_type": "code",
   "execution_count": 11,
   "metadata": {},
   "outputs": [
    {
     "data": {
      "text/plain": [
       "\n",
       "Call:\n",
       "glm(formula = numClientes ~ distConc + distLoja, family = poisson(link = \"log\"), \n",
       "    data = dados)\n",
       "\n",
       "Deviance Residuals: \n",
       "    Min       1Q   Median       3Q      Max  \n",
       "-3.3732  -0.7507  -0.1633   0.6388   2.7413  \n",
       "\n",
       "Coefficients:\n",
       "            Estimate Std. Error z value Pr(>|z|)    \n",
       "(Intercept)  2.59512    0.17310  14.992  < 2e-16 ***\n",
       "distConc     0.15160    0.02532   5.988 2.12e-09 ***\n",
       "distLoja    -0.10907    0.01562  -6.981 2.93e-12 ***\n",
       "---\n",
       "Signif. codes:  0 ‘***’ 0.001 ‘**’ 0.01 ‘*’ 0.05 ‘.’ 0.1 ‘ ’ 1\n",
       "\n",
       "(Dispersion parameter for poisson family taken to be 1)\n",
       "\n",
       "    Null deviance: 422.22  on 109  degrees of freedom\n",
       "Residual deviance: 149.33  on 107  degrees of freedom\n",
       "AIC: 599.37\n",
       "\n",
       "Number of Fisher Scoring iterations: 4\n"
      ]
     },
     "metadata": {},
     "output_type": "display_data"
    }
   ],
   "source": [
    "summary(object=aj)"
   ]
  },
  {
   "cell_type": "markdown",
   "metadata": {},
   "source": [
    "<p style=\"text-align: justify;font-size: 16px\">Para cada $j\\in\\{0,1,\\cdots,p\\}$, tem-se que\n",
    "        <ol style=\"text-align: justify; font-size:16px\">\n",
    "        <li>a coluna <font face=\"'Courier New'\">Estimate</font> contém o valor de $\\hat\\beta_j$;</li>\n",
    "        <li>a coluna <font face=\"'Courier New'\">Std. Error</font> contém o valor de $\\widehat{Var(\\hat\\beta_j)}$;</li>\n",
    "            <li>a coluna <font face=\"'Courier New'\">z value</font> contém o valor de $t_{W_j}$;</li>\n",
    "            <li>a coluna <font face=\"'Courier New'\">Pr(>|z|)</font> contém o p-valor do teste de Wald para $\\beta_j$.</li>\n",
    "    </ol>\n",
    "</p>"
   ]
  },
  {
   "cell_type": "markdown",
   "metadata": {},
   "source": [
    "<p style=\"text-align: justify;font-size: 16px\">Tanto o p-valor correspondente ao coeficiente da variável <b>distConc</b>, quanto o p-valor correspondente ao coeficiente da variável <b>distLoja</b> são menores do que 5%. Portanto, ao nível de 5% significância, o teste de Wald indica que ambos os coeficientes são significativamente diferentes de zero.</p>"
   ]
  },
  {
   "cell_type": "markdown",
   "metadata": {},
   "source": [
    "### 2.6 Calculando os intervalos de confiança utilizando a função ``confint.default``."
   ]
  },
  {
   "cell_type": "markdown",
   "metadata": {},
   "source": [
    "<p style=\"text-align: justify;font-size: 16px\">A função <font face=\"'Courier New'\">confint.default</font> calcula os intervalos de confiança para os coeficientes de regressão, aproximando a distribuição da quantidade $\\frac{\\hat\\beta_j-\\beta}{\\widehat{Var(\\hat\\beta_j)}}$ pela distribuição $N(0,1)$. Os dois principais argumentos dessa função são:</p>\n",
    "    <ol style=\"text-align: justify; font-size:16px\">\n",
    "        <li><font face=\"'Courier New'\">object</font>: modelo ajustado. Saída da função <font face=\"'Courier New'\">glm</font>.</li>\n",
    "        <li><font face=\"'Courier New'\">level</font>: confiança do intervalo. Valor de $1-\\alpha$.</li>\n",
    "    </ol>\n",
    "</p>"
   ]
  },
  {
   "cell_type": "code",
   "execution_count": 12,
   "metadata": {},
   "outputs": [
    {
     "data": {
      "text/html": [
       "<table>\n",
       "<caption>A matrix: 3 × 2 of type dbl</caption>\n",
       "<thead>\n",
       "\t<tr><th></th><th scope=col>2.5 %</th><th scope=col>97.5 %</th></tr>\n",
       "</thead>\n",
       "<tbody>\n",
       "\t<tr><th scope=row>(Intercept)</th><td> 2.2558475</td><td> 2.93438782</td></tr>\n",
       "\t<tr><th scope=row>distConc</th><td> 0.1019829</td><td> 0.20122282</td></tr>\n",
       "\t<tr><th scope=row>distLoja</th><td>-0.1396952</td><td>-0.07844973</td></tr>\n",
       "</tbody>\n",
       "</table>\n"
      ],
      "text/latex": [
       "A matrix: 3 × 2 of type dbl\n",
       "\\begin{tabular}{r|ll}\n",
       "  & 2.5 \\% & 97.5 \\%\\\\\n",
       "\\hline\n",
       "\t(Intercept) &  2.2558475 &  2.93438782\\\\\n",
       "\tdistConc &  0.1019829 &  0.20122282\\\\\n",
       "\tdistLoja & -0.1396952 & -0.07844973\\\\\n",
       "\\end{tabular}\n"
      ],
      "text/markdown": [
       "\n",
       "A matrix: 3 × 2 of type dbl\n",
       "\n",
       "| <!--/--> | 2.5 % | 97.5 % |\n",
       "|---|---|---|\n",
       "| (Intercept) |  2.2558475 |  2.93438782 |\n",
       "| distConc |  0.1019829 |  0.20122282 |\n",
       "| distLoja | -0.1396952 | -0.07844973 |\n",
       "\n"
      ],
      "text/plain": [
       "            2.5 %      97.5 %     \n",
       "(Intercept)  2.2558475  2.93438782\n",
       "distConc     0.1019829  0.20122282\n",
       "distLoja    -0.1396952 -0.07844973"
      ]
     },
     "metadata": {},
     "output_type": "display_data"
    }
   ],
   "source": [
    "confint.default(object=aj,level=0.95)"
   ]
  },
  {
   "cell_type": "markdown",
   "metadata": {},
   "source": [
    "<p style=\"text-align: justify;font-size: 16px\">Os intervalos de confiança, com 95% de confiança, dos coeficientes das variáveis <b>distConc</b> e <b>distLoja</b> não contêm o valor 0. Pode-se concluir que, ao nível de 5% significância, o teste de Wald indica que ambos os coeficientes são significativamente diferentes de zero.</p>"
   ]
  },
  {
   "cell_type": "code",
   "execution_count": null,
   "metadata": {},
   "outputs": [],
   "source": []
  }
 ],
 "metadata": {
  "kernelspec": {
   "display_name": "R",
   "language": "R",
   "name": "ir"
  },
  "language_info": {
   "codemirror_mode": "r",
   "file_extension": ".r",
   "mimetype": "text/x-r-source",
   "name": "R",
   "pygments_lexer": "r",
   "version": "3.6.3"
  }
 },
 "nbformat": 4,
 "nbformat_minor": 2
}
